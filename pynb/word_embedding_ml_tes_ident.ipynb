{
  "nbformat": 4,
  "nbformat_minor": 0,
  "metadata": {
    "kernelspec": {
      "display_name": "Python 3",
      "language": "python",
      "name": "python3"
    },
    "language_info": {
      "codemirror_mode": {
        "name": "ipython",
        "version": 3
      },
      "file_extension": ".py",
      "mimetype": "text/x-python",
      "name": "python",
      "nbconvert_exporter": "python",
      "pygments_lexer": "ipython3",
      "version": "3.7.3"
    },
    "colab": {
      "name": "word_embedding_ml_tes_ident.ipynb",
      "provenance": [],
      "collapsed_sections": [
        "o9lsmASm5wX8",
        "K6TOI6XZ5amh",
        "XbiD0bbqJIwP",
        "GAf1aqeuALKG",
        "7I16V0-siQXb",
        "iVh6Mjl_0N12",
        "w2EQjDtrajNz",
        "SxopGIunYPXi",
        "PI5PqIAAikGv",
        "Czroq8XTwusa",
        "R-0N54ovkYaY",
        "nK8AGmX5kbhQ",
        "1KThUPF-PdUG",
        "aEmQC8vaPw8G",
        "P3y8p6ExSvFQ",
        "Z4CAGjUlc6ep",
        "lM-IGffYxA65",
        "f-fhmddLKHjA"
      ],
      "machine_shape": "hm"
    },
    "accelerator": "GPU"
  },
  "cells": [
    {
      "cell_type": "markdown",
      "metadata": {
        "id": "bY3YqHIur_LV"
      },
      "source": [
        "# Mount drive"
      ]
    },
    {
      "cell_type": "code",
      "metadata": {
        "id": "HvAiADOH7Jxv",
        "colab": {
          "base_uri": "https://localhost:8080/"
        },
        "outputId": "c970aba0-d984-4331-d6b7-b3f975295fdd"
      },
      "source": [
        "from google.colab import drive\n",
        "drive.mount('/content/drive')"
      ],
      "execution_count": 20,
      "outputs": [
        {
          "output_type": "stream",
          "text": [
            "Drive already mounted at /content/drive; to attempt to forcibly remount, call drive.mount(\"/content/drive\", force_remount=True).\n"
          ],
          "name": "stdout"
        }
      ]
    },
    {
      "cell_type": "markdown",
      "metadata": {
        "id": "o9lsmASm5wX8"
      },
      "source": [
        "# Imports"
      ]
    },
    {
      "cell_type": "code",
      "metadata": {
        "id": "uAXuQ01cwSFU",
        "colab": {
          "base_uri": "https://localhost:8080/"
        },
        "outputId": "0f73a50c-1e7e-4dc7-a138-39384a212e55"
      },
      "source": [
        "%tensorflow_version 1.x\n",
        "!pip3 install tensorflow==1.15.2\n",
        "!pip3 install biopython\n",
        "import pandas as pd\n",
        "import numpy as np\n",
        "from numpy import array\n",
        "from numpy import argmax\n",
        "from Bio import SeqIO\n",
        "from sklearn.preprocessing import LabelEncoder\n",
        "from sklearn.preprocessing import OneHotEncoder\n",
        "import tensorflow as tf\n",
        "from tensorflow.keras.models import load_model\n",
        "from keras.preprocessing.sequence import pad_sequences\n",
        "from keras.callbacks import ModelCheckpoint\n",
        "from warnings import simplefilter\n",
        "import os\n",
        "import pickle\n",
        "import random\n",
        "\n",
        "simplefilter(action='ignore', category=FutureWarning)\n",
        "os.environ['TF_CPP_MIN_LOG_LEVEL'] = '3'\n",
        "# import sys\n",
        "# np.set_printoptions(threshold=sys.maxsize)"
      ],
      "execution_count": 21,
      "outputs": [
        {
          "output_type": "stream",
          "text": [
            "Requirement already satisfied: tensorflow==1.15.2 in /tensorflow-1.15.2/python3.6 (1.15.2)\n",
            "Requirement already satisfied: wrapt>=1.11.1 in /usr/local/lib/python3.6/dist-packages (from tensorflow==1.15.2) (1.12.1)\n",
            "Requirement already satisfied: tensorboard<1.16.0,>=1.15.0 in /tensorflow-1.15.2/python3.6 (from tensorflow==1.15.2) (1.15.0)\n",
            "Requirement already satisfied: tensorflow-estimator==1.15.1 in /tensorflow-1.15.2/python3.6 (from tensorflow==1.15.2) (1.15.1)\n",
            "Requirement already satisfied: opt-einsum>=2.3.2 in /usr/local/lib/python3.6/dist-packages (from tensorflow==1.15.2) (3.3.0)\n",
            "Requirement already satisfied: google-pasta>=0.1.6 in /usr/local/lib/python3.6/dist-packages (from tensorflow==1.15.2) (0.2.0)\n",
            "Requirement already satisfied: termcolor>=1.1.0 in /usr/local/lib/python3.6/dist-packages (from tensorflow==1.15.2) (1.1.0)\n",
            "Requirement already satisfied: absl-py>=0.7.0 in /usr/local/lib/python3.6/dist-packages (from tensorflow==1.15.2) (0.10.0)\n",
            "Requirement already satisfied: gast==0.2.2 in /usr/local/lib/python3.6/dist-packages (from tensorflow==1.15.2) (0.2.2)\n",
            "Requirement already satisfied: protobuf>=3.6.1 in /usr/local/lib/python3.6/dist-packages (from tensorflow==1.15.2) (3.12.4)\n",
            "Requirement already satisfied: keras-applications>=1.0.8 in /tensorflow-1.15.2/python3.6 (from tensorflow==1.15.2) (1.0.8)\n",
            "Requirement already satisfied: numpy<2.0,>=1.16.0 in /usr/local/lib/python3.6/dist-packages (from tensorflow==1.15.2) (1.19.5)\n",
            "Requirement already satisfied: grpcio>=1.8.6 in /usr/local/lib/python3.6/dist-packages (from tensorflow==1.15.2) (1.32.0)\n",
            "Requirement already satisfied: wheel>=0.26; python_version >= \"3\" in /usr/local/lib/python3.6/dist-packages (from tensorflow==1.15.2) (0.36.2)\n",
            "Requirement already satisfied: keras-preprocessing>=1.0.5 in /usr/local/lib/python3.6/dist-packages (from tensorflow==1.15.2) (1.1.2)\n",
            "Requirement already satisfied: astor>=0.6.0 in /usr/local/lib/python3.6/dist-packages (from tensorflow==1.15.2) (0.8.1)\n",
            "Requirement already satisfied: six>=1.10.0 in /usr/local/lib/python3.6/dist-packages (from tensorflow==1.15.2) (1.15.0)\n",
            "Requirement already satisfied: markdown>=2.6.8 in /usr/local/lib/python3.6/dist-packages (from tensorboard<1.16.0,>=1.15.0->tensorflow==1.15.2) (3.3.3)\n",
            "Requirement already satisfied: setuptools>=41.0.0 in /usr/local/lib/python3.6/dist-packages (from tensorboard<1.16.0,>=1.15.0->tensorflow==1.15.2) (53.0.0)\n",
            "Requirement already satisfied: werkzeug>=0.11.15 in /usr/local/lib/python3.6/dist-packages (from tensorboard<1.16.0,>=1.15.0->tensorflow==1.15.2) (1.0.1)\n",
            "Requirement already satisfied: h5py in /usr/local/lib/python3.6/dist-packages (from keras-applications>=1.0.8->tensorflow==1.15.2) (2.10.0)\n",
            "Requirement already satisfied: importlib-metadata; python_version < \"3.8\" in /usr/local/lib/python3.6/dist-packages (from markdown>=2.6.8->tensorboard<1.16.0,>=1.15.0->tensorflow==1.15.2) (3.4.0)\n",
            "Requirement already satisfied: typing-extensions>=3.6.4; python_version < \"3.8\" in /usr/local/lib/python3.6/dist-packages (from importlib-metadata; python_version < \"3.8\"->markdown>=2.6.8->tensorboard<1.16.0,>=1.15.0->tensorflow==1.15.2) (3.7.4.3)\n",
            "Requirement already satisfied: zipp>=0.5 in /usr/local/lib/python3.6/dist-packages (from importlib-metadata; python_version < \"3.8\"->markdown>=2.6.8->tensorboard<1.16.0,>=1.15.0->tensorflow==1.15.2) (3.4.0)\n",
            "Requirement already satisfied: biopython in /usr/local/lib/python3.6/dist-packages (1.78)\n",
            "Requirement already satisfied: numpy in /usr/local/lib/python3.6/dist-packages (from biopython) (1.19.5)\n"
          ],
          "name": "stdout"
        }
      ]
    },
    {
      "cell_type": "code",
      "metadata": {
        "id": "ebkX0iT7DwkH",
        "colab": {
          "base_uri": "https://localhost:8080/"
        },
        "outputId": "c2a1df72-b4c2-4300-944b-c0b788542730"
      },
      "source": [
        "print(tf.__version__)"
      ],
      "execution_count": 22,
      "outputs": [
        {
          "output_type": "stream",
          "text": [
            "1.15.2\n"
          ],
          "name": "stdout"
        }
      ]
    },
    {
      "cell_type": "markdown",
      "metadata": {
        "id": "K6TOI6XZ5amh"
      },
      "source": [
        "# Functions"
      ]
    },
    {
      "cell_type": "code",
      "metadata": {
        "id": "RJ1CRRoCwSFt"
      },
      "source": [
        "def fasta_frame(fasta_file,label):\n",
        "  identifiers = []\n",
        "  sequences = []\n",
        "  with open(fasta_file) as f_f:\n",
        "    for seq_record in SeqIO.parse(f_f, 'fasta'):\n",
        "        identifiers.append(seq_record.id)\n",
        "        sequences.append(seq_record.seq.lower())\n",
        "  s1 = pd.Series(identifiers, name='ID')\n",
        "  s2 = pd.Series(sequences, name='sequence')\n",
        "  fasta_frame = pd.DataFrame(dict(ID=s1, sequence=s2))\n",
        "  fasta_frame['label']=label\n",
        "  return(fasta_frame)\n",
        "\n",
        "def ohe_fun(coluna):\n",
        "  integer_encoder = LabelEncoder()  \n",
        "  one_hot_encoder = OneHotEncoder(categories='auto')   \n",
        "  input_features = []\n",
        "\n",
        "  for linha in coluna[coluna.columns[1]]:\n",
        "    integer_encoded = integer_encoder.fit_transform(list(linha))\n",
        "    integer_encoded = np.array(integer_encoded).reshape(-1, 1)\n",
        "    one_hot_encoded = one_hot_encoder.fit_transform(integer_encoded)\n",
        "    input_features.append(one_hot_encoded.toarray())\n",
        "  input_features=pad_sequences(input_features, padding='post')\n",
        "  input_features = np.stack(input_features)\n",
        "  return(input_features)\n",
        "\n",
        "def flatten_sequence(pred_fasta_flat):\n",
        "  dimensoes=pred_fasta_flat.shape\n",
        "  n_samples=dimensoes[0]\n",
        "  n_x=dimensoes[1]\n",
        "  n_y=dimensoes[2]\n",
        "  n_xy=(n_x * n_y)\n",
        "  pred_fasta_flat=pred_fasta_flat.reshape(n_samples,n_xy)\n",
        "  return(pred_fasta_flat)"
      ],
      "execution_count": 23,
      "outputs": []
    },
    {
      "cell_type": "markdown",
      "metadata": {
        "id": "qgg1qBVzovJe"
      },
      "source": [
        "# Seeds"
      ]
    },
    {
      "cell_type": "code",
      "metadata": {
        "id": "ubo_Ms0foz7A"
      },
      "source": [
        "SEED = 13\n",
        "tf.compat.v1.random.set_random_seed(SEED)\n",
        "np.random.seed(SEED)\n",
        "random.seed(SEED)"
      ],
      "execution_count": 24,
      "outputs": []
    },
    {
      "cell_type": "markdown",
      "metadata": {
        "id": "0D2EbwMJ5rHy"
      },
      "source": [
        "# Preprocessing"
      ]
    },
    {
      "cell_type": "code",
      "metadata": {
        "id": "-_Fdz_7-wSF2",
        "colab": {
          "base_uri": "https://localhost:8080/",
          "height": 206
        },
        "outputId": "988fc327-9319-4078-a64c-d1e83489fb3d"
      },
      "source": [
        "te_frame = fasta_frame('/content/drive/My Drive/fastas/db_te_new_training_dataset.fasta','TE')\n",
        "rd_frame = fasta_frame('/content/drive/My Drive/fastas/tds00_danio_rerio_ncrna.fasta','NT')\n",
        "s_f = [rd_frame,te_frame]\n",
        "seq_df = pd.concat(s_f,ignore_index=True)\n",
        "pd.set_option('display.max_rows', len(seq_df))\n",
        "seq_df.sample(10)"
      ],
      "execution_count": null,
      "outputs": [
        {
          "output_type": "execute_result",
          "data": {
            "text/html": [
              "<div>\n",
              "<style scoped>\n",
              "    .dataframe tbody tr th:only-of-type {\n",
              "        vertical-align: middle;\n",
              "    }\n",
              "\n",
              "    .dataframe tbody tr th {\n",
              "        vertical-align: top;\n",
              "    }\n",
              "\n",
              "    .dataframe thead th {\n",
              "        text-align: right;\n",
              "    }\n",
              "</style>\n",
              "<table border=\"1\" class=\"dataframe\">\n",
              "  <thead>\n",
              "    <tr style=\"text-align: right;\">\n",
              "      <th></th>\n",
              "      <th>ID</th>\n",
              "      <th>sequence</th>\n",
              "      <th>label</th>\n",
              "    </tr>\n",
              "  </thead>\n",
              "  <tbody>\n",
              "    <tr>\n",
              "      <th>14181</th>\n",
              "      <td>GYPSY-28_DAN-I_GYPSY_DROSOPHILA_ANANASSAE</td>\n",
              "      <td>(a, a, a, t, t, t, t, t, t, t, t, t, t, t, a, ...</td>\n",
              "      <td>TE</td>\n",
              "    </tr>\n",
              "    <tr>\n",
              "      <th>14182</th>\n",
              "      <td>HAT-N14C_OS_HAT_ORYZA_SATIVA</td>\n",
              "      <td>(t, a, g, g, g, c, t, g, t, c, a, a, a, a, a, ...</td>\n",
              "      <td>TE</td>\n",
              "    </tr>\n",
              "    <tr>\n",
              "      <th>14183</th>\n",
              "      <td>MARINER-5_DAN_MARINER/TC1_DROSOPHILA_ANANASSAE</td>\n",
              "      <td>(c, a, c, t, c, a, t, g, g, a, c, a, a, a, a, ...</td>\n",
              "      <td>TE</td>\n",
              "    </tr>\n",
              "    <tr>\n",
              "      <th>14184</th>\n",
              "      <td>GYPSY-27_DP-I_GYPSY_DROSOPHILA_PERSIMILIS</td>\n",
              "      <td>(a, c, t, t, c, a, g, a, a, g, t, g, g, g, a, ...</td>\n",
              "      <td>TE</td>\n",
              "    </tr>\n",
              "    <tr>\n",
              "      <th>14185</th>\n",
              "      <td>BAJIELTR_LTR_RETROTRANSPOSON_ORYZA_SATIVA</td>\n",
              "      <td>(t, g, t, t, a, g, g, g, t, t, a, t, g, g, a, ...</td>\n",
              "      <td>TE</td>\n",
              "    </tr>\n",
              "  </tbody>\n",
              "</table>\n",
              "</div>"
            ],
            "text/plain": [
              "                                                   ID  ... label\n",
              "14181       GYPSY-28_DAN-I_GYPSY_DROSOPHILA_ANANASSAE  ...    TE\n",
              "14182                    HAT-N14C_OS_HAT_ORYZA_SATIVA  ...    TE\n",
              "14183  MARINER-5_DAN_MARINER/TC1_DROSOPHILA_ANANASSAE  ...    TE\n",
              "14184       GYPSY-27_DP-I_GYPSY_DROSOPHILA_PERSIMILIS  ...    TE\n",
              "14185       BAJIELTR_LTR_RETROTRANSPOSON_ORYZA_SATIVA  ...    TE\n",
              "\n",
              "[5 rows x 3 columns]"
            ]
          },
          "metadata": {
            "tags": []
          },
          "execution_count": 11
        }
      ]
    },
    {
      "cell_type": "markdown",
      "metadata": {
        "id": "J_UlNizZq-7D"
      },
      "source": [
        "**Save data frame to file**"
      ]
    },
    {
      "cell_type": "code",
      "metadata": {
        "id": "WzGmecE4keQa"
      },
      "source": [
        "#seq_df.to_csv('/content/drive/My Drive/ml_df_train_set_Nadd.csv', index = False)"
      ],
      "execution_count": null,
      "outputs": []
    },
    {
      "cell_type": "markdown",
      "metadata": {
        "id": "fFKyk--qOphL"
      },
      "source": [
        "**Load saved data frame**"
      ]
    },
    {
      "cell_type": "code",
      "metadata": {
        "id": "6-oCBmIIUaKF"
      },
      "source": [
        "seq_df = pd.read_csv('/content/drive/My Drive/ml_df_train_set_00.01.csv')"
      ],
      "execution_count": null,
      "outputs": []
    },
    {
      "cell_type": "code",
      "metadata": {
        "id": "-2v6eaiZZxaA"
      },
      "source": [
        "seq_df = pd.read_csv('/content/drive/My Drive/nadd_ml_df_train_set_00.01.csv')"
      ],
      "execution_count": null,
      "outputs": []
    },
    {
      "cell_type": "code",
      "metadata": {
        "id": "X6fL_J3pZqrL"
      },
      "source": [
        "seq_df = pd.read_csv('/content/drive/My Drive/tds_nadd_02.01.csv')"
      ],
      "execution_count": null,
      "outputs": []
    },
    {
      "cell_type": "code",
      "metadata": {
        "id": "5edi2uZCAd57"
      },
      "source": [
        "seq_df = pd.read_csv('/content/drive/My Drive/tds_feats_nadd_02.01.csv')"
      ],
      "execution_count": null,
      "outputs": []
    },
    {
      "cell_type": "code",
      "metadata": {
        "id": "ec-c9ibfiCVX"
      },
      "source": [
        "seq_df = pd.read_csv('/content/drive/My Drive/db_te_classified_beta.csv')"
      ],
      "execution_count": 25,
      "outputs": []
    },
    {
      "cell_type": "code",
      "metadata": {
        "id": "wTqaZ2w2bd4q",
        "colab": {
          "base_uri": "https://localhost:8080/",
          "height": 424
        },
        "outputId": "fd337a37-7ef3-4223-bbf6-dc551a3f103c"
      },
      "source": [
        "seq_df"
      ],
      "execution_count": 26,
      "outputs": [
        {
          "output_type": "execute_result",
          "data": {
            "text/html": [
              "<div>\n",
              "<style scoped>\n",
              "    .dataframe tbody tr th:only-of-type {\n",
              "        vertical-align: middle;\n",
              "    }\n",
              "\n",
              "    .dataframe tbody tr th {\n",
              "        vertical-align: top;\n",
              "    }\n",
              "\n",
              "    .dataframe thead th {\n",
              "        text-align: right;\n",
              "    }\n",
              "</style>\n",
              "<table border=\"1\" class=\"dataframe\">\n",
              "  <thead>\n",
              "    <tr style=\"text-align: right;\">\n",
              "      <th></th>\n",
              "      <th>id</th>\n",
              "      <th>class</th>\n",
              "      <th>order</th>\n",
              "      <th>family</th>\n",
              "      <th>score</th>\n",
              "      <th>species</th>\n",
              "      <th>sequence</th>\n",
              "      <th>length</th>\n",
              "    </tr>\n",
              "  </thead>\n",
              "  <tbody>\n",
              "    <tr>\n",
              "      <th>0</th>\n",
              "      <td>5S</td>\n",
              "      <td>Retro</td>\n",
              "      <td>SINE</td>\n",
              "      <td>5S</td>\n",
              "      <td>844</td>\n",
              "      <td>Homo sapiens</td>\n",
              "      <td>GTCTACTGCCATACCACCCTGAACACGCCCGATCTCATCTGATCTT...</td>\n",
              "      <td>120</td>\n",
              "    </tr>\n",
              "    <tr>\n",
              "      <th>1</th>\n",
              "      <td>5S-Sauria</td>\n",
              "      <td>Retro</td>\n",
              "      <td>SINE</td>\n",
              "      <td>5S</td>\n",
              "      <td>3230</td>\n",
              "      <td>Anolis carolinensis</td>\n",
              "      <td>GCCTACGGCCATACCACCCTGAACACGCCCGATCTCGTCTGATCTC...</td>\n",
              "      <td>348</td>\n",
              "    </tr>\n",
              "    <tr>\n",
              "      <th>2</th>\n",
              "      <td>5S_CPo</td>\n",
              "      <td>Retro</td>\n",
              "      <td>SINE</td>\n",
              "      <td>5S</td>\n",
              "      <td>1017</td>\n",
              "      <td>Cavia porcellus</td>\n",
              "      <td>GTCTACGGCCATACCACCCTGAACGCGCCCGATCTCGTCTGATCTC...</td>\n",
              "      <td>138</td>\n",
              "    </tr>\n",
              "    <tr>\n",
              "      <th>3</th>\n",
              "      <td>AACOPIA1_I</td>\n",
              "      <td>Retro</td>\n",
              "      <td>LTR</td>\n",
              "      <td>Copia</td>\n",
              "      <td>38433</td>\n",
              "      <td>Aedes aegypti</td>\n",
              "      <td>GGTGATGGGCCCAGCGCAAGGCCCCCGCGGGATTTGTGAAAGTGAA...</td>\n",
              "      <td>4110</td>\n",
              "    </tr>\n",
              "    <tr>\n",
              "      <th>4</th>\n",
              "      <td>AACOPIA1_LTR</td>\n",
              "      <td>Retro</td>\n",
              "      <td>LTR</td>\n",
              "      <td>Copia</td>\n",
              "      <td>2518</td>\n",
              "      <td>Aedes aegypti</td>\n",
              "      <td>TGTGGAGAATGCATCGGTGTACCCCTTCACTACTGCACGAATACCC...</td>\n",
              "      <td>270</td>\n",
              "    </tr>\n",
              "    <tr>\n",
              "      <th>...</th>\n",
              "      <td>...</td>\n",
              "      <td>...</td>\n",
              "      <td>...</td>\n",
              "      <td>...</td>\n",
              "      <td>...</td>\n",
              "      <td>...</td>\n",
              "      <td>...</td>\n",
              "      <td>...</td>\n",
              "    </tr>\n",
              "    <tr>\n",
              "      <th>47249</th>\n",
              "      <td>rn_364-201_LTR</td>\n",
              "      <td>Retro</td>\n",
              "      <td>LTR</td>\n",
              "      <td>Gypsy</td>\n",
              "      <td>10061</td>\n",
              "      <td>Oryza sativa</td>\n",
              "      <td>TGTAACAGCCCTAGGTTCATAACCAGGTATTTAGAAGTGCTTTTGT...</td>\n",
              "      <td>3868</td>\n",
              "    </tr>\n",
              "    <tr>\n",
              "      <th>47250</th>\n",
              "      <td>rn_364-201_LTR</td>\n",
              "      <td>Retro</td>\n",
              "      <td>LTR</td>\n",
              "      <td>Gypsy</td>\n",
              "      <td>10061</td>\n",
              "      <td>Oryza sativa</td>\n",
              "      <td>TGTAACAGCCCTAGGTTCATAACCAGGTATTTAGAAGTGTATTTGT...</td>\n",
              "      <td>1138</td>\n",
              "    </tr>\n",
              "    <tr>\n",
              "      <th>47251</th>\n",
              "      <td>tRNA-Lys-AAG</td>\n",
              "      <td>Retro</td>\n",
              "      <td>LTR</td>\n",
              "      <td>Gypsy</td>\n",
              "      <td>685</td>\n",
              "      <td>Vertebrata</td>\n",
              "      <td>GCCCGGCTAGCTCAGTCGGTAGAGCATGAGACTCTTAATCTCAGGG...</td>\n",
              "      <td>76</td>\n",
              "    </tr>\n",
              "    <tr>\n",
              "      <th>47252</th>\n",
              "      <td>tSINE_Fc</td>\n",
              "      <td>Retro</td>\n",
              "      <td>SINE</td>\n",
              "      <td>tRNA</td>\n",
              "      <td>988</td>\n",
              "      <td>Felis catus</td>\n",
              "      <td>GGGGCGCCTGGCTGGCTCAGTCGGTAGAGCATGCGACTCTTGATCT...</td>\n",
              "      <td>110</td>\n",
              "    </tr>\n",
              "    <tr>\n",
              "      <th>47253</th>\n",
              "      <td>twinID-Spe</td>\n",
              "      <td>Retro</td>\n",
              "      <td>SINE</td>\n",
              "      <td>ID</td>\n",
              "      <td>1767</td>\n",
              "      <td>Spermophilus</td>\n",
              "      <td>GGGGCTGGGGTTGTAGCTCAGTGGTAGAGCACTTGTCTAACATGTG...</td>\n",
              "      <td>189</td>\n",
              "    </tr>\n",
              "  </tbody>\n",
              "</table>\n",
              "<p>47254 rows × 8 columns</p>\n",
              "</div>"
            ],
            "text/plain": [
              "                   id  ... length\n",
              "0                  5S  ...    120\n",
              "1           5S-Sauria  ...    348\n",
              "2              5S_CPo  ...    138\n",
              "3          AACOPIA1_I  ...   4110\n",
              "4        AACOPIA1_LTR  ...    270\n",
              "...               ...  ...    ...\n",
              "47249  rn_364-201_LTR  ...   3868\n",
              "47250  rn_364-201_LTR  ...   1138\n",
              "47251    tRNA-Lys-AAG  ...     76\n",
              "47252        tSINE_Fc  ...    110\n",
              "47253      twinID-Spe  ...    189\n",
              "\n",
              "[47254 rows x 8 columns]"
            ]
          },
          "metadata": {
            "tags": []
          },
          "execution_count": 26
        }
      ]
    },
    {
      "cell_type": "code",
      "metadata": {
        "id": "MdZNz8T2TRLi"
      },
      "source": [
        "seq_df['multi']=seq_df['label'].map(str)+';'+seq_df['class'].map(str)+';'+seq_df['family'].map(str)\n",
        "seq_df"
      ],
      "execution_count": null,
      "outputs": []
    },
    {
      "cell_type": "code",
      "metadata": {
        "id": "EqwCkSuJTT5l",
        "colab": {
          "base_uri": "https://localhost:8080/"
        },
        "outputId": "9ff216b8-0be1-4c50-9905-46434b65e3cf"
      },
      "source": [
        "seq_df.shape"
      ],
      "execution_count": 27,
      "outputs": [
        {
          "output_type": "execute_result",
          "data": {
            "text/plain": [
              "(47254, 8)"
            ]
          },
          "metadata": {
            "tags": []
          },
          "execution_count": 27
        }
      ]
    },
    {
      "cell_type": "code",
      "metadata": {
        "id": "r7wQHqpYAMFA"
      },
      "source": [
        "seq_df = seq_df.loc[~seq_df['id'].str.contains('ENSDART')]\n",
        "seq_df"
      ],
      "execution_count": null,
      "outputs": []
    },
    {
      "cell_type": "code",
      "metadata": {
        "id": "RCNejTzmRJmN"
      },
      "source": [
        "seq_df.loc[seq_df['class']=='DNA']['family'].value_counts()"
      ],
      "execution_count": null,
      "outputs": []
    },
    {
      "cell_type": "code",
      "metadata": {
        "colab": {
          "base_uri": "https://localhost:8080/"
        },
        "id": "r9EBMRpJAyl7",
        "outputId": "81ea5ef9-4bac-46ec-e108-780d13de976d"
      },
      "source": [
        "seq_df['class'].value_counts()"
      ],
      "execution_count": 28,
      "outputs": [
        {
          "output_type": "execute_result",
          "data": {
            "text/plain": [
              "Retro    33883\n",
              "DNA      13371\n",
              "Name: class, dtype: int64"
            ]
          },
          "metadata": {
            "tags": []
          },
          "execution_count": 28
        }
      ]
    },
    {
      "cell_type": "code",
      "metadata": {
        "colab": {
          "base_uri": "https://localhost:8080/"
        },
        "id": "k6Bey-xwiTCc",
        "outputId": "c2fcb332-1e36-4127-9dda-8f8c2762b7c4"
      },
      "source": [
        "seq_df['order'].value_counts()"
      ],
      "execution_count": 30,
      "outputs": [
        {
          "output_type": "execute_result",
          "data": {
            "text/plain": [
              "LTR         25655\n",
              "TIR         11946\n",
              "LINE         6588\n",
              "dnaSC2       1164\n",
              "SINE          714\n",
              "Penelope      509\n",
              "DIRS          417\n",
              "Crypton       261\n",
              "Name: order, dtype: int64"
            ]
          },
          "metadata": {
            "tags": []
          },
          "execution_count": 30
        }
      ]
    },
    {
      "cell_type": "code",
      "metadata": {
        "colab": {
          "base_uri": "https://localhost:8080/"
        },
        "id": "IUNzJeiuPJrX",
        "outputId": "a6480284-26d9-4ce0-aaf6-3c34f6ac6112"
      },
      "source": [
        "seq_df['family'].value_counts()"
      ],
      "execution_count": 29,
      "outputs": [
        {
          "output_type": "execute_result",
          "data": {
            "text/plain": [
              "Gypsy       11663\n",
              "Copia        7099\n",
              "hAT          3456\n",
              "TcMar        2855\n",
              "ERV1         2485\n",
              "            ...  \n",
              "Deceiver        4\n",
              "Genie           3\n",
              "TRIM            2\n",
              "R4              2\n",
              "Ceph            2\n",
              "Name: family, Length: 64, dtype: int64"
            ]
          },
          "metadata": {
            "tags": []
          },
          "execution_count": 29
        }
      ]
    },
    {
      "cell_type": "code",
      "metadata": {
        "id": "7CIU1wEoUQD_"
      },
      "source": [
        "seq_df['multi'].unique()"
      ],
      "execution_count": null,
      "outputs": []
    },
    {
      "cell_type": "markdown",
      "metadata": {
        "id": "5pWtRXgnrkK5"
      },
      "source": [
        "**Transform sequences and labels**"
      ]
    },
    {
      "cell_type": "code",
      "metadata": {
        "id": "8je5pJOvQwpm"
      },
      "source": [
        "x_sequence_arrays = ohe_fun(seq_df)\n",
        "x_flat_2d = flatten_sequence(x_sequence_arrays)\n",
        "y_str = seq_df['label']"
      ],
      "execution_count": null,
      "outputs": []
    },
    {
      "cell_type": "markdown",
      "metadata": {
        "id": "vx5k10Tw8Pf4"
      },
      "source": [
        "**Word embedding**"
      ]
    },
    {
      "cell_type": "code",
      "metadata": {
        "colab": {
          "base_uri": "https://localhost:8080/"
        },
        "id": "fS3TK-J38O-v",
        "outputId": "a26dcae4-c983-4da2-9116-a4b9dfb49b4d"
      },
      "source": [
        "from keras.preprocessing.text import Tokenizer\n",
        "tokenizer = Tokenizer(num_words=None,split=' ', char_level=True, lower=True)\n",
        "sequencias = seq_df['sequence']\n",
        "tokenizer.fit_on_texts(sequencias)\n",
        "\n",
        "print(tokenizer.word_counts)\n",
        "print(tokenizer.document_count)\n",
        "print(tokenizer.word_index)\n",
        "print(tokenizer.word_docs)\n",
        "vocab_size = len(tokenizer.word_index) + 1\n",
        "print(vocab_size)\n",
        "x_sequence_arrays = tokenizer.texts_to_sequences(sequencias)"
      ],
      "execution_count": 31,
      "outputs": [
        {
          "output_type": "stream",
          "text": [
            "OrderedDict([('g', 30503915), ('t', 36630158), ('c', 29570600), ('a', 40635369), ('n', 201517), ('x', 27717)])\n",
            "47254\n",
            "{'a': 1, 't': 2, 'g': 3, 'c': 4, 'n': 5, 'x': 6}\n",
            "defaultdict(<class 'int'>, {'g': 47254, 'c': 47254, 'a': 47254, 't': 47254, 'n': 15722, 'x': 163})\n",
            "7\n"
          ],
          "name": "stdout"
        }
      ]
    },
    {
      "cell_type": "code",
      "metadata": {
        "colab": {
          "base_uri": "https://localhost:8080/"
        },
        "id": "Bc2hlFIQ9N3q",
        "outputId": "89486dc7-3c10-4f46-d7e4-b7393a6c4ca0"
      },
      "source": [
        "print(sequencias[2])\n",
        "print(x_sequence_arrays[2])"
      ],
      "execution_count": 32,
      "outputs": [
        {
          "output_type": "stream",
          "text": [
            "GTCTACGGCCATACCACCCTGAACGCGCCCGATCTCGTCTGATCTCGGAAGCTAAGCAGGGTCGGGCCTGGTTAGTACTTGGATGGGAGACCGCCTGGGAATACCGGGTGCTGTAGGCTTTAAAAAAAAAAAAAAAAA\n",
            "[3, 2, 4, 2, 1, 4, 3, 3, 4, 4, 1, 2, 1, 4, 4, 1, 4, 4, 4, 2, 3, 1, 1, 4, 3, 4, 3, 4, 4, 4, 3, 1, 2, 4, 2, 4, 3, 2, 4, 2, 3, 1, 2, 4, 2, 4, 3, 3, 1, 1, 3, 4, 2, 1, 1, 3, 4, 1, 3, 3, 3, 2, 4, 3, 3, 3, 4, 4, 2, 3, 3, 2, 2, 1, 3, 2, 1, 4, 2, 2, 3, 3, 1, 2, 3, 3, 3, 1, 3, 1, 4, 4, 3, 4, 4, 2, 3, 3, 3, 1, 1, 2, 1, 4, 4, 3, 3, 3, 2, 3, 4, 2, 3, 2, 1, 3, 3, 4, 2, 2, 2, 1, 1, 1, 1, 1, 1, 1, 1, 1, 1, 1, 1, 1, 1, 1, 1, 1]\n"
          ],
          "name": "stdout"
        }
      ]
    },
    {
      "cell_type": "code",
      "metadata": {
        "id": "7SdKkJO2C1Dt",
        "colab": {
          "base_uri": "https://localhost:8080/"
        },
        "outputId": "228bb546-cb2d-451c-e085-9286cb59712a"
      },
      "source": [
        "# integer encode documents\n",
        "encoded_docs = tokenizer.texts_to_matrix(sequencias, mode='count')\n",
        "print(encoded_docs)"
      ],
      "execution_count": 33,
      "outputs": [
        {
          "output_type": "stream",
          "text": [
            "[[ 0. 25. 27. ... 31.  0.  0.]\n",
            " [ 0. 83. 71. ... 96.  0.  0.]\n",
            " [ 0. 39. 27. ... 33.  0.  0.]\n",
            " ...\n",
            " [ 0. 13. 16. ... 22.  0.  0.]\n",
            " [ 0. 27. 29. ... 21.  0.  0.]\n",
            " [ 0. 54. 45. ... 36.  0.  0.]]\n"
          ],
          "name": "stdout"
        }
      ]
    },
    {
      "cell_type": "code",
      "metadata": {
        "colab": {
          "base_uri": "https://localhost:8080/"
        },
        "id": "BZB6-_V79c45",
        "outputId": "9f0e3a39-c168-4f4e-bd47-1452e14517cf"
      },
      "source": [
        "from keras.preprocessing.sequence import pad_sequences\n",
        "padded_seqs = pad_sequences(x_sequence_arrays, padding='post')\n",
        "padded_seqs[2,:]"
      ],
      "execution_count": 34,
      "outputs": [
        {
          "output_type": "execute_result",
          "data": {
            "text/plain": [
              "array([3, 2, 4, ..., 0, 0, 0], dtype=int32)"
            ]
          },
          "metadata": {
            "tags": []
          },
          "execution_count": 34
        }
      ]
    },
    {
      "cell_type": "code",
      "metadata": {
        "id": "_G8py9cx95dR",
        "colab": {
          "base_uri": "https://localhost:8080/"
        },
        "outputId": "837afad2-4b75-425f-833a-b6019136e1dd"
      },
      "source": [
        "y_str = seq_df['order']\n",
        "y_str"
      ],
      "execution_count": null,
      "outputs": [
        {
          "output_type": "execute_result",
          "data": {
            "text/plain": [
              "0       DNA\n",
              "1       LTR\n",
              "2       LTR\n",
              "3       LTR\n",
              "4       LTR\n",
              "       ... \n",
              "7533    LTR\n",
              "7534    LTR\n",
              "7535    LTR\n",
              "7536    LTR\n",
              "7537    LTR\n",
              "Name: class, Length: 7538, dtype: object"
            ]
          },
          "metadata": {
            "tags": []
          },
          "execution_count": 26
        }
      ]
    },
    {
      "cell_type": "markdown",
      "metadata": {
        "id": "XbiD0bbqJIwP"
      },
      "source": [
        "### Find dataframe's longest sequence"
      ]
    },
    {
      "cell_type": "code",
      "metadata": {
        "id": "fRxEymoICyDz",
        "colab": {
          "base_uri": "https://localhost:8080/"
        },
        "outputId": "d23b2f68-f12f-492a-80df-465180ca051f"
      },
      "source": [
        "ll_index = seq_df.sequence.map(len).idxmax()\n",
        "longest_len = seq_df.sequence.map(len).max()\n",
        "longest_len_id = seq_df.iloc[ll_index]\n",
        "longest_len_id = list(longest_len_id)[0]\n",
        "# Print result\n",
        "print(f\"Index: {ll_index}, ID: {longest_len_id}, Length: {longest_len}\")"
      ],
      "execution_count": null,
      "outputs": [
        {
          "output_type": "stream",
          "text": [
            "Index: 7809, ID: Helitron-2_DR\tHelitron\tDanio rerio seq1, Length: 27418\n"
          ],
          "name": "stdout"
        }
      ]
    },
    {
      "cell_type": "markdown",
      "metadata": {
        "id": "GAf1aqeuALKG"
      },
      "source": [
        "# Baseline algorithm"
      ]
    },
    {
      "cell_type": "code",
      "metadata": {
        "id": "zaghimheAVlY",
        "colab": {
          "base_uri": "https://localhost:8080/"
        },
        "outputId": "8e124e64-44e5-497e-88c3-184012165228"
      },
      "source": [
        "# Set baseline\n",
        "from sklearn.model_selection import train_test_split\n",
        "from sklearn.dummy import DummyClassifier\n",
        "\n",
        "x_train, x_test, y_train, y_test = train_test_split(padded_seqs, \n",
        "                                                    y_str,\n",
        "                                                    test_size = 0.20, \n",
        "                                                    random_state = 13,\n",
        "                                                    stratify = y_str)\n",
        "\n",
        "SEED=13\n",
        "np.random.seed(SEED)\n",
        "dummy_stratified = DummyClassifier()\n",
        "dummy_stratified.fit(x_train, y_train)\n",
        "acuracia = dummy_stratified.score(x_test, y_test) * 100\n",
        "\n",
        "print(\"A acurácia do dummy stratified foi {:.2f}%\".format(acuracia))"
      ],
      "execution_count": null,
      "outputs": [
        {
          "output_type": "stream",
          "text": [
            "A acurácia do dummy stratified foi 50.70%\n"
          ],
          "name": "stdout"
        }
      ]
    },
    {
      "cell_type": "markdown",
      "metadata": {
        "id": "7I16V0-siQXb"
      },
      "source": [
        "# Random Forest & GBC"
      ]
    },
    {
      "cell_type": "code",
      "metadata": {
        "id": "TtcEj41FiUup"
      },
      "source": [
        "from sklearn.model_selection import train_test_split\n",
        "\n",
        "\n",
        "x_train, x_test, y_train, y_test = train_test_split(x_flat_2d, \n",
        "                                                    y_str,\n",
        "                                                    test_size = 0.20, \n",
        "                                                    random_state = 42,\n",
        "                                                    stratify = y_str)\n",
        "\n",
        "# print(x_flat_2d.shape)\n",
        "# print(y.shape)\n",
        "# print(x_train.shape)\n",
        "# print(x_test.shape)\n",
        "# print(y_train.shape)\n",
        "# print(y_test.shape)"
      ],
      "execution_count": null,
      "outputs": []
    },
    {
      "cell_type": "markdown",
      "metadata": {
        "id": "iVh6Mjl_0N12"
      },
      "source": [
        "#### Hyperparameter testing"
      ]
    },
    {
      "cell_type": "code",
      "metadata": {
        "id": "iJ_Qhlma0Wqp"
      },
      "source": [
        "from sklearn.model_selection import RandomizedSearchCV\n",
        "from sklearn.ensemble import RandomForestClassifier\n",
        "\n",
        "SEED=13\n",
        "np.random.seed(SEED)\n",
        "\n",
        "# Number of trees in random forest\n",
        "n_estimators = [75,100,125]\n",
        "# Number of features to consider at every split\n",
        "max_features = [10000, 20000]\n",
        "# Maximum number of levels in tree\n",
        "max_depth = [None,2,5]\n",
        "# Minimum number of samples required to split a node\n",
        "min_samples_split = [2, 5, 10, 15]\n",
        "# Minimum number of samples required at each leaf node\n",
        "min_samples_leaf = [1, 2, 4]\n",
        "# Method of selecting samples for training each tree\n",
        "bootstrap = [True, False]\n",
        "# Criterion\n",
        "criterion = ['gini','entropy']\n",
        "# Oob score\n",
        "oob_score = [True, False]\n",
        "# Create the random grid\n",
        "random_grid = {#'n_estimators': n_estimators,\n",
        "               'criterion': criterion,\n",
        "               #'max_features': max_features,\n",
        "               #'max_depth': max_depth,\n",
        "               'min_samples_split': min_samples_split,\n",
        "               'min_samples_leaf': min_samples_leaf,\n",
        "               'bootstrap': bootstrap,\n",
        "               'oob_score': oob_score}\n",
        "print(random_grid)\n",
        "\n",
        "# Use the random grid to search for best hyperparameters\n",
        "# First create the base model to tune\n",
        "rf = RandomForestClassifier()\n",
        "\n",
        "# Random search of parameters, using 3 fold cross validation, \n",
        "# search across 100 different combinations, and use all available cores\n",
        "rf_random = RandomizedSearchCV(estimator = rf,\n",
        "                               param_distributions = random_grid,\n",
        "                               n_iter = 10,\n",
        "                               cv = 3,\n",
        "                               verbose=2,\n",
        "                               n_jobs = -1)\n",
        "\n",
        "# Fit the random search model\n",
        "rf_random.fit(x_train, y_train)"
      ],
      "execution_count": null,
      "outputs": []
    },
    {
      "cell_type": "markdown",
      "metadata": {
        "id": "w2EQjDtrajNz"
      },
      "source": [
        "#### Gradient boost classifier"
      ]
    },
    {
      "cell_type": "code",
      "metadata": {
        "id": "91KJ7dGqc55x",
        "colab": {
          "base_uri": "https://localhost:8080/",
          "height": 527
        },
        "outputId": "fa29370a-9311-4d19-aed1-0ab578853147"
      },
      "source": [
        "from sklearn.ensemble import GradientBoostingClassifier\n",
        "\n",
        "SEED = 13\n",
        "np.random.seed(SEED)\n",
        "\n",
        "gbc = GradientBoostingClassifier(max_depth = None,\n",
        "                                 criterion = 'friedman_mse',\n",
        "                                 min_samples_split = 10,\n",
        "                                 n_estimators = 125,\n",
        "                                 min_samples_leaf = 2,\n",
        "                                 max_features = 20000,\n",
        "                                 subsample = 1,\n",
        "                                #  learning_rate = 0.001,\n",
        "                                 verbose = 1)\n",
        "\n",
        "gbc.fit(x_train,y_train)\n",
        "\n"
      ],
      "execution_count": null,
      "outputs": [
        {
          "output_type": "stream",
          "text": [
            "      Iter       Train Loss   Remaining Time \n",
            "         1           1.2061           63.50m\n",
            "         2           1.0645           66.28m\n",
            "         3           0.9439           67.20m\n",
            "         4           0.8410           66.92m\n",
            "         5           0.7507           65.65m\n",
            "         6           0.6732           65.20m\n",
            "         7           0.6050           64.97m\n",
            "         8           0.5443           64.85m\n",
            "         9           0.4908           64.77m\n",
            "        10           0.4436           64.60m\n",
            "        20           0.1697           59.68m\n",
            "        30           0.0679           54.41m\n",
            "        40           0.0276           48.76m\n",
            "        50           0.0113           43.14m\n",
            "        60           0.0046           37.32m\n",
            "        70           0.0019           31.41m\n",
            "        80           0.0008           25.51m\n",
            "        90           0.0005           19.39m\n",
            "       100           0.0005           12.55m\n"
          ],
          "name": "stdout"
        },
        {
          "output_type": "execute_result",
          "data": {
            "text/plain": [
              "GradientBoostingClassifier(ccp_alpha=0.0, criterion='friedman_mse', init=None,\n",
              "                           learning_rate=0.1, loss='deviance', max_depth=None,\n",
              "                           max_features=20000, max_leaf_nodes=None,\n",
              "                           min_impurity_decrease=0.0, min_impurity_split=None,\n",
              "                           min_samples_leaf=2, min_samples_split=10,\n",
              "                           min_weight_fraction_leaf=0.0, n_estimators=125,\n",
              "                           n_iter_no_change=None, presort='deprecated',\n",
              "                           random_state=None, subsample=1, tol=0.0001,\n",
              "                           validation_fraction=0.1, verbose=1,\n",
              "                           warm_start=False)"
            ]
          },
          "metadata": {
            "tags": []
          },
          "execution_count": 7
        }
      ]
    },
    {
      "cell_type": "code",
      "metadata": {
        "id": "XZo-7gKSGUuQ",
        "colab": {
          "base_uri": "https://localhost:8080/",
          "height": 34
        },
        "outputId": "6a9a371f-da7a-4813-f7a9-2af084ed8975"
      },
      "source": [
        "gbc.score(x_test,y_test)"
      ],
      "execution_count": null,
      "outputs": [
        {
          "output_type": "execute_result",
          "data": {
            "text/plain": [
              "0.8787878787878788"
            ]
          },
          "metadata": {
            "tags": []
          },
          "execution_count": 8
        }
      ]
    },
    {
      "cell_type": "code",
      "metadata": {
        "id": "ipgTogPD8ixh"
      },
      "source": [
        "previsoes_gbc = gbc.predict(x_test)"
      ],
      "execution_count": null,
      "outputs": []
    },
    {
      "cell_type": "code",
      "metadata": {
        "id": "d0ryAyB2c2Oo",
        "colab": {
          "base_uri": "https://localhost:8080/"
        },
        "outputId": "991c0e66-422c-4636-8af5-7288ae2d3cf8"
      },
      "source": [
        "from sklearn.metrics import classification_report, confusion_matrix\n",
        "print(classification_report(y_test, previsoes_gbc))\n",
        "print(confusion_matrix(y_test, previsoes_gbc))"
      ],
      "execution_count": null,
      "outputs": [
        {
          "output_type": "stream",
          "text": [
            "              precision    recall  f1-score   support\n",
            "\n",
            "          RD       0.89      0.89      0.89      1555\n",
            "          TE       0.87      0.87      0.87      1283\n",
            "\n",
            "    accuracy                           0.88      2838\n",
            "   macro avg       0.88      0.88      0.88      2838\n",
            "weighted avg       0.88      0.88      0.88      2838\n",
            "\n",
            "[[1383  172]\n",
            " [ 172 1111]]\n"
          ],
          "name": "stdout"
        }
      ]
    },
    {
      "cell_type": "code",
      "metadata": {
        "id": "BJlvCo_i08DB"
      },
      "source": [
        "pickle.dump(gbc, open(\"/content/drive/My Drive/gradient_boost_model.pkl\", \"wb\"))"
      ],
      "execution_count": null,
      "outputs": []
    },
    {
      "cell_type": "code",
      "metadata": {
        "id": "CghDoCUIU_ir",
        "colab": {
          "base_uri": "https://localhost:8080/",
          "height": 34
        },
        "outputId": "c54d10d8-9dd3-4fb8-f850-3e9bddc46a78"
      },
      "source": [
        "gbc = pickle.load(open(\"/content/drive/My Drive/gradient_boost_model.pkl\", \"rb\"))\n",
        "gbc_result = gbc.score(x_test, y_test)\n",
        "print(gbc_result)"
      ],
      "execution_count": null,
      "outputs": [
        {
          "output_type": "stream",
          "text": [
            "0.8787878787878788\n"
          ],
          "name": "stdout"
        }
      ]
    },
    {
      "cell_type": "code",
      "metadata": {
        "id": "XOkMgHGLVQ3W",
        "colab": {
          "base_uri": "https://localhost:8080/",
          "height": 565
        },
        "outputId": "55d7fcf9-be6b-406e-d12d-4caf53a0a03b"
      },
      "source": [
        "user_frame = fasta_frame('/content/drive/My Drive/fastas/human_genes.fasta','?')\n",
        "pad_frame = fasta_frame('/content/drive/My Drive/fastas/pad_ref3.fasta','?')\n",
        "u_f = [user_frame,pad_frame]\n",
        "user_df = pd.concat(u_f,ignore_index=True)\n",
        "# print(user_df,'\\n')\n",
        "# OHE & flat sequences \n",
        "user_df_ohe = ohe_fun(user_df)\n",
        "user_df_flat=flatten_sequence(user_df_ohe)\n",
        "# print(user_df_flat,'\\n')\n",
        "# Remove pad_ref\n",
        "user_seq_to_pred = np.delete(user_df_flat, -1, 0)\n",
        "# print(user_seq_to_pred)\n",
        "\n",
        "gbc_results=gbc.predict(user_seq_to_pred)\n",
        "# print(rf_results)\n",
        "\n",
        "n_rows=len(user_df.index)\n",
        "pd.set_option('display.max_rows', n_rows)\n",
        "resultados=pd.Series(gbc_results)\n",
        "user_results=user_df[['ID','label']].drop(user_df.index[-1])\n",
        "user_results['label']=resultados\n",
        "user_results['TE_probability']=pd.Series(gbc.predict_proba(user_seq_to_pred)[:,1]*100)\n",
        "user_results"
      ],
      "execution_count": null,
      "outputs": [
        {
          "output_type": "stream",
          "text": [
            "[Parallel(n_jobs=4)]: Using backend ThreadingBackend with 4 concurrent workers.\n",
            "[Parallel(n_jobs=4)]: Done  42 tasks      | elapsed:    0.0s\n",
            "[Parallel(n_jobs=4)]: Done 125 out of 125 | elapsed:    0.0s finished\n"
          ],
          "name": "stderr"
        },
        {
          "output_type": "execute_result",
          "data": {
            "text/html": [
              "<div>\n",
              "<style scoped>\n",
              "    .dataframe tbody tr th:only-of-type {\n",
              "        vertical-align: middle;\n",
              "    }\n",
              "\n",
              "    .dataframe tbody tr th {\n",
              "        vertical-align: top;\n",
              "    }\n",
              "\n",
              "    .dataframe thead th {\n",
              "        text-align: right;\n",
              "    }\n",
              "</style>\n",
              "<table border=\"1\" class=\"dataframe\">\n",
              "  <thead>\n",
              "    <tr style=\"text-align: right;\">\n",
              "      <th></th>\n",
              "      <th>ID</th>\n",
              "      <th>label</th>\n",
              "      <th>TE_probability</th>\n",
              "    </tr>\n",
              "  </thead>\n",
              "  <tbody>\n",
              "    <tr>\n",
              "      <th>0</th>\n",
              "      <td>ENST00000253692.11</td>\n",
              "      <td>TE</td>\n",
              "      <td>85.237732</td>\n",
              "    </tr>\n",
              "    <tr>\n",
              "      <th>1</th>\n",
              "      <td>ENST00000429383.8</td>\n",
              "      <td>TE</td>\n",
              "      <td>85.237732</td>\n",
              "    </tr>\n",
              "    <tr>\n",
              "      <th>2</th>\n",
              "      <td>ENST00000446818.6</td>\n",
              "      <td>TE</td>\n",
              "      <td>77.771126</td>\n",
              "    </tr>\n",
              "    <tr>\n",
              "      <th>3</th>\n",
              "      <td>ENST00000429924.6</td>\n",
              "      <td>RD</td>\n",
              "      <td>6.465794</td>\n",
              "    </tr>\n",
              "    <tr>\n",
              "      <th>4</th>\n",
              "      <td>ENST00000415814.6</td>\n",
              "      <td>RD</td>\n",
              "      <td>0.129364</td>\n",
              "    </tr>\n",
              "    <tr>\n",
              "      <th>5</th>\n",
              "      <td>ENST00000452492.6</td>\n",
              "      <td>RD</td>\n",
              "      <td>0.073235</td>\n",
              "    </tr>\n",
              "    <tr>\n",
              "      <th>6</th>\n",
              "      <td>ENST00000412981.5</td>\n",
              "      <td>RD</td>\n",
              "      <td>0.073235</td>\n",
              "    </tr>\n",
              "    <tr>\n",
              "      <th>7</th>\n",
              "      <td>ENST00000428355.5</td>\n",
              "      <td>RD</td>\n",
              "      <td>0.187513</td>\n",
              "    </tr>\n",
              "    <tr>\n",
              "      <th>8</th>\n",
              "      <td>ENST00000425944.5</td>\n",
              "      <td>RD</td>\n",
              "      <td>0.187058</td>\n",
              "    </tr>\n",
              "    <tr>\n",
              "      <th>9</th>\n",
              "      <td>ENST00000430169.5</td>\n",
              "      <td>RD</td>\n",
              "      <td>0.073235</td>\n",
              "    </tr>\n",
              "    <tr>\n",
              "      <th>10</th>\n",
              "      <td>ENST00000445294.5</td>\n",
              "      <td>RD</td>\n",
              "      <td>0.187561</td>\n",
              "    </tr>\n",
              "    <tr>\n",
              "      <th>11</th>\n",
              "      <td>ENST00000414349.5</td>\n",
              "      <td>RD</td>\n",
              "      <td>0.232035</td>\n",
              "    </tr>\n",
              "    <tr>\n",
              "      <th>12</th>\n",
              "      <td>ENST00000507877.5</td>\n",
              "      <td>RD</td>\n",
              "      <td>0.251185</td>\n",
              "    </tr>\n",
              "    <tr>\n",
              "      <th>13</th>\n",
              "      <td>ENST00000446863.5</td>\n",
              "      <td>RD</td>\n",
              "      <td>0.254435</td>\n",
              "    </tr>\n",
              "    <tr>\n",
              "      <th>14</th>\n",
              "      <td>ENST00000434420.1</td>\n",
              "      <td>RD</td>\n",
              "      <td>0.318152</td>\n",
              "    </tr>\n",
              "  </tbody>\n",
              "</table>\n",
              "</div>"
            ],
            "text/plain": [
              "                    ID label  TE_probability\n",
              "0   ENST00000253692.11    TE       85.237732\n",
              "1    ENST00000429383.8    TE       85.237732\n",
              "2    ENST00000446818.6    TE       77.771126\n",
              "3    ENST00000429924.6    RD        6.465794\n",
              "4    ENST00000415814.6    RD        0.129364\n",
              "5    ENST00000452492.6    RD        0.073235\n",
              "6    ENST00000412981.5    RD        0.073235\n",
              "7    ENST00000428355.5    RD        0.187513\n",
              "8    ENST00000425944.5    RD        0.187058\n",
              "9    ENST00000430169.5    RD        0.073235\n",
              "10   ENST00000445294.5    RD        0.187561\n",
              "11   ENST00000414349.5    RD        0.232035\n",
              "12   ENST00000507877.5    RD        0.251185\n",
              "13   ENST00000446863.5    RD        0.254435\n",
              "14   ENST00000434420.1    RD        0.318152"
            ]
          },
          "metadata": {
            "tags": []
          },
          "execution_count": 49
        }
      ]
    },
    {
      "cell_type": "code",
      "metadata": {
        "id": "abO-DS54W2M2"
      },
      "source": [
        "user_results.to_csv('gbc_results.out.csv',index=False)"
      ],
      "execution_count": null,
      "outputs": []
    },
    {
      "cell_type": "markdown",
      "metadata": {
        "id": "SxopGIunYPXi"
      },
      "source": [
        "#### Random forest classifier"
      ]
    },
    {
      "cell_type": "code",
      "metadata": {
        "id": "t390awt1iaml",
        "colab": {
          "base_uri": "https://localhost:8080/",
          "height": 153
        },
        "outputId": "19ee3e01-468d-4a66-c124-dd7adeba57ed"
      },
      "source": [
        "# RANDOM FOREST CLASSIFIER\n",
        "\n",
        "from sklearn.ensemble import RandomForestClassifier\n",
        "from sklearn.metrics import accuracy_score\n",
        "\n",
        "SEED=13\n",
        "np.random.seed(SEED)\n",
        "\n",
        "rf = RandomForestClassifier(max_depth = None,\n",
        "                            criterion = 'gini',\n",
        "                            min_samples_split = 10,\n",
        "                            n_estimators = 125,\n",
        "                            min_samples_leaf = 2,\n",
        "                            max_features = 20000,\n",
        "                            n_jobs = -1,\n",
        "                            oob_score = True,\n",
        "                            verbose = 1)\n",
        "\n",
        "print(rf)\n",
        "# print(rf.fit(x_train,y_train))\n",
        "# previsoes_rf = rf.predict(x_test)\n",
        "# print(previsoes_rf)\n",
        "# Model Accuracy, how often is the classifier correct?\n",
        "# acuracia = accuracy_score(y_test, previsoes_rf) * 100\n",
        "# print(\"RandomForestClassifier accuracy: {:.2f}%\".format(acuracia))"
      ],
      "execution_count": null,
      "outputs": [
        {
          "output_type": "stream",
          "text": [
            "RandomForestClassifier(bootstrap=True, ccp_alpha=0.0, class_weight=None,\n",
            "                       criterion='gini', max_depth=None, max_features=20000,\n",
            "                       max_leaf_nodes=None, max_samples=None,\n",
            "                       min_impurity_decrease=0.0, min_impurity_split=None,\n",
            "                       min_samples_leaf=2, min_samples_split=10,\n",
            "                       min_weight_fraction_leaf=0.0, n_estimators=125,\n",
            "                       n_jobs=-1, oob_score=True, random_state=None, verbose=1,\n",
            "                       warm_start=False)\n"
          ],
          "name": "stdout"
        }
      ]
    },
    {
      "cell_type": "code",
      "metadata": {
        "id": "ZJyLy6RtrL22",
        "colab": {
          "base_uri": "https://localhost:8080/",
          "height": 204
        },
        "outputId": "cb09a3f5-8a0a-4b08-9734-9a5365c3aa21"
      },
      "source": [
        "rf.fit(x_train,y_train)"
      ],
      "execution_count": null,
      "outputs": [
        {
          "output_type": "stream",
          "text": [
            "[Parallel(n_jobs=-1)]: Using backend ThreadingBackend with 4 concurrent workers.\n",
            "[Parallel(n_jobs=-1)]: Done  42 tasks      | elapsed: 10.4min\n",
            "[Parallel(n_jobs=-1)]: Done 125 out of 125 | elapsed: 29.8min finished\n"
          ],
          "name": "stderr"
        },
        {
          "output_type": "execute_result",
          "data": {
            "text/plain": [
              "RandomForestClassifier(bootstrap=True, ccp_alpha=0.0, class_weight=None,\n",
              "                       criterion='gini', max_depth=None, max_features=20000,\n",
              "                       max_leaf_nodes=None, max_samples=None,\n",
              "                       min_impurity_decrease=0.0, min_impurity_split=None,\n",
              "                       min_samples_leaf=2, min_samples_split=10,\n",
              "                       min_weight_fraction_leaf=0.0, n_estimators=125,\n",
              "                       n_jobs=-1, oob_score=True, random_state=None, verbose=1,\n",
              "                       warm_start=False)"
            ]
          },
          "metadata": {
            "tags": []
          },
          "execution_count": 7
        }
      ]
    },
    {
      "cell_type": "code",
      "metadata": {
        "id": "zfZ22yviobob",
        "colab": {
          "base_uri": "https://localhost:8080/",
          "height": 85
        },
        "outputId": "a45bca96-6575-4d78-e0b3-4c2b575520d5"
      },
      "source": [
        "rf.score(x_test, y_test)"
      ],
      "execution_count": null,
      "outputs": [
        {
          "output_type": "stream",
          "text": [
            "[Parallel(n_jobs=4)]: Using backend ThreadingBackend with 4 concurrent workers.\n",
            "[Parallel(n_jobs=4)]: Done  42 tasks      | elapsed:    0.0s\n",
            "[Parallel(n_jobs=4)]: Done 125 out of 125 | elapsed:    0.1s finished\n"
          ],
          "name": "stderr"
        },
        {
          "output_type": "execute_result",
          "data": {
            "text/plain": [
              "0.8618745595489782"
            ]
          },
          "metadata": {
            "tags": []
          },
          "execution_count": 8
        }
      ]
    },
    {
      "cell_type": "code",
      "metadata": {
        "id": "7CmG66slrLmA",
        "colab": {
          "base_uri": "https://localhost:8080/"
        },
        "outputId": "0b450513-3cc7-4874-8c67-2076e5e3e9bf"
      },
      "source": [
        "previsoes_rf = rf.predict(x_test)"
      ],
      "execution_count": null,
      "outputs": [
        {
          "output_type": "stream",
          "text": [
            "[Parallel(n_jobs=4)]: Using backend ThreadingBackend with 4 concurrent workers.\n",
            "[Parallel(n_jobs=4)]: Done  42 tasks      | elapsed:    0.0s\n",
            "[Parallel(n_jobs=4)]: Done 125 out of 125 | elapsed:    0.1s finished\n"
          ],
          "name": "stderr"
        }
      ]
    },
    {
      "cell_type": "code",
      "metadata": {
        "id": "wzRrl7HApib-",
        "colab": {
          "base_uri": "https://localhost:8080/",
          "height": 187
        },
        "outputId": "2d4d7dcd-dda2-4bf0-8cb9-909381acb3da"
      },
      "source": [
        "rf.predict_proba(x_test)"
      ],
      "execution_count": null,
      "outputs": [
        {
          "output_type": "stream",
          "text": [
            "[Parallel(n_jobs=4)]: Using backend ThreadingBackend with 4 concurrent workers.\n",
            "[Parallel(n_jobs=4)]: Done  42 tasks      | elapsed:    0.0s\n",
            "[Parallel(n_jobs=4)]: Done 125 out of 125 | elapsed:    0.1s finished\n"
          ],
          "name": "stderr"
        },
        {
          "output_type": "execute_result",
          "data": {
            "text/plain": [
              "array([[0.3072561 , 0.6927439 ],\n",
              "       [0.34096415, 0.65903585],\n",
              "       [0.39261626, 0.60738374],\n",
              "       ...,\n",
              "       [0.78881126, 0.21118874],\n",
              "       [0.1917101 , 0.8082899 ],\n",
              "       [0.92580317, 0.07419683]])"
            ]
          },
          "metadata": {
            "tags": []
          },
          "execution_count": 10
        }
      ]
    },
    {
      "cell_type": "code",
      "metadata": {
        "id": "naugqPwxx4II"
      },
      "source": [
        "import sys\n",
        "np.set_printoptions(threshold=sys.maxsize)\n",
        "# print(previsoes_rf)"
      ],
      "execution_count": null,
      "outputs": []
    },
    {
      "cell_type": "code",
      "metadata": {
        "id": "oIapdK9oJnVc"
      },
      "source": [
        "pickle.dump(rf, open(\"/content/drive/My Drive/random_forest_model.pkl\", \"wb\"))"
      ],
      "execution_count": null,
      "outputs": []
    },
    {
      "cell_type": "markdown",
      "metadata": {
        "id": "vg1iyNoBIspZ"
      },
      "source": [
        "Results plotting"
      ]
    },
    {
      "cell_type": "code",
      "metadata": {
        "id": "tSwxrlxdieQm",
        "colab": {
          "base_uri": "https://localhost:8080/",
          "height": 204
        },
        "outputId": "707d4d26-e849-492a-afda-4f4b2932d527"
      },
      "source": [
        "from sklearn.metrics import classification_report, confusion_matrix\n",
        "print(classification_report(y_test, previsoes_rf))\n",
        "print(confusion_matrix(y_test, previsoes_rf))"
      ],
      "execution_count": null,
      "outputs": [
        {
          "output_type": "stream",
          "text": [
            "              precision    recall  f1-score   support\n",
            "\n",
            "          RD       0.88      0.87      0.87      1555\n",
            "          TE       0.84      0.85      0.85      1283\n",
            "\n",
            "    accuracy                           0.86      2838\n",
            "   macro avg       0.86      0.86      0.86      2838\n",
            "weighted avg       0.86      0.86      0.86      2838\n",
            "\n",
            "[[1352  203]\n",
            " [ 189 1094]]\n"
          ],
          "name": "stdout"
        }
      ]
    },
    {
      "cell_type": "code",
      "metadata": {
        "id": "QIhAlqC6ihPI",
        "colab": {
          "base_uri": "https://localhost:8080/"
        },
        "outputId": "cb6d5cdc-edda-4537-b2e8-bcf44ef1fac9"
      },
      "source": [
        "import seaborn as sns\n",
        "import matplotlib.pyplot as plt\n",
        "%matplotlib inline\n",
        "\n",
        "plt.figure(figsize=(8,8))\n",
        "plt.title(\"Confusion matrix\")\n",
        "\n",
        "categorias = ['RD','TE']\n",
        "sns.heatmap(confusion_matrix(y_test, previsoes_rf),\n",
        "            annot=True,\n",
        "            fmt='d',\n",
        "            cmap=\"Blues\",\n",
        "            cbar=False,\n",
        "            xticklabels=categorias,\n",
        "            yticklabels=categorias)\n",
        "\n",
        "plt.ylabel('True Label')\n",
        "plt.xlabel('Predicted Label')"
      ],
      "execution_count": null,
      "outputs": [
        {
          "output_type": "execute_result",
          "data": {
            "text/plain": [
              "Text(0.5, 51.0, 'Predicted Label')"
            ]
          },
          "metadata": {
            "tags": []
          },
          "execution_count": 12
        },
        {
          "output_type": "display_data",
          "data": {
            "image/png": "[encoded data removed]",
            "text/plain": [
              "<Figure size 576x576 with 1 Axes>"
            ]
          },
          "metadata": {
            "tags": [],
            "needs_background": "light"
          }
        }
      ]
    },
    {
      "cell_type": "code",
      "metadata": {
        "id": "93gSke-nij89",
        "colab": {
          "base_uri": "https://localhost:8080/",
          "height": 51
        },
        "outputId": "03aaad01-ad92-49b1-f9c1-3aa5df0e953e"
      },
      "source": [
        "rf.feature_importances_"
      ],
      "execution_count": null,
      "outputs": [
        {
          "output_type": "execute_result",
          "data": {
            "text/plain": [
              "array([0.01560971, 0.00484725, 0.00645657, ..., 0.        , 0.        ,\n",
              "       0.        ])"
            ]
          },
          "metadata": {
            "tags": []
          },
          "execution_count": 27
        }
      ]
    },
    {
      "cell_type": "markdown",
      "metadata": {
        "id": "EOHEH6vrIoIL"
      },
      "source": [
        "Validation"
      ]
    },
    {
      "cell_type": "code",
      "metadata": {
        "id": "ftUfm74gim67",
        "colab": {
          "base_uri": "https://localhost:8080/",
          "height": 667
        },
        "outputId": "74c3ef86-0ee1-4eb2-928e-7978933e4640"
      },
      "source": [
        "user_frame = fasta_frame('/content/drive/My Drive/fastas/human_genes.fasta','?')\n",
        "pad_frame = fasta_frame('/content/drive/My Drive/fastas/pad_ref3.fasta','?')\n",
        "u_f = [user_frame,pad_frame]\n",
        "user_df = pd.concat(u_f,ignore_index=True)\n",
        "# print(user_df,'\\n')\n",
        "# OHE & flat sequences \n",
        "user_df_ohe = ohe_fun(user_df)\n",
        "user_df_flat=flatten_sequence(user_df_ohe)\n",
        "# print(user_df_flat,'\\n')\n",
        "# Remove pad_ref\n",
        "user_seq_to_pred = np.delete(user_df_flat, -1, 0)\n",
        "# print(user_seq_to_pred)\n",
        "\n",
        "rf_results=rf.predict(user_seq_to_pred)\n",
        "# print(rf_results)\n",
        "\n",
        "n_rows=len(user_df.index)\n",
        "pd.set_option('display.max_rows', n_rows)\n",
        "resultados=pd.Series(rf.predict(user_seq_to_pred))\n",
        "user_results=user_df[['ID','label']].drop(user_df.index[-1])\n",
        "user_results['label']=resultados\n",
        "user_results['TE_probability']=pd.Series(rf.predict_proba(user_seq_to_pred)[:,1]*100)\n",
        "user_results"
      ],
      "execution_count": null,
      "outputs": [
        {
          "output_type": "stream",
          "text": [
            "[Parallel(n_jobs=4)]: Using backend ThreadingBackend with 4 concurrent workers.\n",
            "[Parallel(n_jobs=4)]: Done  42 tasks      | elapsed:    0.0s\n",
            "[Parallel(n_jobs=4)]: Done 125 out of 125 | elapsed:    0.0s finished\n",
            "[Parallel(n_jobs=4)]: Using backend ThreadingBackend with 4 concurrent workers.\n",
            "[Parallel(n_jobs=4)]: Done  42 tasks      | elapsed:    0.0s\n",
            "[Parallel(n_jobs=4)]: Done 125 out of 125 | elapsed:    0.0s finished\n",
            "[Parallel(n_jobs=4)]: Using backend ThreadingBackend with 4 concurrent workers.\n",
            "[Parallel(n_jobs=4)]: Done  42 tasks      | elapsed:    0.0s\n",
            "[Parallel(n_jobs=4)]: Done 125 out of 125 | elapsed:    0.0s finished\n"
          ],
          "name": "stderr"
        },
        {
          "output_type": "execute_result",
          "data": {
            "text/html": [
              "<div>\n",
              "<style scoped>\n",
              "    .dataframe tbody tr th:only-of-type {\n",
              "        vertical-align: middle;\n",
              "    }\n",
              "\n",
              "    .dataframe tbody tr th {\n",
              "        vertical-align: top;\n",
              "    }\n",
              "\n",
              "    .dataframe thead th {\n",
              "        text-align: right;\n",
              "    }\n",
              "</style>\n",
              "<table border=\"1\" class=\"dataframe\">\n",
              "  <thead>\n",
              "    <tr style=\"text-align: right;\">\n",
              "      <th></th>\n",
              "      <th>ID</th>\n",
              "      <th>label</th>\n",
              "      <th>TE_probability</th>\n",
              "    </tr>\n",
              "  </thead>\n",
              "  <tbody>\n",
              "    <tr>\n",
              "      <th>0</th>\n",
              "      <td>ENST00000253692.11</td>\n",
              "      <td>TE</td>\n",
              "      <td>65.302453</td>\n",
              "    </tr>\n",
              "    <tr>\n",
              "      <th>1</th>\n",
              "      <td>ENST00000429383.8</td>\n",
              "      <td>TE</td>\n",
              "      <td>65.302453</td>\n",
              "    </tr>\n",
              "    <tr>\n",
              "      <th>2</th>\n",
              "      <td>ENST00000446818.6</td>\n",
              "      <td>TE</td>\n",
              "      <td>60.572125</td>\n",
              "    </tr>\n",
              "    <tr>\n",
              "      <th>3</th>\n",
              "      <td>ENST00000429924.6</td>\n",
              "      <td>RD</td>\n",
              "      <td>44.483299</td>\n",
              "    </tr>\n",
              "    <tr>\n",
              "      <th>4</th>\n",
              "      <td>ENST00000415814.6</td>\n",
              "      <td>RD</td>\n",
              "      <td>18.013301</td>\n",
              "    </tr>\n",
              "    <tr>\n",
              "      <th>5</th>\n",
              "      <td>ENST00000452492.6</td>\n",
              "      <td>RD</td>\n",
              "      <td>9.350476</td>\n",
              "    </tr>\n",
              "    <tr>\n",
              "      <th>6</th>\n",
              "      <td>ENST00000412981.5</td>\n",
              "      <td>RD</td>\n",
              "      <td>9.350476</td>\n",
              "    </tr>\n",
              "    <tr>\n",
              "      <th>7</th>\n",
              "      <td>ENST00000428355.5</td>\n",
              "      <td>RD</td>\n",
              "      <td>17.963301</td>\n",
              "    </tr>\n",
              "    <tr>\n",
              "      <th>8</th>\n",
              "      <td>ENST00000425944.5</td>\n",
              "      <td>RD</td>\n",
              "      <td>17.963301</td>\n",
              "    </tr>\n",
              "    <tr>\n",
              "      <th>9</th>\n",
              "      <td>ENST00000430169.5</td>\n",
              "      <td>RD</td>\n",
              "      <td>9.350476</td>\n",
              "    </tr>\n",
              "    <tr>\n",
              "      <th>10</th>\n",
              "      <td>ENST00000445294.5</td>\n",
              "      <td>RD</td>\n",
              "      <td>17.963301</td>\n",
              "    </tr>\n",
              "    <tr>\n",
              "      <th>11</th>\n",
              "      <td>ENST00000414349.5</td>\n",
              "      <td>RD</td>\n",
              "      <td>18.963301</td>\n",
              "    </tr>\n",
              "    <tr>\n",
              "      <th>12</th>\n",
              "      <td>ENST00000507877.5</td>\n",
              "      <td>RD</td>\n",
              "      <td>20.141079</td>\n",
              "    </tr>\n",
              "    <tr>\n",
              "      <th>13</th>\n",
              "      <td>ENST00000446863.5</td>\n",
              "      <td>RD</td>\n",
              "      <td>19.341079</td>\n",
              "    </tr>\n",
              "    <tr>\n",
              "      <th>14</th>\n",
              "      <td>ENST00000434420.1</td>\n",
              "      <td>RD</td>\n",
              "      <td>19.503203</td>\n",
              "    </tr>\n",
              "  </tbody>\n",
              "</table>\n",
              "</div>"
            ],
            "text/plain": [
              "                    ID label  TE_probability\n",
              "0   ENST00000253692.11    TE       65.302453\n",
              "1    ENST00000429383.8    TE       65.302453\n",
              "2    ENST00000446818.6    TE       60.572125\n",
              "3    ENST00000429924.6    RD       44.483299\n",
              "4    ENST00000415814.6    RD       18.013301\n",
              "5    ENST00000452492.6    RD        9.350476\n",
              "6    ENST00000412981.5    RD        9.350476\n",
              "7    ENST00000428355.5    RD       17.963301\n",
              "8    ENST00000425944.5    RD       17.963301\n",
              "9    ENST00000430169.5    RD        9.350476\n",
              "10   ENST00000445294.5    RD       17.963301\n",
              "11   ENST00000414349.5    RD       18.963301\n",
              "12   ENST00000507877.5    RD       20.141079\n",
              "13   ENST00000446863.5    RD       19.341079\n",
              "14   ENST00000434420.1    RD       19.503203"
            ]
          },
          "metadata": {
            "tags": []
          },
          "execution_count": 51
        }
      ]
    },
    {
      "cell_type": "code",
      "metadata": {
        "id": "QganKXmmiv1O"
      },
      "source": [
        "user_results.to_csv('rf_results.out.csv',index=False)"
      ],
      "execution_count": null,
      "outputs": []
    },
    {
      "cell_type": "markdown",
      "metadata": {
        "id": "7AMv3DmJ53-J"
      },
      "source": [
        "# Deep Neural Networs"
      ]
    },
    {
      "cell_type": "code",
      "metadata": {
        "id": "kaRRwnBqBPJf"
      },
      "source": [
        "from sklearn import preprocessing\n",
        "from numpy import array\n",
        "from numpy import argmax\n",
        "from keras.utils import to_categorical\n",
        "\n",
        "lbenc = preprocessing.LabelBinarizer()\n",
        "ynn = lbenc.fit_transform(y_str)\n",
        "\n",
        "encoded = to_categorical(ynn)"
      ],
      "execution_count": null,
      "outputs": []
    },
    {
      "cell_type": "code",
      "metadata": {
        "colab": {
          "base_uri": "https://localhost:8080/"
        },
        "id": "uHkFjuTYBcZY",
        "outputId": "ca21fe03-afcc-4975-d8b4-7fba7de86b6e"
      },
      "source": [
        "labtok = Tokenizer()\n",
        "labtok.fit_on_texts(y_str)\n",
        "print(labtok.word_counts)\n",
        "print(labtok.document_count)\n",
        "print(labtok.word_index)\n",
        "print(labtok.word_docs)\n",
        "vocab_size = len(labtok.word_index) + 1\n",
        "print(vocab_size)\n",
        "toklabs = labtok.texts_to_sequences(y_str)\n",
        "print(toklabs)"
      ],
      "execution_count": null,
      "outputs": [
        {
          "output_type": "stream",
          "text": [
            "OrderedDict([('dna', 2578), ('ltr', 4049), ('line', 577), ('sine', 41), ('rc', 263), ('retroposon', 30)])\n",
            "7538\n",
            "{'ltr': 1, 'dna': 2, 'line': 3, 'rc': 4, 'sine': 5, 'retroposon': 6}\n",
            "defaultdict(<class 'int'>, {'dna': 2578, 'ltr': 4049, 'line': 577, 'sine': 41, 'rc': 263, 'retroposon': 30})\n",
            "7\n",
            "[[2], [1], [1], [1], [1], [2], [3], [1], [5], [2], [2], [2], [2], [2], [2], [2], [1], [1], [1], [1], [1], [1], [1], [1], [1], [1], [1], [1], [1], [1], [1], [1], [1], [1], [1], [1], [1], [1], [1], [1], [1], [1], [1], [1], [1], [1], [1], [1], [1], [1], [1], [1], [1], [1], [1], [1], [1], [1], [1], [1], [1], [1], [1], [1], [1], [1], [1], [1], [1], [1], [1], [1], [1], [1], [1], [1], [1], [1], [1], [1], [1], [1], [1], [1], [1], [1], [1], [1], [1], [1], [1], [1], [1], [1], [1], [1], [1], [1], [1], [1], [1], [1], [1], [1], [1], [1], [1], [1], [1], [1], [1], [1], [1], [1], [1], [1], [1], [1], [1], [1], [1], [1], [1], [1], [1], [1], [1], [1], [1], [1], [1], [1], [1], [1], [1], [1], [1], [1], [1], [1], [1], [1], [1], [1], [1], [1], [1], [1], [1], [1], [1], [1], [1], [1], [1], [1], [1], [1], [1], [1], [1], [1], [1], [1], [1], [1], [1], [1], [1], [1], [1], [1], [1], [1], [1], [1], [1], [1], [1], [1], [1], [1], [1], [1], [1], [1], [1], [1], [1], [1], [1], [1], [1], [1], [1], [1], [1], [1], [1], [1], [1], [1], [1], [1], [1], [1], [1], [1], [1], [1], [1], [1], [1], [1], [1], [1], [1], [1], [1], [1], [1], [1], [1], [1], [2], [2], [2], [2], [2], [2], [2], [2], [2], [2], [2], [2], [2], [2], [2], [1], [1], [1], [1], [1], [1], [1], [1], [1], [1], [1], [1], [1], [1], [1], [1], [1], [1], [1], [1], [1], [1], [1], [1], [1], [1], [1], [1], [1], [1], [2], [2], [2], [2], [2], [2], [2], [2], [2], [2], [2], [2], [1], [1], [1], [1], [1], [1], [1], [1], [1], [1], [1], [1], [1], [1], [1], [1], [1], [1], [1], [1], [1], [1], [2], [2], [2], [1], [1], [1], [1], [1], [3], [3], [3], [3], [3], [3], [3], [3], [3], [3], [3], [3], [3], [3], [2], [2], [2], [2], [2], [2], [2], [2], [2], [2], [2], [2], [2], [2], [2], [2], [2], [1], [1], [2], [4], [4], [4], [4], [4], [2], [2], [4], [5], [5], [2], [1], [3], [3], [3], [3], [3], [3], [3], [2], [2], [2], [2], [2], [2], [2], [2], [2], [5], [5], [5], [5], [5], [5], [5], [3], [1], [1], [2], [2], [2], [1], [1], [1], [1], [1], [1], [1], [1], [1], [1], [1], [1], [1], [1], [1], [1], [1], [1], [1], [1], [1], [1], [1], [1], [1], [1], [1], [1], [1], [1], [1], [1], [1], [1], [1], [1], [1], [1], [1], [1], [1], [1], [1], [1], [1], [1], [1], [1], [1], [1], [1], [1], [1], [1], [1], [1], [1], [1], [1], [1], [1], [1], [1], [1], [1], [1], [1], [1], [1], [1], [1], [1], [1], [1], [1], [1], [1], [1], [1], [1], [1], [1], [1], [1], [1], [1], [1], [1], [1], [1], [1], [1], [1], [1], [1], [1], [1], [1], [1], [1], [1], [1], [1], [1], [1], [1], [1], [1], [1], [1], [1], [1], [1], [1], [1], [1], [1], [1], [1], [1], [1], [1], [1], [1], [1], [1], [1], [1], [1], [1], [1], [1], [1], [1], [1], [1], [1], [1], [1], [1], [1], [1], [1], [1], [1], [1], [1], [1], [1], [1], [1], [1], [1], [1], [1], [1], [1], [1], [1], [1], [1], [1], [1], [1], [1], [1], [1], [1], [1], [1], [1], [1], [1], [1], [1], [1], [1], [1], [1], [1], [1], [1], [1], [1], [1], [1], [1], [1], [1], [1], [1], [1], [1], [1], [1], [1], [1], [1], [1], [1], [1], [1], [1], [1], [1], [1], [1], [1], [1], [1], [1], [1], [1], [1], [1], [1], [1], [1], [1], [1], [1], [1], [1], [1], [1], [1], [1], [1], [1], [1], [1], [1], [1], [1], [1], [1], [1], [1], [1], [1], [1], [1], [1], [1], [1], [1], [1], [1], [1], [1], [1], [1], [1], [1], [1], [1], [1], [1], [1], [1], [1], [1], [1], [1], [1], [1], [1], [1], [1], [1], [1], [1], [1], [1], [1], [1], [1], [1], [1], [1], [1], [1], [1], [1], [1], [1], [1], [1], [1], [1], [1], [1], [1], [1], [1], [1], [1], [1], [1], [1], [1], [1], [1], [1], [1], [1], [1], [1], [1], [1], [1], [1], [1], [1], [1], [1], [3], [1], [1], [1], [1], [1], [1], [1], [1], [1], [1], [1], [1], [1], [1], [1], [1], [1], [1], [1], [1], [1], [1], [1], [1], [1], [1], [1], [1], [1], [1], [1], [1], [1], [1], [1], [1], [1], [2], [2], [2], [3], [1], [3], [3], [3], [2], [2], [1], [1], [1], [1], [2], [2], [2], [2], [2], [2], [2], [2], [2], [2], [2], [2], [2], [2], [2], [2], [2], [5], [2], [2], [2], [2], [1], [1], [1], [1], [1], [1], [1], [1], [2], [2], [2], [5], [5], [5], [2], [2], [2], [2], [1], [1], [2], [1], [1], [1], [1], [1], [1], [1], [1], [1], [1], [1], [1], [1], [1], [1], [1], [1], [1], [1], [1], [1], [1], [1], [1], [1], [1], [1], [1], [1], [1], [1], [1], [1], [1], [1], [1], [1], [1], [1], [2], [4], [2], [2], [1], [1], [1], [2], [3], [1], [1], [1], [1], [1], [1], [1], [1], [1], [1], [2], [2], [2], [2], [2], [2], [2], [1], [1], [1], [1], [1], [1], [1], [1], [1], [1], [1], [1], [1], [1], [1], [1], [1], [1], [1], [1], [1], [1], [1], [1], [2], [2], [2], [1], [1], [1], [1], [1], [1], [1], [1], [1], [1], [1], [1], [3], [3], [3], [3], [3], [3], [3], [3], [3], [3], [3], [3], [3], [3], [3], [3], [3], [3], [3], [3], [3], [3], [3], [3], [3], [3], [3], [3], [2], [2], [1], [1], [1], [1], [1], [1], [1], [1], [1], [1], [1], [1], [2], [2], [2], [2], [2], [2], [2], [2], [2], [2], [2], [1], [1], [1], [2], [2], [2], [2], [1], [1], [1], [1], [1], [1], [1], [1], [1], [1], [1], [1], [1], [1], [1], [1], [1], [1], [1], [1], [1], [1], [1], [1], [1], [1], [1], [1], [1], [1], [1], [1], [1], [1], [1], [1], [1], [1], [1], [1], [1], [1], [1], [1], [1], [1], [1], [1], [1], [1], [1], [1], [1], [1], [1], [1], [1], [1], [1], [1], [1], [1], [1], [1], [1], [1], [1], [1], [1], [1], [1], [1], [1], [1], [1], [1], [1], [1], [1], [1], [1], [1], [1], [1], [1], [1], [1], [1], [1], [1], [1], [1], [1], [1], [1], [1], [1], [1], [1], [1], [1], [1], [1], [1], [1], [1], [1], [1], [1], [1], [1], [1], [1], [1], [1], [1], [1], [1], [1], [1], [1], [1], [1], [1], [1], [1], [1], [1], [1], [1], [1], [1], [1], [1], [1], [1], [1], [1], [1], [1], [1], [1], [1], [1], [1], [1], [1], [1], [1], [1], [1], [1], [1], [1], [1], [1], [1], [1], [1], [1], [1], [1], [1], [1], [1], [1], [1], [1], [1], [1], [1], [1], [1], [1], [1], [1], [1], [1], [1], [1], [1], [1], [1], [1], [1], [1], [1], [1], [1], [1], [1], [1], [1], [1], [1], [1], [1], [1], [1], [1], [1], [1], [1], [1], [1], [1], [1], [1], [1], [1], [1], [1], [1], [1], [1], [1], [1], [1], [1], [1], [1], [1], [1], [1], [1], [1], [1], [1], [1], [1], [1], [1], [1], [1], [1], [1], [1], [1], [1], [1], [1], [1], [1], [1], [1], [1], [1], [1], [1], [1], [1], [1], [1], [1], [1], [1], [1], [1], [1], [1], [1], [1], [1], [1], [1], [1], [1], [1], [1], [1], [1], [1], [1], [1], [1], [1], [1], [1], [1], [1], [1], [1], [1], [1], [1], [1], [1], [1], [1], [1], [1], [1], [1], [1], [1], [1], [1], [1], [1], [1], [1], [1], [1], [1], [1], [1], [1], [1], [1], [1], [1], [1], [1], [1], [1], [1], [1], [1], [1], [1], [1], [1], [1], [1], [1], [1], [1], [1], [1], [1], [1], [1], [1], [1], [1], [1], [1], [1], [1], [1], [1], [1], [1], [1], [1], [1], [1], [1], [1], [1], [1], [1], [1], [1], [1], [1], [1], [1], [1], [1], [1], [1], [1], [1], [1], [1], [1], [1], [1], [1], [1], [1], [1], [1], [1], [1], [1], [1], [1], [1], [1], [1], [1], [1], [1], [1], [1], [1], [1], [1], [1], [1], [1], [1], [1], [1], [1], [1], [1], [1], [1], [1], [1], [1], [1], [1], [1], [1], [1], [1], [1], [1], [1], [1], [1], [1], [1], [1], [1], [1], [1], [1], [1], [1], [1], [1], [1], [1], [1], [1], [1], [1], [1], [1], [1], [1], [1], [1], [1], [1], [1], [1], [1], [1], [1], [1], [1], [1], [1], [1], [1], [1], [1], [1], [1], [1], [1], [1], [1], [1], [1], [1], [1], [1], [1], [1], [1], [1], [1], [1], [1], [1], [1], [1], [1], [1], [1], [1], [1], [3], [3], [2], [2], [2], [2], [2], [2], [5], [2], [2], [2], [1], [1], [1], [3], [1], [1], [1], [1], [1], [1], [1], [1], [1], [1], [1], [1], [1], [1], [1], [1], [1], [1], [1], [1], [1], [1], [1], [1], [1], [1], [1], [1], [1], [1], [1], [1], [1], [1], [1], [1], [1], [1], [1], [1], [1], [1], [1], [1], [1], [1], [1], [1], [1], [1], [1], [1], [1], [1], [1], [1], [1], [1], [1], [1], [1], [1], [1], [1], [1], [1], [1], [1], [1], [1], [1], [1], [1], [2], [2], [2], [2], [2], [1], [1], [1], [1], [1], [1], [1], [1], [1], [1], [1], [1], [1], [3], [3], [1], [1], [3], [3], [2], [2], [2], [2], [2], [2], [2], [2], [2], [2], [2], [2], [2], [2], [2], [2], [2], [2], [2], [2], [2], [2], [2], [2], [2], [2], [2], [2], [2], [2], [2], [2], [2], [2], [2], [2], [2], [2], [2], [2], [2], [2], [2], [2], [2], [2], [2], [2], [2], [2], [2], [2], [2], [2], [2], [2], [2], [2], [2], [2], [2], [2], [2], [2], [2], [2], [2], [2], [2], [2], [2], [2], [2], [2], [2], [2], [2], [2], [2], [2], [2], [2], [2], [2], [2], [2], [2], [2], [2], [2], [2], [2], [2], [2], [2], [2], [2], [2], [2], [2], [2], [2], [2], [2], [2], [2], [2], [2], [2], [2], [2], [2], [2], [2], [2], [2], [2], [2], [2], [2], [2], [2], [2], [2], [2], [2], [2], [2], [2], [2], [2], [2], [2], [2], [2], [2], [2], [2], [2], [2], [2], [2], [2], [2], [2], [2], [2], [2], [2], [2], [2], [2], [2], [2], [2], [2], [2], [2], [2], [2], [2], [2], [2], [2], [2], [2], [2], [2], [2], [2], [2], [2], [2], [2], [2], [2], [2], [2], [2], [2], [2], [2], [2], [2], [2], [2], [2], [2], [2], [2], [2], [2], [2], [2], [2], [2], [2], [2], [2], [2], [2], [2], [2], [2], [2], [2], [2], [2], [2], [2], [2], [2], [2], [2], [2], [2], [2], [2], [2], [2], [2], [2], [2], [4], [4], [4], [4], [4], [2], [2], [2], [2], [2], [2], [2], [2], [2], [2], [2], [3], [3], [3], [3], [2], [3], [2], [2], [2], [2], [2], [2], [2], [2], [3], [3], [2], [2], [2], [1], [1], [2], [2], [2], [2], [2], [2], [1], [1], [1], [1], [1], [1], [1], [1], [1], [1], [1], [1], [1], [1], [1], [1], [1], [1], [1], [1], [1], [1], [1], [1], [1], [1], [1], [1], [1], [1], [1], [1], [1], [1], [1], [1], [1], [1], [1], [1], [1], [1], [1], [1], [1], [1], [1], [1], [1], [1], [1], [1], [1], [1], [1], [1], [1], [1], [1], [1], [1], [1], [1], [1], [1], [1], [1], [1], [1], [1], [1], [1], [1], [1], [3], [3], [2], [2], [2], [2], [2], [2], [2], [2], [2], [2], [2], [2], [2], [2], [2], [2], [2], [2], [2], [2], [2], [2], [2], [2], [2], [2], [2], [2], [2], [2], [2], [2], [2], [2], [2], [2], [2], [2], [2], [2], [2], [2], [2], [2], [2], [2], [2], [2], [2], [2], [2], [2], [2], [2], [2], [2], [2], [2], [2], [2], [2], [2], [2], [2], [2], [2], [2], [2], [2], [2], [2], [2], [2], [2], [2], [2], [2], [2], [2], [2], [2], [2], [2], [2], [2], [2], [2], [2], [2], [2], [2], [2], [2], [2], [2], [2], [2], [2], [2], [2], [2], [2], [2], [2], [2], [2], [2], [2], [2], [2], [2], [2], [2], [2], [2], [2], [2], [2], [2], [2], [2], [2], [2], [2], [2], [2], [2], [2], [2], [2], [2], [2], [2], [2], [2], [2], [2], [2], [2], [2], [2], [2], [2], [2], [5], [2], [2], [2], [2], [1], [1], [3], [3], [3], [3], [3], [3], [3], [3], [2], [2], [1], [1], [1], [1], [1], [1], [1], [1], [1], [1], [1], [1], [1], [1], [1], [1], [1], [1], [1], [1], [1], [1], [1], [1], [1], [1], [1], [1], [1], [1], [1], [1], [1], [1], [1], [1], [1], [1], [1], [1], [1], [1], [1], [1], [1], [1], [1], [1], [1], [1], [1], [1], [1], [1], [1], [1], [1], [1], [1], [1], [1], [1], [1], [1], [1], [1], [1], [1], [1], [1], [1], [1], [1], [1], [1], [1], [1], [1], [1], [1], [1], [1], [1], [1], [1], [1], [1], [1], [1], [1], [1], [1], [1], [1], [1], [1], [1], [1], [1], [1], [1], [1], [1], [1], [1], [1], [1], [1], [1], [1], [1], [1], [1], [1], [1], [1], [1], [1], [1], [1], [1], [1], [1], [1], [1], [1], [1], [1], [1], [1], [1], [1], [1], [1], [1], [1], [1], [1], [1], [1], [1], [1], [1], [1], [1], [1], [1], [1], [1], [1], [1], [1], [1], [1], [1], [1], [1], [1], [1], [1], [1], [1], [1], [1], [1], [1], [1], [1], [1], [1], [1], [1], [1], [1], [1], [1], [1], [1], [2], [2], [2], [2], [2], [1], [1], [1], [1], [1], [1], [1], [1], [1], [1], [1], [1], [1], [1], [1], [1], [1], [1], [1], [1], [1], [1], [1], [1], [1], [1], [1], [1], [1], [1], [1], [1], [1], [1], [1], [1], [1], [1], [1], [1], [1], [1], [1], [1], [1], [1], [1], [1], [1], [1], [1], [1], [1], [1], [1], [1], [1], [1], [1], [1], [1], [1], [1], [1], [1], [1], [1], [1], [1], [1], [1], [1], [1], [1], [1], [1], [1], [1], [1], [1], [1], [1], [1], [1], [1], [1], [1], [1], [1], [1], [1], [1], [1], [1], [1], [1], [1], [1], [1], [1], [1], [1], [1], [1], [1], [1], [1], [1], [1], [1], [1], [1], [1], [1], [1], [1], [1], [1], [1], [1], [1], [1], [1], [1], [1], [1], [1], [1], [1], [1], [1], [1], [1], [1], [1], [1], [1], [1], [1], [1], [1], [1], [1], [1], [1], [1], [1], [1], [1], [1], [1], [1], [1], [1], [1], [1], [1], [1], [1], [1], [1], [1], [1], [1], [1], [1], [1], [1], [1], [1], [1], [1], [1], [1], [1], [1], [1], [1], [1], [1], [1], [1], [1], [1], [1], [1], [1], [1], [1], [1], [1], [1], [1], [1], [1], [1], [1], [1], [1], [1], [1], [1], [1], [1], [1], [1], [1], [1], [1], [1], [1], [1], [1], [1], [1], [1], [1], [1], [1], [1], [1], [1], [1], [1], [1], [1], [1], [1], [1], [1], [1], [1], [1], [1], [1], [1], [1], [1], [1], [1], [1], [1], [1], [1], [1], [1], [1], [1], [1], [1], [1], [1], [1], [1], [1], [1], [1], [1], [1], [1], [1], [1], [1], [1], [1], [1], [1], [1], [1], [1], [1], [1], [1], [1], [1], [1], [1], [1], [1], [1], [1], [1], [1], [1], [1], [1], [1], [1], [1], [1], [1], [1], [1], [1], [1], [1], [1], [1], [1], [1], [1], [1], [1], [1], [1], [1], [1], [1], [1], [1], [1], [1], [1], [1], [1], [1], [1], [1], [1], [1], [1], [1], [1], [1], [1], [1], [1], [1], [1], [1], [1], [1], [1], [1], [1], [1], [1], [1], [1], [1], [1], [1], [1], [1], [1], [1], [1], [1], [1], [1], [1], [1], [1], [1], [1], [1], [1], [1], [1], [1], [1], [1], [1], [1], [1], [1], [1], [1], [1], [1], [1], [1], [1], [1], [1], [1], [1], [1], [1], [1], [1], [1], [1], [1], [1], [1], [1], [1], [1], [1], [1], [1], [1], [1], [1], [1], [1], [1], [1], [1], [1], [1], [1], [1], [1], [1], [1], [1], [1], [1], [1], [1], [1], [1], [1], [1], [1], [1], [1], [1], [1], [1], [1], [1], [1], [1], [1], [1], [1], [1], [1], [1], [1], [1], [1], [1], [1], [1], [1], [1], [1], [1], [1], [1], [1], [1], [1], [1], [1], [1], [1], [1], [1], [1], [1], [1], [1], [1], [1], [1], [1], [1], [1], [1], [1], [1], [1], [1], [1], [1], [1], [1], [1], [1], [1], [1], [1], [1], [1], [1], [1], [1], [1], [1], [1], [1], [1], [1], [1], [1], [1], [1], [1], [1], [1], [1], [1], [1], [1], [1], [1], [1], [1], [1], [1], [1], [1], [1], [1], [1], [1], [1], [1], [1], [1], [1], [1], [1], [1], [1], [1], [1], [1], [1], [1], [1], [1], [1], [1], [1], [1], [1], [1], [1], [1], [1], [1], [1], [1], [1], [1], [1], [1], [1], [1], [1], [1], [1], [1], [1], [1], [1], [1], [1], [1], [1], [1], [1], [1], [1], [1], [1], [1], [1], [1], [1], [1], [1], [1], [1], [1], [1], [1], [1], [1], [1], [1], [1], [1], [1], [1], [1], [1], [1], [1], [1], [1], [1], [1], [1], [1], [1], [1], [1], [1], [1], [1], [1], [1], [1], [1], [1], [1], [1], [1], [1], [1], [1], [1], [1], [1], [1], [1], [1], [1], [1], [1], [1], [1], [1], [1], [1], [1], [1], [1], [1], [1], [1], [1], [1], [1], [1], [1], [1], [1], [1], [1], [1], [1], [1], [1], [1], [1], [1], [1], [1], [1], [1], [1], [1], [1], [1], [1], [1], [1], [1], [1], [1], [1], [1], [1], [1], [1], [1], [1], [1], [1], [1], [1], [1], [1], [1], [1], [1], [1], [1], [1], [1], [1], [1], [1], [1], [1], [1], [1], [1], [1], [1], [1], [1], [1], [1], [1], [1], [1], [1], [1], [1], [1], [1], [1], [1], [1], [1], [1], [1], [1], [1], [1], [1], [1], [1], [1], [1], [1], [1], [1], [1], [1], [1], [1], [1], [1], [1], [1], [1], [1], [1], [1], [1], [1], [1], [1], [1], [1], [1], [1], [1], [1], [1], [1], [1], [1], [1], [1], [1], [1], [1], [1], [1], [1], [1], [1], [1], [1], [1], [1], [1], [1], [1], [1], [1], [1], [1], [1], [1], [1], [1], [1], [1], [1], [1], [1], [1], [1], [1], [1], [1], [1], [1], [1], [1], [1], [1], [1], [1], [1], [1], [1], [1], [1], [1], [1], [1], [1], [1], [1], [1], [1], [1], [1], [1], [1], [1], [1], [1], [1], [1], [1], [1], [1], [1], [1], [1], [1], [1], [1], [1], [1], [1], [1], [1], [1], [1], [1], [1], [1], [1], [1], [1], [1], [1], [1], [1], [1], [1], [1], [1], [1], [1], [1], [1], [1], [1], [1], [1], [1], [1], [1], [1], [1], [1], [1], [1], [1], [1], [1], [1], [1], [1], [1], [1], [1], [1], [1], [1], [1], [1], [1], [1], [1], [1], [1], [1], [1], [1], [1], [1], [1], [1], [1], [1], [1], [1], [1], [1], [1], [1], [1], [1], [1], [1], [1], [1], [1], [1], [1], [1], [1], [1], [1], [1], [1], [1], [1], [1], [1], [1], [1], [1], [1], [1], [1], [1], [1], [1], [1], [1], [1], [1], [1], [1], [1], [1], [1], [1], [1], [1], [1], [1], [1], [1], [1], [1], [1], [1], [1], [1], [1], [1], [1], [1], [1], [1], [1], [1], [1], [1], [1], [1], [1], [1], [1], [1], [1], [1], [1], [1], [1], [1], [1], [1], [1], [1], [1], [1], [1], [1], [1], [1], [1], [1], [1], [1], [1], [1], [1], [1], [1], [1], [1], [1], [1], [1], [1], [1], [1], [1], [1], [1], [1], [1], [1], [1], [1], [1], [1], [1], [1], [1], [1], [1], [1], [1], [1], [1], [1], [1], [1], [1], [1], [1], [1], [1], [1], [1], [1], [1], [1], [1], [1], [1], [1], [1], [1], [1], [1], [1], [1], [1], [1], [1], [1], [1], [1], [1], [1], [1], [1], [1], [1], [1], [1], [1], [1], [1], [1], [1], [1], [1], [1], [1], [1], [1], [1], [1], [1], [1], [1], [1], [1], [1], [1], [1], [1], [1], [1], [1], [1], [1], [1], [1], [1], [1], [1], [1], [1], [1], [1], [1], [1], [1], [1], [1], [1], [1], [1], [1], [1], [1], [1], [1], [1], [1], [1], [1], [1], [1], [1], [1], [1], [1], [1], [1], [1], [1], [1], [1], [1], [1], [1], [1], [1], [1], [1], [1], [1], [1], [1], [1], [1], [1], [1], [1], [1], [1], [1], [1], [1], [1], [1], [1], [1], [1], [1], [1], [1], [1], [1], [1], [1], [1], [1], [1], [1], [1], [1], [1], [1], [1], [1], [1], [1], [1], [1], [1], [1], [1], [1], [1], [1], [1], [1], [1], [1], [1], [1], [1], [1], [1], [1], [1], [1], [1], [1], [1], [1], [1], [1], [1], [1], [1], [1], [1], [1], [1], [1], [1], [1], [1], [1], [1], [1], [1], [1], [1], [1], [1], [1], [1], [1], [1], [1], [1], [1], [1], [1], [1], [1], [1], [1], [1], [1], [1], [1], [1], [1], [1], [1], [1], [1], [1], [1], [1], [1], [1], [1], [1], [1], [1], [1], [1], [1], [1], [1], [1], [1], [1], [1], [1], [1], [1], [1], [1], [1], [1], [1], [1], [1], [1], [1], [1], [1], [1], [1], [1], [1], [1], [1], [1], [1], [1], [1], [1], [1], [1], [1], [1], [1], [1], [1], [1], [1], [1], [1], [1], [1], [1], [1], [1], [1], [1], [1], [1], [1], [1], [1], [1], [1], [1], [1], [1], [1], [1], [1], [1], [1], [1], [1], [1], [1], [1], [1], [1], [1], [1], [1], [1], [1], [1], [1], [1], [1], [1], [1], [1], [1], [1], [1], [1], [1], [1], [1], [1], [1], [1], [1], [1], [1], [1], [1], [1], [1], [1], [1], [1], [1], [1], [1], [1], [1], [1], [1], [1], [1], [1], [1], [1], [1], [1], [1], [1], [1], [1], [1], [1], [1], [1], [1], [1], [1], [1], [1], [1], [1], [1], [1], [1], [1], [1], [1], [1], [1], [1], [1], [1], [1], [1], [1], [1], [1], [1], [1], [1], [1], [1], [1], [1], [1], [1], [1], [1], [1], [1], [1], [1], [1], [1], [1], [1], [1], [1], [1], [1], [1], [1], [1], [1], [1], [1], [1], [1], [1], [1], [1], [1], [1], [1], [1], [1], [1], [1], [1], [1], [1], [1], [1], [1], [1], [1], [1], [1], [1], [1], [1], [1], [1], [1], [1], [1], [1], [1], [1], [1], [1], [1], [1], [1], [1], [1], [1], [1], [1], [1], [1], [1], [1], [1], [1], [1], [1], [1], [1], [1], [1], [1], [1], [1], [1], [1], [1], [1], [1], [1], [1], [1], [1], [1], [1], [1], [1], [1], [1], [1], [1], [1], [1], [1], [1], [1], [1], [1], [1], [1], [1], [1], [1], [1], [1], [1], [1], [1], [1], [1], [1], [1], [1], [1], [1], [1], [1], [1], [1], [1], [1], [1], [1], [1], [1], [1], [1], [1], [1], [1], [1], [1], [1], [1], [1], [1], [1], [1], [1], [1], [1], [1], [1], [1], [1], [1], [1], [1], [1], [1], [1], [1], [1], [1], [1], [1], [1], [1], [1], [1], [1], [1], [1], [1], [1], [1], [1], [1], [1], [1], [1], [1], [1], [1], [1], [1], [1], [1], [1], [1], [1], [1], [1], [1], [1], [1], [1], [1], [1], [1], [1], [1], [1], [1], [1], [1], [1], [1], [1], [1], [1], [1], [1], [1], [1], [1], [1], [1], [1], [1], [1], [1], [1], [1], [1], [1], [1], [1], [1], [1], [1], [1], [1], [1], [1], [1], [1], [1], [1], [1], [1], [1], [1], [1], [1], [1], [1], [1], [1], [1], [1], [1], [1], [1], [1], [1], [1], [1], [1], [1], [1], [1], [1], [1], [1], [1], [1], [1], [1], [1], [1], [1], [1], [1], [1], [1], [1], [1], [1], [1], [1], [1], [1], [1], [1], [1], [1], [1], [1], [1], [1], [1], [1], [1], [1], [1], [1], [1], [1], [1], [1], [1], [1], [1], [1], [1], [1], [1], [1], [1], [1], [1], [1], [1], [1], [1], [1], [1], [1], [1], [1], [1], [1], [1], [1], [1], [1], [1], [1], [1], [1], [1], [1], [1], [1], [1], [1], [1], [1], [1], [1], [1], [1], [1], [1], [1], [1], [1], [1], [1], [1], [1], [1], [1], [1], [1], [1], [1], [1], [1], [1], [1], [1], [1], [1], [1], [1], [1], [1], [1], [1], [1], [1], [1], [1], [1], [1], [1], [1], [2], [2], [2], [2], [2], [2], [2], [2], [2], [2], [2], [2], [2], [2], [2], [2], [2], [2], [2], [2], [2], [2], [2], [2], [2], [2], [2], [2], [2], [2], [2], [2], [2], [2], [2], [2], [2], [2], [2], [2], [2], [2], [2], [2], [2], [2], [2], [2], [2], [2], [2], [2], [2], [2], [2], [2], [2], [2], [2], [2], [2], [2], [2], [2], [2], [2], [2], [2], [2], [2], [2], [2], [2], [2], [5], [5], [2], [3], [2], [4], [4], [4], [4], [4], [4], [4], [4], [4], [4], [4], [4], [4], [4], [4], [4], [4], [4], [4], [4], [4], [4], [4], [4], [4], [4], [4], [4], [4], [3], [3], [3], [3], [1], [1], [1], [1], [1], [1], [1], [1], [1], [1], [1], [1], [1], [1], [1], [1], [1], [1], [1], [1], [1], [1], [1], [1], [1], [1], [3], [1], [2], [1], [1], [1], [2], [2], [1], [2], [2], [2], [2], [2], [2], [2], [2], [2], [2], [2], [2], [2], [2], [2], [2], [2], [2], [2], [2], [2], [2], [2], [2], [2], [2], [2], [2], [2], [2], [2], [2], [2], [2], [2], [2], [2], [2], [2], [2], [2], [2], [2], [2], [2], [2], [2], [2], [2], [2], [2], [2], [2], [2], [2], [2], [2], [2], [2], [2], [2], [2], [2], [2], [2], [2], [2], [2], [2], [2], [2], [2], [2], [2], [2], [2], [2], [2], [2], [2], [2], [2], [2], [2], [2], [2], [2], [2], [2], [2], [2], [2], [2], [2], [2], [2], [2], [2], [2], [2], [2], [2], [2], [2], [2], [2], [2], [2], [2], [2], [2], [2], [2], [2], [2], [2], [2], [2], [2], [2], [2], [2], [2], [2], [2], [2], [2], [2], [2], [2], [2], [2], [2], [2], [2], [2], [2], [2], [2], [2], [2], [2], [2], [2], [2], [2], [2], [2], [2], [2], [2], [2], [2], [2], [2], [2], [2], [2], [2], [2], [2], [2], [2], [2], [2], [2], [2], [2], [2], [2], [2], [2], [2], [2], [2], [3], [4], [4], [4], [4], [4], [4], [4], [4], [4], [4], [4], [4], [4], [4], [4], [4], [4], [4], [4], [4], [4], [4], [4], [4], [4], [4], [4], [4], [4], [4], [4], [4], [4], [4], [4], [4], [4], [4], [4], [4], [4], [4], [4], [4], [4], [4], [4], [4], [4], [4], [4], [4], [4], [4], [4], [4], [4], [4], [4], [4], [4], [4], [4], [4], [4], [4], [4], [4], [4], [4], [4], [4], [4], [4], [4], [4], [4], [4], [4], [4], [4], [4], [4], [4], [4], [4], [4], [4], [4], [4], [4], [4], [4], [4], [4], [4], [4], [4], [4], [4], [4], [4], [4], [4], [4], [4], [4], [4], [4], [4], [4], [4], [4], [4], [4], [4], [4], [4], [4], [4], [4], [4], [4], [4], [4], [4], [4], [4], [4], [4], [4], [4], [4], [4], [4], [4], [4], [4], [4], [4], [4], [4], [4], [4], [4], [4], [4], [4], [4], [4], [4], [4], [4], [4], [4], [4], [4], [4], [4], [4], [4], [4], [4], [4], [4], [4], [4], [4], [4], [4], [4], [4], [4], [4], [4], [4], [4], [4], [4], [4], [4], [4], [4], [4], [4], [4], [4], [4], [4], [4], [4], [4], [4], [4], [4], [4], [4], [4], [4], [4], [4], [4], [4], [4], [4], [4], [4], [4], [4], [4], [4], [4], [4], [4], [4], [4], [3], [2], [2], [2], [2], [2], [2], [2], [2], [2], [2], [2], [2], [2], [2], [2], [2], [2], [2], [2], [2], [2], [1], [1], [2], [2], [2], [2], [2], [2], [2], [2], [2], [2], [2], [2], [3], [3], [3], [3], [3], [3], [3], [3], [3], [3], [3], [1], [1], [1], [1], [1], [1], [1], [1], [1], [1], [1], [1], [1], [1], [1], [2], [2], [2], [1], [1], [1], [1], [2], [1], [1], [1], [1], [1], [1], [1], [1], [1], [1], [1], [1], [1], [2], [2], [2], [2], [2], [2], [2], [2], [3], [3], [3], [3], [2], [2], [3], [2], [2], [2], [3], [3], [3], [3], [3], [3], [3], [3], [3], [3], [3], [3], [3], [3], [3], [3], [3], [2], [2], [2], [2], [2], [3], [3], [3], [3], [2], [2], [2], [2], [2], [2], [2], [2], [2], [2], [2], [2], [2], [2], [2], [2], [2], [2], [2], [2], [2], [2], [2], [2], [2], [2], [2], [2], [2], [2], [2], [2], [2], [2], [2], [2], [2], [2], [2], [2], [2], [2], [2], [2], [2], [2], [2], [2], [2], [2], [2], [2], [2], [2], [2], [2], [2], [2], [2], [2], [2], [2], [3], [3], [3], [3], [3], [3], [3], [3], [3], [3], [3], [3], [3], [3], [3], [3], [3], [3], [3], [3], [3], [3], [3], [3], [3], [3], [3], [3], [3], [3], [3], [3], [3], [3], [3], [3], [3], [3], [3], [3], [3], [3], [3], [3], [3], [3], [3], [3], [3], [3], [3], [3], [3], [3], [3], [3], [3], [3], [3], [3], [3], [3], [3], [3], [3], [3], [3], [3], [3], [3], [3], [3], [3], [3], [3], [3], [3], [3], [3], [3], [3], [3], [3], [3], [3], [3], [3], [3], [3], [3], [3], [3], [3], [3], [3], [3], [3], [3], [3], [3], [3], [3], [3], [3], [3], [3], [3], [3], [3], [3], [3], [3], [3], [3], [3], [3], [3], [3], [3], [3], [3], [3], [3], [3], [3], [3], [3], [3], [3], [3], [3], [3], [3], [3], [3], [3], [3], [3], [3], [3], [3], [3], [3], [3], [3], [3], [3], [3], [3], [3], [3], [3], [3], [3], [3], [3], [3], [3], [3], [3], [3], [2], [2], [3], [3], [3], [3], [3], [3], [3], [3], [3], [3], [3], [3], [3], [3], [3], [3], [3], [3], [3], [3], [3], [3], [3], [3], [3], [3], [3], [3], [3], [3], [3], [3], [3], [3], [3], [3], [3], [3], [3], [3], [3], [3], [3], [3], [3], [3], [6], [3], [3], [3], [3], [3], [3], [3], [3], [3], [3], [3], [3], [3], [3], [3], [3], [3], [3], [3], [3], [3], [3], [3], [3], [3], [3], [3], [3], [3], [3], [3], [3], [3], [3], [3], [6], [6], [6], [6], [6], [6], [6], [6], [6], [6], [6], [6], [6], [6], [6], [6], [6], [6], [6], [6], [6], [6], [3], [6], [6], [3], [3], [3], [3], [3], [3], [3], [3], [3], [3], [3], [3], [3], [2], [2], [2], [2], [2], [2], [2], [2], [2], [1], [2], [2], [1], [1], [1], [1], [1], [1], [1], [1], [1], [1], [1], [1], [1], [1], [1], [1], [1], [1], [1], [1], [1], [1], [1], [1], [1], [1], [1], [1], [1], [1], [1], [1], [1], [1], [1], [1], [1], [1], [1], [1], [1], [1], [1], [1], [1], [1], [1], [1], [1], [1], [1], [1], [1], [1], [1], [1], [1], [1], [1], [1], [1], [1], [1], [1], [1], [1], [1], [1], [1], [1], [1], [1], [1], [1], [1], [1], [1], [1], [1], [1], [1], [1], [1], [1], [1], [1], [1], [1], [1], [1], [1], [1], [1], [1], [1], [1], [1], [1], [1], [1], [1], [1], [1], [1], [1], [1], [1], [1], [3], [3], [2], [2], [1], [2], [2], [2], [2], [2], [2], [2], [2], [2], [2], [2], [2], [2], [2], [2], [2], [2], [2], [2], [2], [1], [1], [1], [1], [1], [2], [2], [2], [2], [2], [2], [2], [2], [2], [2], [2], [2], [2], [1], [1], [2], [2], [2], [2], [2], [1], [1], [1], [1], [1], [1], [1], [2], [1], [1], [1], [1], [1], [1], [1], [2], [2], [1], [1], [2], [2], [1], [1], [2], [1], [2], [1], [2], [2], [2], [2], [2], [2], [2], [2], [2], [2], [2], [2], [2], [2], [2], [2], [2], [2], [2], [2], [2], [2], [2], [1], [1], [1], [1], [1], [1], [1], [2], [2], [1], [1], [1], [1], [1], [1], [1], [2], [1], [1], [2], [2], [2], [2], [2], [2], [2], [2], [2], [2], [2], [2], [2], [2], [1], [2], [2], [2], [2], [2], [2], [2], [2], [2], [2], [2], [2], [2], [2], [2], [2], [2], [2], [2], [2], [2], [2], [2], [2], [2], [2], [2], [2], [2], [2], [2], [2], [2], [2], [2], [2], [2], [2], [2], [2], [2], [2], [2], [2], [2], [2], [2], [2], [2], [2], [2], [2], [2], [2], [2], [2], [2], [2], [2], [2], [2], [2], [2], [2], [2], [2], [2], [2], [2], [2], [2], [2], [2], [2], [2], [2], [2], [2], [2], [2], [2], [2], [2], [2], [2], [2], [2], [2], [2], [2], [2], [2], [2], [2], [2], [2], [2], [2], [2], [2], [2], [2], [2], [2], [2], [2], [2], [2], [2], [2], [2], [2], [2], [2], [2], [2], [2], [2], [2], [2], [2], [2], [2], [2], [2], [2], [2], [2], [2], [2], [2], [2], [2], [2], [2], [2], [2], [2], [2], [2], [2], [2], [2], [2], [2], [2], [2], [2], [2], [2], [2], [2], [2], [2], [2], [2], [2], [2], [2], [2], [2], [2], [2], [2], [2], [2], [2], [2], [2], [2], [2], [2], [2], [3], [2], [2], [2], [2], [2], [2], [2], [2], [2], [2], [2], [2], [2], [2], [2], [2], [2], [2], [2], [2], [2], [2], [2], [2], [2], [2], [2], [2], [2], [2], [2], [2], [2], [2], [2], [2], [2], [2], [2], [2], [2], [2], [2], [2], [2], [2], [2], [2], [2], [2], [2], [2], [2], [2], [2], [2], [2], [2], [2], [2], [2], [2], [2], [2], [2], [2], [2], [2], [2], [2], [2], [2], [2], [2], [2], [2], [2], [2], [2], [2], [2], [2], [2], [2], [2], [2], [2], [2], [2], [2], [2], [2], [2], [2], [2], [2], [2], [2], [2], [2], [2], [2], [2], [2], [2], [2], [2], [2], [2], [2], [2], [2], [2], [2], [2], [2], [2], [2], [2], [2], [2], [2], [2], [2], [2], [2], [2], [2], [2], [2], [2], [2], [2], [2], [2], [2], [2], [2], [2], [2], [2], [2], [2], [2], [2], [2], [2], [2], [2], [2], [2], [2], [2], [2], [2], [2], [2], [2], [2], [2], [2], [2], [2], [2], [2], [2], [2], [2], [2], [2], [2], [2], [2], [2], [2], [2], [2], [2], [2], [2], [2], [2], [2], [2], [2], [2], [2], [2], [2], [2], [2], [2], [2], [2], [2], [2], [2], [2], [2], [2], [2], [2], [2], [2], [2], [2], [2], [2], [2], [2], [2], [2], [2], [2], [2], [2], [2], [2], [2], [2], [2], [2], [2], [2], [2], [2], [2], [2], [2], [2], [2], [2], [2], [2], [2], [2], [2], [2], [2], [2], [2], [2], [2], [2], [2], [2], [2], [2], [2], [2], [2], [2], [2], [2], [2], [2], [2], [2], [2], [2], [2], [2], [2], [2], [2], [2], [2], [2], [2], [2], [2], [2], [2], [2], [2], [2], [2], [2], [2], [2], [2], [2], [2], [2], [2], [2], [2], [2], [2], [2], [2], [2], [2], [2], [2], [2], [2], [2], [2], [2], [2], [2], [2], [2], [2], [2], [2], [2], [2], [2], [2], [2], [2], [2], [2], [2], [2], [2], [2], [2], [2], [2], [2], [2], [2], [2], [2], [2], [2], [2], [2], [2], [2], [2], [2], [2], [2], [2], [2], [2], [2], [2], [2], [2], [2], [2], [2], [2], [2], [2], [2], [2], [2], [2], [2], [2], [2], [2], [2], [2], [2], [2], [2], [2], [2], [2], [2], [2], [2], [2], [2], [2], [2], [2], [2], [2], [2], [2], [2], [2], [2], [2], [2], [2], [2], [2], [2], [2], [2], [2], [2], [2], [2], [2], [2], [2], [2], [2], [2], [2], [2], [2], [2], [2], [2], [2], [2], [2], [2], [2], [2], [2], [2], [2], [2], [2], [2], [2], [2], [2], [2], [2], [2], [2], [2], [2], [2], [2], [2], [2], [2], [2], [2], [2], [2], [2], [2], [1], [1], [1], [1], [2], [2], [2], [3], [3], [1], [1], [3], [3], [3], [2], [2], [2], [2], [2], [2], [2], [2], [2], [2], [2], [2], [2], [2], [1], [1], [6], [1], [1], [1], [1], [1], [1], [1], [1], [1], [2], [3], [3], [3], [3], [3], [3], [2], [2], [2], [2], [2], [2], [1], [1], [1], [1], [1], [1], [1], [1], [2], [2], [2], [2], [2], [2], [2], [2], [2], [2], [2], [2], [2], [2], [2], [2], [2], [1], [1], [5], [3], [2], [2], [2], [2], [2], [2], [2], [2], [2], [2], [2], [2], [2], [2], [2], [2], [2], [2], [2], [2], [2], [2], [2], [2], [2], [2], [2], [2], [1], [1], [2], [2], [2], [2], [2], [2], [2], [2], [3], [2], [2], [2], [2], [2], [1], [1], [1], [1], [1], [1], [1], [1], [1], [1], [2], [2], [2], [1], [1], [1], [2], [3], [3], [3], [3], [3], [3], [3], [3], [3], [3], [3], [3], [3], [3], [3], [3], [3], [3], [3], [3], [3], [3], [3], [3], [3], [3], [3], [3], [3], [3], [3], [3], [3], [3], [3], [3], [3], [3], [3], [3], [3], [3], [3], [3], [3], [3], [3], [3], [3], [3], [3], [1], [1], [2], [1], [2], [2], [2], [2], [2], [2], [2], [2], [1], [3], [3], [2], [2], [1], [1], [1], [1], [1], [3], [3], [3], [3], [3], [3], [3], [3], [3], [3], [3], [3], [3], [3], [3], [3], [3], [3], [3], [3], [3], [3], [3], [3], [3], [3], [3], [3], [3], [5], [1], [2], [1], [1], [1], [1], [4], [1], [1], [1], [1], [1], [1], [1], [1], [1], [1], [1], [1], [1], [1], [1], [1], [1], [1], [1], [1], [1], [1], [1], [1], [1], [1], [1], [1], [1], [1], [1], [1], [1], [1], [1], [1], [1], [1], [1], [1], [1], [1], [1], [1], [1], [1], [1], [1], [1], [1], [1], [1], [1], [1], [1], [1], [1], [1], [3], [3], [3], [3], [3], [3], [3], [3], [3], [3], [3], [3], [3], [3], [1], [1], [1], [1], [1], [1], [1], [1], [1], [1], [1], [1], [1], [1], [1], [1], [1], [1], [1], [1], [1], [1], [1], [1], [1], [1], [1], [1], [1], [1], [1], [1], [1], [1], [1], [1], [1], [1], [1], [1], [1], [1], [1], [1], [1], [1], [1], [1], [1], [1], [1], [1], [1], [1], [1], [1], [1], [1], [1], [1], [1], [1], [1], [1], [1], [1], [1], [1], [1], [1], [1], [1], [1], [1], [1], [1], [1], [1], [1], [1], [1], [1], [1], [1], [1], [1], [1], [1], [1], [1], [1], [1], [1], [1], [1], [1], [1], [1], [1], [1], [1], [1], [1], [1], [1], [1], [1], [1], [1], [1], [1], [1], [1], [1], [1], [1], [1], [1], [1], [1], [1], [1], [1], [1], [1], [1], [1], [1], [1], [1], [1], [1], [1], [1], [1], [1], [1], [1], [1], [1], [1], [1], [2], [2], [2], [1], [1], [1], [1], [1], [1], [1], [1], [3], [3], [3], [3], [3], [3], [3], [3], [3], [3], [3], [3], [3], [3], [3], [3], [3], [3], [1], [3], [3], [3], [3], [2], [2], [3], [3], [3], [3], [3], [3], [3], [3], [3], [2], [1], [1], [1], [1], [1], [1], [1], [1], [1], [1], [1], [1], [1], [1], [1], [1], [1], [1], [1], [1], [1], [1], [1], [1], [1], [1], [1], [2], [2], [2], [2], [4], [4], [2], [2], [2], [5], [4], [5], [5], [5], [5], [5], [5], [5], [5], [5], [5], [5], [2], [5], [5], [5], [5], [5], [5], [5], [5], [5], [1], [1], [1], [1], [1], [1], [1], [1], [2], [2], [2], [2], [2], [2], [2], [2], [2], [2], [2], [2], [2], [2], [2], [2], [2], [2], [2], [2], [2], [2], [2], [2], [2], [2], [2], [2], [2], [2], [1], [1], [1], [2], [2], [2], [2], [1], [1], [1], [2], [2], [2], [2], [2], [2], [2], [2], [2], [2], [2], [2], [2], [2], [2], [2], [2], [2], [2], [2], [2], [2], [2], [2], [2], [2], [2], [2], [2], [2], [2], [2], [2], [2], [2], [2], [2], [2], [2], [2], [2], [2], [1], [1], [2], [6], [1], [1], [1], [1], [1], [1], [1], [1], [1], [1], [1], [1], [1], [1], [1], [1], [1], [1], [1], [1], [1], [1], [1], [1], [1], [1], [1], [1], [1], [1], [1], [1], [1], [1], [1], [1], [1], [1], [1], [1], [1], [1], [1], [1], [1], [1], [1], [1], [1], [1], [1], [1], [1], [1], [1], [1], [1], [1], [1], [1], [1], [1], [1], [1], [1], [1], [1], [1], [1], [1], [1], [1], [1], [1], [1], [1], [1], [1], [1], [1], [1], [1], [1], [1], [1], [1], [1], [1], [1], [1], [1], [1], [1], [1], [1], [1], [1], [1], [1], [1], [1], [1], [1], [1], [1], [1], [1], [1], [1], [1], [1], [1], [1], [1], [1], [6], [6], [6], [2], [2], [2], [2], [1], [1], [1], [3], [1], [1], [1], [1], [1], [2], [3], [2], [2], [3], [3], [3], [1], [2], [2], [2], [2], [2], [2], [2], [2], [2], [2], [2], [2], [2], [2], [3], [2], [2], [2], [2], [2], [2], [2], [2], [2], [2], [2], [4], [2], [2], [3], [4], [1], [1], [2], [2], [2], [2], [2], [1], [1], [1], [1], [2], [2], [2], [1], [1], [1], [2], [2], [2], [2], [2], [2], [1], [1], [1], [1], [1], [2], [2], [2], [2], [2], [2], [2], [2], [2], [2], [2], [2], [2], [2], [2], [2], [2], [1], [2], [3], [3], [3], [3], [2], [2], [2], [2], [2], [1], [1], [1], [2], [2], [2], [1], [1], [2], [2], [2], [2], [3], [3], [2], [1], [1], [1], [1], [1], [1], [1], [1], [2], [2], [2], [2], [2], [2], [2], [2], [3], [2], [2], [2], [2], [2], [2], [2], [2], [2], [2], [2], [2], [2], [2], [2], [2], [2], [2], [2], [2], [3], [2], [2], [2], [2], [2], [2], [2], [2], [2], [2], [2], [2], [2], [2], [2], [2], [2], [2], [2], [2], [3], [3], [3], [3], [3], [3], [3], [3], [3], [3], [3], [3], [3], [3], [3], [3], [3], [3], [3], [3], [3], [3], [3], [3], [3], [3], [3], [3], [3], [3], [3], [3], [2], [2], [1], [1], [1], [2], [2], [2], [2], [2], [2], [2], [2], [2], [2], [2], [2], [2], [2], [2], [2], [2], [2], [2], [2], [2], [2], [2], [2], [2], [1], [2], [3], [3], [2], [2], [2], [3], [3], [2], [2], [1], [1], [2], [2], [2], [1], [1], [2], [3], [2], [2], [2], [2], [2], [2], [1], [1], [1], [1], [1], [1], [1], [1], [1], [2], [2], [1], [1], [1], [1], [1], [1], [2], [2], [2], [2], [2], [2], [2], [2], [2], [2], [2], [2], [2], [2], [2], [2], [1], [1], [1], [1], [1], [1], [1], [2], [2], [2], [2], [2], [2], [2], [2], [2], [2], [2], [2], [2], [2], [2], [2], [2], [2], [2], [2], [2], [2], [2], [2], [2], [2], [2], [2], [2], [2], [2], [2], [2], [2], [2], [2], [2], [2], [2], [2], [2], [2], [2], [2], [2], [2], [2], [2], [2], [2], [2], [2], [2], [2], [2], [2], [2], [2], [2], [2], [2], [2], [2], [2], [2], [2], [2], [2], [2], [2], [2], [2], [2], [2], [2], [2], [2], [2], [2], [2], [2], [2], [2], [2], [2], [2], [2], [2], [2], [2], [2], [2], [2], [2], [2], [2], [2], [2], [2], [2], [2], [2], [2], [2], [2], [2], [2], [2], [2], [2], [2], [2], [2], [2], [2], [2], [2], [2], [2], [2], [2], [2], [2], [2], [2], [2], [2], [2], [2], [2], [2], [2], [2], [2], [2], [2], [2], [2], [2], [2], [2], [2], [2], [2], [2], [2], [2], [2], [2], [2], [2], [2], [2], [2], [2], [2], [2], [2], [2], [2], [2], [2], [2], [2], [2], [2], [2], [2], [2], [2], [2], [2], [2], [2], [2], [2], [2], [2], [2], [2], [2], [2], [2], [2], [2], [2], [2], [2], [2], [2], [2], [2], [2], [2], [2], [2], [2], [2], [2], [2], [2], [2], [2], [2], [2], [2], [2], [2], [2], [2], [2], [2], [2], [2], [2], [2], [2], [2], [2], [2], [2], [2], [2], [2], [2], [2], [2], [2], [2], [2], [2], [2], [2], [2], [2], [2], [2], [2], [2], [2], [2], [2], [2], [2], [2], [2], [2], [2], [2], [2], [2], [2], [2], [2], [2], [2], [2], [2], [2], [2], [2], [2], [2], [2], [2], [2], [2], [2], [2], [2], [2], [2], [2], [2], [2], [2], [2], [2], [2], [2], [2], [2], [2], [2], [2], [2], [2], [2], [2], [2], [2], [2], [2], [2], [2], [2], [2], [2], [2], [2], [2], [2], [2], [2], [2], [2], [2], [2], [2], [2], [2], [2], [2], [2], [2], [2], [2], [2], [2], [2], [2], [2], [2], [2], [2], [2], [2], [2], [2], [2], [2], [2], [2], [2], [2], [2], [2], [2], [2], [2], [2], [2], [2], [2], [2], [2], [2], [2], [2], [2], [2], [2], [2], [2], [2], [2], [2], [2], [2], [2], [2], [2], [2], [2], [2], [2], [2], [2], [2], [2], [2], [2], [2], [2], [2], [2], [2], [2], [2], [2], [2], [2], [2], [2], [2], [2], [2], [2], [2], [2], [2], [2], [2], [2], [2], [2], [2], [2], [2], [2], [2], [2], [2], [2], [2], [2], [2], [2], [2], [2], [2], [2], [2], [2], [2], [2], [2], [2], [2], [2], [2], [2], [2], [2], [2], [2], [2], [2], [2], [2], [2], [2], [2], [2], [2], [2], [2], [2], [2], [2], [2], [2], [2], [2], [2], [2], [2], [2], [2], [2], [2], [2], [2], [2], [2], [2], [2], [2], [2], [2], [2], [2], [2], [2], [2], [2], [2], [2], [2], [2], [2], [2], [2], [2], [2], [2], [2], [2], [2], [2], [2], [2], [2], [2], [2], [2], [2], [2], [2], [2], [2], [2], [2], [2], [2], [2], [2], [2], [2], [2], [2], [2], [2], [2], [2], [2], [2], [2], [2], [2], [2], [2], [2], [2], [2], [2], [2], [2], [2], [2], [2], [2], [2], [2], [2], [2], [2], [2], [2], [2], [2], [2], [2], [2], [2], [2], [2], [2], [2], [2], [2], [2], [2], [2], [2], [2], [2], [2], [2], [2], [2], [2], [2], [2], [2], [2], [2], [2], [2], [2], [2], [2], [1], [1], [1], [1], [1]]\n"
          ],
          "name": "stdout"
        }
      ]
    },
    {
      "cell_type": "code",
      "metadata": {
        "colab": {
          "base_uri": "https://localhost:8080/"
        },
        "id": "mbltF_BqHFm3",
        "outputId": "b252d7e8-abb0-4751-889e-873dd7287394"
      },
      "source": [
        "from sklearn import preprocessing\n",
        "from numpy import array\n",
        "from numpy import argmax\n",
        "from keras.utils import to_categorical\n",
        "\n",
        "lbenc = preprocessing.LabelBinarizer()\n",
        "toklabs = to_categorical(toklabs)\n",
        "toklabs"
      ],
      "execution_count": null,
      "outputs": [
        {
          "output_type": "execute_result",
          "data": {
            "text/plain": [
              "array([[0., 0., 1., ..., 0., 0., 0.],\n",
              "       [0., 1., 0., ..., 0., 0., 0.],\n",
              "       [0., 1., 0., ..., 0., 0., 0.],\n",
              "       ...,\n",
              "       [0., 1., 0., ..., 0., 0., 0.],\n",
              "       [0., 1., 0., ..., 0., 0., 0.],\n",
              "       [0., 1., 0., ..., 0., 0., 0.]], dtype=float32)"
            ]
          },
          "metadata": {
            "tags": []
          },
          "execution_count": 28
        }
      ]
    },
    {
      "cell_type": "code",
      "metadata": {
        "id": "LOHf4rL-wSGY"
      },
      "source": [
        "from sklearn.model_selection import train_test_split\n",
        "\n",
        "\n",
        "x_train, x_test, ynn_train, ynn_test = train_test_split(padded_seqs,\n",
        "                                                        toklabs,\n",
        "                                                        test_size = 0.20,\n",
        "                                                        random_state = SEED,stratify=toklabs)"
      ],
      "execution_count": null,
      "outputs": []
    },
    {
      "cell_type": "markdown",
      "metadata": {
        "id": "cSoDAJE1dDVg"
      },
      "source": [
        "## CNN"
      ]
    },
    {
      "cell_type": "markdown",
      "metadata": {
        "id": "PI5PqIAAikGv"
      },
      "source": [
        "### Talos model"
      ]
    },
    {
      "cell_type": "code",
      "metadata": {
        "id": "ntLdpjRhuMvh"
      },
      "source": [
        "from tensorflow.keras.layers import Conv1D, Dense, MaxPooling1D, Flatten\n",
        "from tensorflow.keras.models import Sequential\n",
        "\n",
        "np.random.seed(13)\n",
        "\n",
        "model_teste = Sequential()\n",
        "model_teste.add(Conv1D(filters=64, kernel_size=8, \n",
        "                 input_shape=(x_train.shape[1], 1)))\n",
        "model_teste.add(MaxPooling1D(pool_size=4))\n",
        "\n",
        "model_teste.add(Conv1D(filters=32, kernel_size=8))\n",
        "model_teste.add(MaxPooling1D(pool_size=4))\n",
        "\n",
        "model_teste.add(Conv1D(filters=16, kernel_size=8))\n",
        "model_teste.add(MaxPooling1D(pool_size=4))\n",
        "\n",
        "model_teste.add(Flatten())\n",
        "\n",
        "model_teste.add(Dense(16, activation='relu'))\n",
        "model_teste.add(Dense(2, activation='sigmoid'))\n",
        "\n",
        "model_teste.compile(loss='logcosh', optimizer='adam', \n",
        "              metrics=['accuracy'])\n",
        "model_teste.summary()\n",
        "\n",
        "# Checkpoint\n",
        "filepath = \"model_teste_tl.hdf5\"\n",
        "checkpoint = ModelCheckpoint(filepath,\n",
        "                             monitor='val_acc',\n",
        "                             verbose=1,\n",
        "                             save_best_only=True,\n",
        "                             mode='max')\n",
        "callbacks_list = [checkpoint]\n",
        "\n",
        "# Fit the model\n",
        "history_teste = model_teste.fit(x_train_3d, ynn_train,\n",
        "                          epochs = 11,\n",
        "                          batch_size = 50,\n",
        "                          verbose = 1,\n",
        "                          callbacks = callbacks_list,\n",
        "                          validation_split = 0.0,\n",
        "                          validation_data = (x_test_3d,ynn_test))"
      ],
      "execution_count": null,
      "outputs": []
    },
    {
      "cell_type": "markdown",
      "metadata": {
        "id": "ngsRpmVepEVT"
      },
      "source": [
        "**Load model**"
      ]
    },
    {
      "cell_type": "code",
      "metadata": {
        "id": "Yoo5VSJ4op-U",
        "colab": {
          "base_uri": "https://localhost:8080/",
          "height": 139
        },
        "outputId": "be4bf14b-8be5-4b3b-abbf-e4de57136591"
      },
      "source": [
        "from tensorflow.keras.models import load_model\n",
        "\n",
        "# load model\n",
        "model_teste_ld = load_model('model_teste_tl.hdf5')"
      ],
      "execution_count": null,
      "outputs": [
        {
          "output_type": "stream",
          "text": [
            "WARNING:tensorflow:From /tensorflow-1.15.2/python3.6/tensorflow_core/python/ops/init_ops.py:97: calling GlorotUniform.__init__ (from tensorflow.python.ops.init_ops) with dtype is deprecated and will be removed in a future version.\n",
            "Instructions for updating:\n",
            "Call initializer instance with the dtype argument instead of passing it to the constructor\n",
            "WARNING:tensorflow:From /tensorflow-1.15.2/python3.6/tensorflow_core/python/ops/init_ops.py:97: calling Zeros.__init__ (from tensorflow.python.ops.init_ops) with dtype is deprecated and will be removed in a future version.\n",
            "Instructions for updating:\n",
            "Call initializer instance with the dtype argument instead of passing it to the constructor\n"
          ],
          "name": "stdout"
        }
      ]
    },
    {
      "cell_type": "markdown",
      "metadata": {
        "id": "qG2XUgY7jMlA"
      },
      "source": [
        "**Model summary**\n"
      ]
    },
    {
      "cell_type": "code",
      "metadata": {
        "id": "IGI9oerogFMY"
      },
      "source": [
        "print(model_teste_ld.summary())\n",
        "# print(model_tl_ld.metrics_names)"
      ],
      "execution_count": null,
      "outputs": []
    },
    {
      "cell_type": "markdown",
      "metadata": {
        "id": "tYxC_lZ8pLGF"
      },
      "source": [
        "**Evaluate**"
      ]
    },
    {
      "cell_type": "code",
      "metadata": {
        "id": "urllFOqBoq7k",
        "colab": {
          "base_uri": "https://localhost:8080/",
          "height": 51
        },
        "outputId": "69acda92-18aa-42f6-aae2-9b2c8caf90e5"
      },
      "source": [
        "model_teste_ld.evaluate(x_test_3d, ynn_test, verbose = 1) "
      ],
      "execution_count": null,
      "outputs": [
        {
          "output_type": "stream",
          "text": [
            "2838/2838 [==============================] - 37s 13ms/sample - loss: 0.0219 - acc: 0.9387\n"
          ],
          "name": "stdout"
        },
        {
          "output_type": "execute_result",
          "data": {
            "text/plain": [
              "[0.02194060454600562, 0.93868923]"
            ]
          },
          "metadata": {
            "tags": []
          },
          "execution_count": 14
        }
      ]
    },
    {
      "cell_type": "markdown",
      "metadata": {
        "id": "q8NktI9_pXaw"
      },
      "source": [
        "**Predict using saved model**"
      ]
    },
    {
      "cell_type": "code",
      "metadata": {
        "id": "rOc_rjhdoqs7",
        "colab": {
          "base_uri": "https://localhost:8080/",
          "height": 51
        },
        "outputId": "394272d8-6934-4d01-d7d2-b74a16d0014c"
      },
      "source": [
        "pred = model_teste_ld.predict(x_test_3d) \n",
        "pred = np.argmax(pred, axis = 1)\n",
        "lab = np.argmax(ynn_test,axis = 1)\n",
        "\n",
        "print(pred) \n",
        "print(lab)"
      ],
      "execution_count": null,
      "outputs": [
        {
          "output_type": "stream",
          "text": [
            "[1 0 0 ... 0 1 1]\n",
            "[1 0 0 ... 0 1 1]\n"
          ],
          "name": "stdout"
        }
      ]
    },
    {
      "cell_type": "markdown",
      "metadata": {
        "id": "Czroq8XTwusa"
      },
      "source": [
        "### Modelo 05"
      ]
    },
    {
      "cell_type": "markdown",
      "metadata": {
        "id": "R-0N54ovkYaY"
      },
      "source": [
        "#### 7 epochs"
      ]
    },
    {
      "cell_type": "code",
      "metadata": {
        "id": "PAA00-6HvhVQ",
        "colab": {
          "base_uri": "https://localhost:8080/",
          "height": 1000
        },
        "outputId": "bf58bab5-861b-468d-e037-b740bc857731"
      },
      "source": [
        "from tensorflow.keras.layers import Conv1D, Dense, MaxPooling1D, Flatten\n",
        "from tensorflow.keras.models import Sequential\n",
        "\n",
        "np.random.seed(13)\n",
        "\n",
        "model_05 = Sequential()\n",
        "model_05.add(Conv1D(filters=16, kernel_size=12, \n",
        "                 input_shape=(x_train.shape[1], 1)))\n",
        "model_05.add(MaxPooling1D(pool_size=4))\n",
        "\n",
        "model_05.add(Conv1D(filters=32, kernel_size=12))\n",
        "model_05.add(MaxPooling1D(pool_size=4))\n",
        "\n",
        "model_05.add(Conv1D(filters=16, kernel_size=12))\n",
        "model_05.add(MaxPooling1D(pool_size=4))\n",
        "\n",
        "model_05.add(Flatten())\n",
        "\n",
        "model_05.add(Dense(16, activation='relu'))\n",
        "model_05.add(Dense(2, activation='sigmoid'))\n",
        "\n",
        "model_05.compile(loss='logcosh', optimizer='adam', \n",
        "              metrics=['accuracy'])\n",
        "model_05.summary()\n",
        "\n",
        "# Checkpoint\n",
        "filepath = \"/content/drive/My Drive/model_05_pr4_weights.best.hdf5\"\n",
        "checkpoint = tf.keras.callbacks.ModelCheckpoint(filepath,\n",
        "                             monitor='val_acc',\n",
        "                             verbose=1,\n",
        "                             save_best_only=True,\n",
        "                             mode='max')\n",
        "callbacks_list = [checkpoint]\n",
        "\n",
        "# Fit the model\n",
        "history_05 = model_05.fit(x_train_3d, ynn_train,\n",
        "                          epochs = 7,\n",
        "                          batch_size = 25,\n",
        "                          verbose = 1,\n",
        "                          callbacks = callbacks_list,\n",
        "                          validation_split = 0.0,\n",
        "                          validation_data = (x_test_3d,ynn_test))\n",
        "\n",
        "# model_05.save(\"/content/drive/My Drive/model_05.h5\")"
      ],
      "execution_count": null,
      "outputs": [
        {
          "output_type": "stream",
          "text": [
            "WARNING:tensorflow:From /tensorflow-1.15.2/python3.6/tensorflow_core/python/ops/resource_variable_ops.py:1630: calling BaseResourceVariable.__init__ (from tensorflow.python.ops.resource_variable_ops) with constraint is deprecated and will be removed in a future version.\n",
            "Instructions for updating:\n",
            "If using Keras pass *_constraint arguments to layers.\n",
            "Model: \"sequential\"\n",
            "_________________________________________________________________\n",
            "Layer (type)                 Output Shape              Param #   \n",
            "=================================================================\n",
            "conv1d (Conv1D)              (None, 75021, 16)         208       \n",
            "_________________________________________________________________\n",
            "max_pooling1d (MaxPooling1D) (None, 18755, 16)         0         \n",
            "_________________________________________________________________\n",
            "conv1d_1 (Conv1D)            (None, 18744, 32)         6176      \n",
            "_________________________________________________________________\n",
            "max_pooling1d_1 (MaxPooling1 (None, 4686, 32)          0         \n",
            "_________________________________________________________________\n",
            "conv1d_2 (Conv1D)            (None, 4675, 16)          6160      \n",
            "_________________________________________________________________\n",
            "max_pooling1d_2 (MaxPooling1 (None, 1168, 16)          0         \n",
            "_________________________________________________________________\n",
            "flatten (Flatten)            (None, 18688)             0         \n",
            "_________________________________________________________________\n",
            "dense (Dense)                (None, 16)                299024    \n",
            "_________________________________________________________________\n",
            "dense_1 (Dense)              (None, 2)                 34        \n",
            "=================================================================\n",
            "Total params: 311,602\n",
            "Trainable params: 311,602\n",
            "Non-trainable params: 0\n",
            "_________________________________________________________________\n",
            "Train on 11348 samples, validate on 2838 samples\n",
            "Epoch 1/7\n",
            "11325/11348 [============================>.] - ETA: 0s - loss: 0.0821 - acc: 0.7269\n",
            "Epoch 00001: val_acc improved from -inf to 0.75053, saving model to /content/drive/My Drive/model_05_pr4_weights.best.hdf5\n",
            "11348/11348 [==============================] - 369s 33ms/sample - loss: 0.0821 - acc: 0.7271 - val_loss: 0.0772 - val_acc: 0.7505\n",
            "Epoch 2/7\n",
            "11325/11348 [============================>.] - ETA: 0s - loss: 0.0806 - acc: 0.7351\n",
            "Epoch 00002: val_acc improved from 0.75053 to 0.75758, saving model to /content/drive/My Drive/model_05_pr4_weights.best.hdf5\n",
            "11348/11348 [==============================] - 383s 34ms/sample - loss: 0.0806 - acc: 0.7352 - val_loss: 0.0756 - val_acc: 0.7576\n",
            "Epoch 3/7\n",
            "11325/11348 [============================>.] - ETA: 0s - loss: 0.0779 - acc: 0.7453\n",
            "Epoch 00003: val_acc did not improve from 0.75758\n",
            "11348/11348 [==============================] - 377s 33ms/sample - loss: 0.0779 - acc: 0.7452 - val_loss: 0.0734 - val_acc: 0.7572\n",
            "Epoch 4/7\n",
            "11325/11348 [============================>.] - ETA: 0s - loss: 0.0599 - acc: 0.8159\n",
            "Epoch 00004: val_acc improved from 0.75758 to 0.86857, saving model to /content/drive/My Drive/model_05_pr4_weights.best.hdf5\n",
            "11348/11348 [==============================] - 374s 33ms/sample - loss: 0.0598 - acc: 0.8160 - val_loss: 0.0452 - val_acc: 0.8686\n",
            "Epoch 5/7\n",
            "11325/11348 [============================>.] - ETA: 0s - loss: 0.0396 - acc: 0.8839\n",
            "Epoch 00005: val_acc improved from 0.86857 to 0.91473, saving model to /content/drive/My Drive/model_05_pr4_weights.best.hdf5\n",
            "11348/11348 [==============================] - 372s 33ms/sample - loss: 0.0395 - acc: 0.8841 - val_loss: 0.0312 - val_acc: 0.9147\n",
            "Epoch 6/7\n",
            "11325/11348 [============================>.] - ETA: 0s - loss: 0.0279 - acc: 0.9189\n",
            "Epoch 00006: val_acc improved from 0.91473 to 0.92953, saving model to /content/drive/My Drive/model_05_pr4_weights.best.hdf5\n",
            "11348/11348 [==============================] - 371s 33ms/sample - loss: 0.0280 - acc: 0.9188 - val_loss: 0.0238 - val_acc: 0.9295\n",
            "Epoch 7/7\n",
            "11325/11348 [============================>.] - ETA: 0s - loss: 0.0216 - acc: 0.9403\n",
            "Epoch 00007: val_acc improved from 0.92953 to 0.93058, saving model to /content/drive/My Drive/model_05_pr4_weights.best.hdf5\n",
            "11348/11348 [==============================] - 373s 33ms/sample - loss: 0.0216 - acc: 0.9403 - val_loss: 0.0233 - val_acc: 0.9306\n"
          ],
          "name": "stdout"
        }
      ]
    },
    {
      "cell_type": "markdown",
      "metadata": {
        "id": "uz4MiMzu3Bxl"
      },
      "source": [
        "**Load saved model**"
      ]
    },
    {
      "cell_type": "code",
      "metadata": {
        "id": "_aQD9hWH1Y41",
        "colab": {
          "base_uri": "https://localhost:8080/",
          "height": 190
        },
        "outputId": "7105ccb1-b5a4-4718-eec6-fe8ca289d15f"
      },
      "source": [
        "from tensorflow.keras.models import load_model\n",
        "\n",
        "# load model\n",
        "model_05_ld = load_model('/content/drive/My Drive/model_05.h5')\n",
        "\n",
        "# summarize model.\n",
        "model05.summary()"
      ],
      "execution_count": null,
      "outputs": [
        {
          "output_type": "stream",
          "text": [
            "WARNING:tensorflow:From /usr/local/lib/python3.6/dist-packages/tensorflow_core/python/ops/init_ops.py:97: calling GlorotUniform.__init__ (from tensorflow.python.ops.init_ops) with dtype is deprecated and will be removed in a future version.\n",
            "Instructions for updating:\n",
            "Call initializer instance with the dtype argument instead of passing it to the constructor\n",
            "WARNING:tensorflow:From /usr/local/lib/python3.6/dist-packages/tensorflow_core/python/ops/init_ops.py:97: calling Zeros.__init__ (from tensorflow.python.ops.init_ops) with dtype is deprecated and will be removed in a future version.\n",
            "Instructions for updating:\n",
            "Call initializer instance with the dtype argument instead of passing it to the constructor\n",
            "WARNING:tensorflow:From /usr/local/lib/python3.6/dist-packages/tensorflow_core/python/ops/resource_variable_ops.py:1630: calling BaseResourceVariable.__init__ (from tensorflow.python.ops.resource_variable_ops) with constraint is deprecated and will be removed in a future version.\n",
            "Instructions for updating:\n",
            "If using Keras pass *_constraint arguments to layers.\n"
          ],
          "name": "stdout"
        }
      ]
    },
    {
      "cell_type": "markdown",
      "metadata": {
        "id": "LxlSQxwZbgB2"
      },
      "source": [
        "**Evaluate model**"
      ]
    },
    {
      "cell_type": "code",
      "metadata": {
        "id": "0UhQvpJ5bjsi"
      },
      "source": [
        "model_05_ld.evaluate(x_test_3d, ynn_test, verbose = 1) "
      ],
      "execution_count": null,
      "outputs": []
    },
    {
      "cell_type": "markdown",
      "metadata": {
        "id": "7JjIzPh83Ed8"
      },
      "source": [
        "**Predict using saved model**"
      ]
    },
    {
      "cell_type": "code",
      "metadata": {
        "id": "PUlYh4Fw2xqM",
        "colab": {
          "base_uri": "https://localhost:8080/",
          "height": 51
        },
        "outputId": "96c4db4c-4feb-4b1c-8cde-62a4a08a35f9"
      },
      "source": [
        "pred = model_05_ld.predict(x_test_3d) \n",
        "pred = np.argmax(pred, axis = 1)\n",
        "label = np.argmax(ynn_test,axis = 1)\n",
        "\n",
        "print(pred) \n",
        "print(label)"
      ],
      "execution_count": null,
      "outputs": [
        {
          "output_type": "stream",
          "text": [
            "[1 0 0 ... 1 1 1]\n",
            "[1 0 0 ... 1 1 1]\n"
          ],
          "name": "stdout"
        }
      ]
    },
    {
      "cell_type": "markdown",
      "metadata": {
        "id": "nK8AGmX5kbhQ"
      },
      "source": [
        "#### 15 epochs"
      ]
    },
    {
      "cell_type": "code",
      "metadata": {
        "id": "Usp_uOamkdhg",
        "colab": {
          "base_uri": "https://localhost:8080/",
          "height": 1000
        },
        "outputId": "e2356dfb-b14b-452b-884c-188886be6f35"
      },
      "source": [
        "from tensorflow.keras.layers import Conv1D, Dense, MaxPooling1D, Flatten\n",
        "from tensorflow.keras.models import Sequential\n",
        "\n",
        "np.random.seed(13)\n",
        "\n",
        "model_05_01 = Sequential()\n",
        "model_05_01.add(Conv1D(filters=16, kernel_size=12, \n",
        "                 input_shape=(x_train.shape[1], 1)))\n",
        "model_05_01.add(MaxPooling1D(pool_size=4))\n",
        "\n",
        "model_05_01.add(Conv1D(filters=32, kernel_size=12))\n",
        "model_05_01.add(MaxPooling1D(pool_size=4))\n",
        "\n",
        "model_05_01.add(Conv1D(filters=16, kernel_size=12))\n",
        "model_05_01.add(MaxPooling1D(pool_size=4))\n",
        "\n",
        "model_05_01.add(Flatten())\n",
        "\n",
        "model_05_01.add(Dense(16, activation='relu'))\n",
        "model_05_01.add(Dense(2, activation='sigmoid'))\n",
        "\n",
        "model_05_01.compile(loss='logcosh', optimizer='adam', \n",
        "              metrics=['accuracy'])\n",
        "model_05_01.summary()\n",
        "\n",
        "# Checkpoint\n",
        "filepath = \"/content/drive/My Drive/model_05_01_pr4_weights.best.hdf5\"\n",
        "checkpoint = ModelCheckpoint(filepath,\n",
        "                             monitor='val_acc',\n",
        "                             verbose=1,\n",
        "                             save_best_only=True,\n",
        "                             mode='max')\n",
        "callbacks_list = [checkpoint]\n",
        "\n",
        "# Fit the model\n",
        "history_05_01 = model_05_01.fit(x_train_3d, ynn_train,\n",
        "                                epochs = 15,\n",
        "                                batch_size = 25,\n",
        "                                verbose = 1,\n",
        "                                callbacks = callbacks_list,\n",
        "                                validation_split = 0.0,\n",
        "                                validation_data = (x_test_3d,ynn_test))\n",
        "\n",
        "# model_05_01.save(\"/content/drive/My Drive/model_05_01.h5\")"
      ],
      "execution_count": null,
      "outputs": [
        {
          "output_type": "stream",
          "text": [
            "Model: \"sequential_2\"\n",
            "_________________________________________________________________\n",
            "Layer (type)                 Output Shape              Param #   \n",
            "=================================================================\n",
            "conv1d_6 (Conv1D)            (None, 75021, 16)         208       \n",
            "_________________________________________________________________\n",
            "max_pooling1d_6 (MaxPooling1 (None, 18755, 16)         0         \n",
            "_________________________________________________________________\n",
            "conv1d_7 (Conv1D)            (None, 18744, 32)         6176      \n",
            "_________________________________________________________________\n",
            "max_pooling1d_7 (MaxPooling1 (None, 4686, 32)          0         \n",
            "_________________________________________________________________\n",
            "conv1d_8 (Conv1D)            (None, 4675, 16)          6160      \n",
            "_________________________________________________________________\n",
            "max_pooling1d_8 (MaxPooling1 (None, 1168, 16)          0         \n",
            "_________________________________________________________________\n",
            "flatten_2 (Flatten)          (None, 18688)             0         \n",
            "_________________________________________________________________\n",
            "dense_4 (Dense)              (None, 16)                299024    \n",
            "_________________________________________________________________\n",
            "dense_5 (Dense)              (None, 2)                 34        \n",
            "=================================================================\n",
            "Total params: 311,602\n",
            "Trainable params: 311,602\n",
            "Non-trainable params: 0\n",
            "_________________________________________________________________\n",
            "Train on 11348 samples, validate on 2838 samples\n",
            "Epoch 1/15\n",
            "11325/11348 [============================>.] - ETA: 0s - loss: 0.0835 - acc: 0.7229\n",
            "Epoch 00001: val_acc improved from -inf to 0.74489, saving model to /content/drive/My Drive/model_05_01_pr4_weights.best.hdf5\n",
            "11348/11348 [==============================] - 363s 32ms/sample - loss: 0.0835 - acc: 0.7230 - val_loss: 0.0777 - val_acc: 0.7449\n",
            "Epoch 2/15\n",
            "11325/11348 [============================>.] - ETA: 0s - loss: 0.0755 - acc: 0.7628\n",
            "Epoch 00002: val_acc improved from 0.74489 to 0.83333, saving model to /content/drive/My Drive/model_05_01_pr4_weights.best.hdf5\n",
            "11348/11348 [==============================] - 363s 32ms/sample - loss: 0.0754 - acc: 0.7630 - val_loss: 0.0547 - val_acc: 0.8333\n",
            "Epoch 3/15\n",
            "11325/11348 [============================>.] - ETA: 0s - loss: 0.0461 - acc: 0.8667\n",
            "Epoch 00003: val_acc improved from 0.83333 to 0.91402, saving model to /content/drive/My Drive/model_05_01_pr4_weights.best.hdf5\n",
            "11348/11348 [==============================] - 364s 32ms/sample - loss: 0.0461 - acc: 0.8668 - val_loss: 0.0311 - val_acc: 0.9140\n",
            "Epoch 4/15\n",
            "11325/11348 [============================>.] - ETA: 0s - loss: 0.0349 - acc: 0.8994\n",
            "Epoch 00004: val_acc improved from 0.91402 to 0.92882, saving model to /content/drive/My Drive/model_05_01_pr4_weights.best.hdf5\n",
            "11348/11348 [==============================] - 369s 33ms/sample - loss: 0.0349 - acc: 0.8995 - val_loss: 0.0264 - val_acc: 0.9288\n",
            "Epoch 5/15\n",
            "11325/11348 [============================>.] - ETA: 0s - loss: 0.0279 - acc: 0.9184\n",
            "Epoch 00005: val_acc improved from 0.92882 to 0.93058, saving model to /content/drive/My Drive/model_05_01_pr4_weights.best.hdf5\n",
            "11348/11348 [==============================] - 366s 32ms/sample - loss: 0.0278 - acc: 0.9186 - val_loss: 0.0237 - val_acc: 0.9306\n",
            "Epoch 6/15\n",
            "11325/11348 [============================>.] - ETA: 0s - loss: 0.0258 - acc: 0.9285\n",
            "Epoch 00006: val_acc improved from 0.93058 to 0.94010, saving model to /content/drive/My Drive/model_05_01_pr4_weights.best.hdf5\n",
            "11348/11348 [==============================] - 367s 32ms/sample - loss: 0.0258 - acc: 0.9284 - val_loss: 0.0219 - val_acc: 0.9401\n",
            "Epoch 7/15\n",
            "11325/11348 [============================>.] - ETA: 0s - loss: 0.0203 - acc: 0.9430\n",
            "Epoch 00007: val_acc improved from 0.94010 to 0.94327, saving model to /content/drive/My Drive/model_05_01_pr4_weights.best.hdf5\n",
            "11348/11348 [==============================] - 367s 32ms/sample - loss: 0.0203 - acc: 0.9431 - val_loss: 0.0207 - val_acc: 0.9433\n",
            "Epoch 8/15\n",
            "11325/11348 [============================>.] - ETA: 0s - loss: 0.0168 - acc: 0.9536\n",
            "Epoch 00008: val_acc did not improve from 0.94327\n",
            "11348/11348 [==============================] - 369s 32ms/sample - loss: 0.0169 - acc: 0.9536 - val_loss: 0.0401 - val_acc: 0.8805\n",
            "Epoch 9/15\n",
            "11325/11348 [============================>.] - ETA: 0s - loss: 0.0133 - acc: 0.9655\n",
            "Epoch 00009: val_acc did not improve from 0.94327\n",
            "11348/11348 [==============================] - 366s 32ms/sample - loss: 0.0133 - acc: 0.9655 - val_loss: 0.0215 - val_acc: 0.9408\n",
            "Epoch 10/15\n",
            "11325/11348 [============================>.] - ETA: 0s - loss: 0.0137 - acc: 0.9637\n",
            "Epoch 00010: val_acc did not improve from 0.94327\n",
            "11348/11348 [==============================] - 364s 32ms/sample - loss: 0.0137 - acc: 0.9637 - val_loss: 0.0212 - val_acc: 0.9408\n",
            "Epoch 11/15\n",
            "11325/11348 [============================>.] - ETA: 0s - loss: 0.0097 - acc: 0.9745\n",
            "Epoch 00011: val_acc did not improve from 0.94327\n",
            "11348/11348 [==============================] - 366s 32ms/sample - loss: 0.0097 - acc: 0.9745 - val_loss: 0.0230 - val_acc: 0.9383\n",
            "Epoch 12/15\n",
            "11325/11348 [============================>.] - ETA: 0s - loss: 0.0078 - acc: 0.9797\n",
            "Epoch 00012: val_acc improved from 0.94327 to 0.94397, saving model to /content/drive/My Drive/model_05_01_pr4_weights.best.hdf5\n",
            "11348/11348 [==============================] - 369s 33ms/sample - loss: 0.0078 - acc: 0.9797 - val_loss: 0.0207 - val_acc: 0.9440\n",
            "Epoch 13/15\n",
            "11325/11348 [============================>.] - ETA: 0s - loss: 0.0075 - acc: 0.9815\n",
            "Epoch 00013: val_acc improved from 0.94397 to 0.94433, saving model to /content/drive/My Drive/model_05_01_pr4_weights.best.hdf5\n",
            "11348/11348 [==============================] - 368s 32ms/sample - loss: 0.0075 - acc: 0.9814 - val_loss: 0.0207 - val_acc: 0.9443\n",
            "Epoch 14/15\n",
            "11325/11348 [============================>.] - ETA: 0s - loss: 0.0065 - acc: 0.9835\n",
            "Epoch 00014: val_acc did not improve from 0.94433\n",
            "11348/11348 [==============================] - 371s 33ms/sample - loss: 0.0065 - acc: 0.9834 - val_loss: 0.0222 - val_acc: 0.9394\n",
            "Epoch 15/15\n",
            "11325/11348 [============================>.] - ETA: 0s - loss: 0.0049 - acc: 0.9880\n",
            "Epoch 00015: val_acc did not improve from 0.94433\n",
            "11348/11348 [==============================] - 366s 32ms/sample - loss: 0.0049 - acc: 0.9880 - val_loss: 0.0215 - val_acc: 0.9405\n"
          ],
          "name": "stdout"
        }
      ]
    },
    {
      "cell_type": "code",
      "metadata": {
        "id": "MYfdddiscZqk"
      },
      "source": [
        "from tensorflow.keras.models import load_model\n",
        "model_05_01 = load_model(\"/content/drive/My Drive/model_05_01_pr4_weights.best.hdf5\")"
      ],
      "execution_count": null,
      "outputs": []
    },
    {
      "cell_type": "code",
      "metadata": {
        "id": "LK03F3yvQ-b6",
        "colab": {
          "base_uri": "https://localhost:8080/",
          "height": 51
        },
        "outputId": "23abaf77-3b17-472b-8647-a5bb0a91cb12"
      },
      "source": [
        "model_05_01.evaluate(x_test_3d, ynn_test)"
      ],
      "execution_count": null,
      "outputs": [
        {
          "output_type": "stream",
          "text": [
            "2838/2838 [==============================] - 25s 9ms/sample - loss: 0.0207 - acc: 0.9443\n"
          ],
          "name": "stdout"
        },
        {
          "output_type": "execute_result",
          "data": {
            "text/plain": [
              "[0.02072131239230383, 0.944327]"
            ]
          },
          "metadata": {
            "tags": []
          },
          "execution_count": 16
        }
      ]
    },
    {
      "cell_type": "code",
      "metadata": {
        "id": "davoPGAMRi_L"
      },
      "source": [
        "pred = model_05_01.predict(x_test_3d) \n",
        "pred = pd.Series(np.argmax(pred, axis = 1),name='pred')\n",
        "label = pd.Series(np.argmax(ynn_test,axis = 1),name='label')"
      ],
      "execution_count": null,
      "outputs": []
    },
    {
      "cell_type": "code",
      "metadata": {
        "id": "q9uWGX_GcFCJ"
      },
      "source": [
        "pred = model_05_01.predict(x_test_3d) \n",
        "pred = np.argmax(pred, axis = 1)\n",
        "lab = np.argmax(ynn_test,axis = 1)"
      ],
      "execution_count": null,
      "outputs": []
    },
    {
      "cell_type": "code",
      "metadata": {
        "id": "xgV3XwZ8T1Uo"
      },
      "source": [
        "res_05_02=pd.DataFrame(dict(pred=pred, label=label))\n",
        "pd.set_option('display.max_rows', len(res_05_02))\n",
        "res_05_02"
      ],
      "execution_count": null,
      "outputs": []
    },
    {
      "cell_type": "markdown",
      "metadata": {
        "id": "1KThUPF-PdUG"
      },
      "source": [
        "#### 8 epochs"
      ]
    },
    {
      "cell_type": "code",
      "metadata": {
        "id": "xl29sL-tPj4D",
        "colab": {
          "base_uri": "https://localhost:8080/",
          "height": 1000
        },
        "outputId": "046f2fb4-1c71-45d1-c471-282d1c025d0d"
      },
      "source": [
        "from tensorflow.keras.layers import Conv1D, Dense, MaxPooling1D, Flatten\n",
        "from tensorflow.keras.models import Sequential\n",
        "\n",
        "model_05_02 = Sequential()\n",
        "model_05_02.add(Conv1D(filters=16, kernel_size=12, \n",
        "                 input_shape=(x_train.shape[1], 1)))\n",
        "model_05_02.add(MaxPooling1D(pool_size=4))\n",
        "\n",
        "model_05_02.add(Conv1D(filters=32, kernel_size=12))\n",
        "model_05_02.add(MaxPooling1D(pool_size=4))\n",
        "\n",
        "model_05_02.add(Conv1D(filters=16, kernel_size=12))\n",
        "model_05_02.add(MaxPooling1D(pool_size=4))\n",
        "\n",
        "model_05_02.add(Flatten())\n",
        "\n",
        "model_05_02.add(Dense(16, activation='relu'))\n",
        "model_05_02.add(Dense(2, activation='sigmoid'))\n",
        "\n",
        "model_05_02.compile(loss='logcosh', optimizer='adam', \n",
        "              metrics=['accuracy'])\n",
        "model_05_02.summary()\n",
        "\n",
        "# Checkpoint\n",
        "filepath = \"/content/drive/My Drive/model_05_02_pr4_weights.best.hdf5\"\n",
        "checkpoint = ModelCheckpoint(filepath,\n",
        "                             monitor='val_acc',\n",
        "                             verbose=1,\n",
        "                             save_best_only=True,\n",
        "                             mode='max')\n",
        "callbacks_list = [checkpoint]\n",
        "\n",
        "# Fit the model\n",
        "history_05_02 = model_05_02.fit(x_train_3d,\n",
        "                                ynn_train,\n",
        "                                batch_size = 25,\n",
        "                                epochs = 8,\n",
        "                                callbacks = callbacks_list,\n",
        "                                verbose = 1,\n",
        "                                validation_split = 0.0,\n",
        "                                validation_data = (x_test_3d,ynn_test))\n",
        "\n",
        "model_05_02.save(\"/content/drive/My Drive/model_05_02.h5\")"
      ],
      "execution_count": null,
      "outputs": [
        {
          "output_type": "stream",
          "text": [
            "Model: \"sequential_2\"\n",
            "_________________________________________________________________\n",
            "Layer (type)                 Output Shape              Param #   \n",
            "=================================================================\n",
            "conv1d_6 (Conv1D)            (None, 109637, 16)        208       \n",
            "_________________________________________________________________\n",
            "max_pooling1d_6 (MaxPooling1 (None, 27409, 16)         0         \n",
            "_________________________________________________________________\n",
            "conv1d_7 (Conv1D)            (None, 27398, 32)         6176      \n",
            "_________________________________________________________________\n",
            "max_pooling1d_7 (MaxPooling1 (None, 6849, 32)          0         \n",
            "_________________________________________________________________\n",
            "conv1d_8 (Conv1D)            (None, 6838, 16)          6160      \n",
            "_________________________________________________________________\n",
            "max_pooling1d_8 (MaxPooling1 (None, 1709, 16)          0         \n",
            "_________________________________________________________________\n",
            "flatten_2 (Flatten)          (None, 27344)             0         \n",
            "_________________________________________________________________\n",
            "dense_4 (Dense)              (None, 16)                437520    \n",
            "_________________________________________________________________\n",
            "dense_5 (Dense)              (None, 2)                 34        \n",
            "=================================================================\n",
            "Total params: 450,098\n",
            "Trainable params: 450,098\n",
            "Non-trainable params: 0\n",
            "_________________________________________________________________\n",
            "Train on 13756 samples, validate on 3440 samples\n",
            "Epoch 1/8\n",
            "13750/13756 [============================>.] - ETA: 0s - loss: 0.0915 - acc: 0.6596\n",
            "Epoch 00001: val_acc improved from -inf to 0.66890, saving model to /content/drive/My Drive/model_05_02_pr4_weights.best.hdf5\n",
            "13756/13756 [==============================] - 673s 49ms/sample - loss: 0.0915 - acc: 0.6596 - val_loss: 0.0892 - val_acc: 0.6689\n",
            "Epoch 2/8\n",
            "13750/13756 [============================>.] - ETA: 0s - loss: 0.0901 - acc: 0.6789\n",
            "Epoch 00002: val_acc improved from 0.66890 to 0.70378, saving model to /content/drive/My Drive/model_05_02_pr4_weights.best.hdf5\n",
            "13756/13756 [==============================] - 678s 49ms/sample - loss: 0.0901 - acc: 0.6788 - val_loss: 0.0884 - val_acc: 0.7038\n",
            "Epoch 3/8\n",
            "13750/13756 [============================>.] - ETA: 0s - loss: 0.0886 - acc: 0.7091\n",
            "Epoch 00003: val_acc did not improve from 0.70378\n",
            "13756/13756 [==============================] - 678s 49ms/sample - loss: 0.0886 - acc: 0.7091 - val_loss: 0.0892 - val_acc: 0.6988\n",
            "Epoch 4/8\n",
            "13750/13756 [============================>.] - ETA: 0s - loss: 0.0849 - acc: 0.7264\n",
            "Epoch 00004: val_acc did not improve from 0.70378\n",
            "13756/13756 [==============================] - 676s 49ms/sample - loss: 0.0849 - acc: 0.7264 - val_loss: 0.1425 - val_acc: 0.6398\n",
            "Epoch 5/8\n",
            "13750/13756 [============================>.] - ETA: 0s - loss: 0.0712 - acc: 0.7889\n",
            "Epoch 00005: val_acc improved from 0.70378 to 0.83430, saving model to /content/drive/My Drive/model_05_02_pr4_weights.best.hdf5\n",
            "13756/13756 [==============================] - 674s 49ms/sample - loss: 0.0712 - acc: 0.7890 - val_loss: 0.0543 - val_acc: 0.8343\n",
            "Epoch 6/8\n",
            "13750/13756 [============================>.] - ETA: 0s - loss: 0.0563 - acc: 0.8377\n",
            "Epoch 00006: val_acc did not improve from 0.83430\n",
            "13756/13756 [==============================] - 675s 49ms/sample - loss: 0.0563 - acc: 0.8377 - val_loss: 0.0601 - val_acc: 0.8131\n",
            "Epoch 7/8\n",
            "13750/13756 [============================>.] - ETA: 0s - loss: 0.0505 - acc: 0.8567\n",
            "Epoch 00007: val_acc improved from 0.83430 to 0.85959, saving model to /content/drive/My Drive/model_05_02_pr4_weights.best.hdf5\n",
            "13756/13756 [==============================] - 682s 50ms/sample - loss: 0.0505 - acc: 0.8567 - val_loss: 0.0459 - val_acc: 0.8596\n",
            "Epoch 8/8\n",
            "13750/13756 [============================>.] - ETA: 0s - loss: 0.0468 - acc: 0.8639\n",
            "Epoch 00008: val_acc improved from 0.85959 to 0.86802, saving model to /content/drive/My Drive/model_05_02_pr4_weights.best.hdf5\n",
            "13756/13756 [==============================] - 676s 49ms/sample - loss: 0.0469 - acc: 0.8638 - val_loss: 0.0438 - val_acc: 0.8680\n"
          ],
          "name": "stdout"
        }
      ]
    },
    {
      "cell_type": "markdown",
      "metadata": {
        "id": "aEmQC8vaPw8G"
      },
      "source": [
        "#### 11 epochs\n"
      ]
    },
    {
      "cell_type": "code",
      "metadata": {
        "id": "g2qxlQ6BPz_U",
        "colab": {
          "base_uri": "https://localhost:8080/",
          "height": 1000
        },
        "outputId": "b32a3b22-b390-4eb9-f000-0f04ddf293ad"
      },
      "source": [
        "from tensorflow.keras.layers import Conv1D, Dense, MaxPooling1D, Flatten\n",
        "from tensorflow.keras.models import Sequential\n",
        "\n",
        "np.random.seed(13)\n",
        "\n",
        "model_05_03 = Sequential()\n",
        "model_05_03.add(Conv1D(filters=16, kernel_size=12, \n",
        "                 input_shape=(x_train.shape[1], 1)))\n",
        "model_05_03.add(MaxPooling1D(pool_size=4))\n",
        "\n",
        "model_05_03.add(Conv1D(filters=32, kernel_size=12))\n",
        "model_05_03.add(MaxPooling1D(pool_size=4))\n",
        "\n",
        "model_05_03.add(Conv1D(filters=16, kernel_size=12))\n",
        "model_05_03.add(MaxPooling1D(pool_size=4))\n",
        "\n",
        "model_05_03.add(Flatten())\n",
        "\n",
        "model_05_03.add(Dense(16, activation='relu'))\n",
        "model_05_03.add(Dense(2, activation='sigmoid'))\n",
        "\n",
        "model_05_03.compile(loss='logcosh', optimizer='adam', \n",
        "              metrics=['accuracy'])\n",
        "model_05_03.summary()\n",
        "\n",
        "# Checkpoint\n",
        "filepath = \"/content/drive/My Drive/model_05_03_pr4_weights.best.hdf5\"\n",
        "checkpoint = ModelCheckpoint(filepath,\n",
        "                             monitor='val_acc',\n",
        "                             verbose=1,\n",
        "                             save_best_only=True,\n",
        "                             mode='max')\n",
        "callbacks_list = [checkpoint]\n",
        "\n",
        "# Fit the model\n",
        "history_05_03 = model_05_03.fit(x_train_3d, ynn_train,\n",
        "                                epochs = 11,\n",
        "                                batch_size = 25,\n",
        "                                callbacks = callbacks_list,\n",
        "                                verbose = 1,\n",
        "                                validation_split = 0.0,\n",
        "                                validation_data = (x_test_3d,ynn_test))\n",
        "\n",
        "model_05_03.save(\"/content/drive/My Drive/model_05_03.h5\")"
      ],
      "execution_count": null,
      "outputs": [
        {
          "output_type": "stream",
          "text": [
            "Model: \"sequential_3\"\n",
            "_________________________________________________________________\n",
            "Layer (type)                 Output Shape              Param #   \n",
            "=================================================================\n",
            "conv1d_9 (Conv1D)            (None, 109637, 16)        208       \n",
            "_________________________________________________________________\n",
            "max_pooling1d_9 (MaxPooling1 (None, 27409, 16)         0         \n",
            "_________________________________________________________________\n",
            "conv1d_10 (Conv1D)           (None, 27398, 32)         6176      \n",
            "_________________________________________________________________\n",
            "max_pooling1d_10 (MaxPooling (None, 6849, 32)          0         \n",
            "_________________________________________________________________\n",
            "conv1d_11 (Conv1D)           (None, 6838, 16)          6160      \n",
            "_________________________________________________________________\n",
            "max_pooling1d_11 (MaxPooling (None, 1709, 16)          0         \n",
            "_________________________________________________________________\n",
            "flatten_3 (Flatten)          (None, 27344)             0         \n",
            "_________________________________________________________________\n",
            "dense_6 (Dense)              (None, 16)                437520    \n",
            "_________________________________________________________________\n",
            "dense_7 (Dense)              (None, 2)                 34        \n",
            "=================================================================\n",
            "Total params: 450,098\n",
            "Trainable params: 450,098\n",
            "Non-trainable params: 0\n",
            "_________________________________________________________________\n",
            "Train on 13756 samples, validate on 3440 samples\n",
            "Epoch 1/11\n",
            "13750/13756 [============================>.] - ETA: 0s - loss: 0.0878 - acc: 0.7100\n",
            "Epoch 00001: val_acc improved from -inf to 0.80988, saving model to /content/drive/My Drive/model_05_03_pr4_weights.best.hdf5\n",
            "13756/13756 [==============================] - 669s 49ms/sample - loss: 0.0878 - acc: 0.7100 - val_loss: 0.0650 - val_acc: 0.8099\n",
            "Epoch 2/11\n",
            "13750/13756 [============================>.] - ETA: 0s - loss: 0.0617 - acc: 0.8152\n",
            "Epoch 00002: val_acc did not improve from 0.80988\n",
            "13756/13756 [==============================] - 668s 49ms/sample - loss: 0.0617 - acc: 0.8151 - val_loss: 0.0653 - val_acc: 0.7977\n",
            "Epoch 3/11\n",
            "13750/13756 [============================>.] - ETA: 0s - loss: 0.0523 - acc: 0.8452\n",
            "Epoch 00003: val_acc improved from 0.80988 to 0.84419, saving model to /content/drive/My Drive/model_05_03_pr4_weights.best.hdf5\n",
            "13756/13756 [==============================] - 669s 49ms/sample - loss: 0.0523 - acc: 0.8452 - val_loss: 0.0518 - val_acc: 0.8442\n",
            "Epoch 4/11\n",
            "13750/13756 [============================>.] - ETA: 0s - loss: 0.0458 - acc: 0.8655\n",
            "Epoch 00004: val_acc did not improve from 0.84419\n",
            "13756/13756 [==============================] - 677s 49ms/sample - loss: 0.0458 - acc: 0.8656 - val_loss: 0.0536 - val_acc: 0.8352\n",
            "Epoch 5/11\n",
            "13750/13756 [============================>.] - ETA: 0s - loss: 0.0402 - acc: 0.8850\n",
            "Epoch 00005: val_acc improved from 0.84419 to 0.88372, saving model to /content/drive/My Drive/model_05_03_pr4_weights.best.hdf5\n",
            "13756/13756 [==============================] - 677s 49ms/sample - loss: 0.0402 - acc: 0.8850 - val_loss: 0.0408 - val_acc: 0.8837\n",
            "Epoch 6/11\n",
            "13750/13756 [============================>.] - ETA: 0s - loss: 0.0345 - acc: 0.9018\n",
            "Epoch 00006: val_acc improved from 0.88372 to 0.88401, saving model to /content/drive/My Drive/model_05_03_pr4_weights.best.hdf5\n",
            "13756/13756 [==============================] - 676s 49ms/sample - loss: 0.0345 - acc: 0.9019 - val_loss: 0.0403 - val_acc: 0.8840\n",
            "Epoch 7/11\n",
            "13750/13756 [============================>.] - ETA: 0s - loss: 0.0302 - acc: 0.9155\n",
            "Epoch 00007: val_acc did not improve from 0.88401\n",
            "13756/13756 [==============================] - 675s 49ms/sample - loss: 0.0302 - acc: 0.9155 - val_loss: 0.0416 - val_acc: 0.8770\n",
            "Epoch 8/11\n",
            "13750/13756 [============================>.] - ETA: 0s - loss: 0.0247 - acc: 0.9333\n",
            "Epoch 00008: val_acc did not improve from 0.88401\n",
            "13756/13756 [==============================] - 671s 49ms/sample - loss: 0.0248 - acc: 0.9332 - val_loss: 0.0652 - val_acc: 0.8023\n",
            "Epoch 9/11\n",
            "13750/13756 [============================>.] - ETA: 0s - loss: 0.0211 - acc: 0.9436\n",
            "Epoch 00009: val_acc improved from 0.88401 to 0.88459, saving model to /content/drive/My Drive/model_05_03_pr4_weights.best.hdf5\n",
            "13756/13756 [==============================] - 672s 49ms/sample - loss: 0.0211 - acc: 0.9436 - val_loss: 0.0417 - val_acc: 0.8846\n",
            "Epoch 10/11\n",
            "13750/13756 [============================>.] - ETA: 0s - loss: 0.0165 - acc: 0.9566\n",
            "Epoch 00010: val_acc did not improve from 0.88459\n",
            "13756/13756 [==============================] - 679s 49ms/sample - loss: 0.0165 - acc: 0.9566 - val_loss: 0.0415 - val_acc: 0.8823\n",
            "Epoch 11/11\n",
            "13750/13756 [============================>.] - ETA: 0s - loss: 0.0139 - acc: 0.9644\n",
            "Epoch 00011: val_acc did not improve from 0.88459\n",
            "13756/13756 [==============================] - 669s 49ms/sample - loss: 0.0139 - acc: 0.9644 - val_loss: 0.0474 - val_acc: 0.8744\n"
          ],
          "name": "stdout"
        }
      ]
    },
    {
      "cell_type": "markdown",
      "metadata": {
        "id": "P3y8p6ExSvFQ"
      },
      "source": [
        "### Variations model 05"
      ]
    },
    {
      "cell_type": "code",
      "metadata": {
        "id": "d7AkhKC1S4QJ"
      },
      "source": [
        "from tensorflow.keras.layers import Conv1D, Dense, MaxPooling1D, Flatten, Dropout\n",
        "from tensorflow.keras.models import Sequential\n",
        "# from tensorflow.keras.optimizers import  SGD\n",
        "\n",
        "# sgd = tf.keras.optimizers.SGD(lr=0.01, momentum=0.0, decay=0.0, nesterov=True)\n",
        "\n",
        "np.random.seed(13)\n",
        "\n",
        "model_var01 = Sequential()\n",
        "model_var01.add(Conv1D(filters=16, kernel_size=12, \n",
        "                 input_shape=(x_train.shape[1], 1),activation='relu'))\n",
        "model_var01.add(MaxPooling1D(pool_size=4))\n",
        "\n",
        "model_var01.add(Conv1D(filters=32, kernel_size=12,activation='relu'))\n",
        "model_var01.add(MaxPooling1D(pool_size=4))\n",
        "\n",
        "# model_var01.add(Conv1D(filters=16, kernel_size=12,activation='relu'))\n",
        "# model_var01.add(MaxPooling1D(pool_size=4))\n",
        "\n",
        "model_var01.add(Flatten())\n",
        "\n",
        "model_var01.add(Dense(16, activation='relu'))\n",
        "model_var01.add(Dropout(0.2))\n",
        "model_var01.add(Dense(2, activation='softmax'))\n",
        "\n",
        "model_var01.compile(loss='categorical_crossentropy', optimizer='sgd', \n",
        "              metrics=['accuracy'])\n",
        "# model_var01.summary()\n",
        "\n",
        "# Checkpoint\n",
        "filepath = \"/content/drive/My Drive/model_var01.wb.hdf5\"\n",
        "checkpoint = ModelCheckpoint(filepath,\n",
        "                             monitor='val_acc',\n",
        "                             verbose=1,\n",
        "                             save_best_only=True,\n",
        "                             mode='max')\n",
        "callbacks_list = [checkpoint]\n",
        "\n",
        "# Fit the model\n",
        "history_var01 = model_var01.fit(x_train_3d, ynn_train,\n",
        "                                epochs = 25,\n",
        "                                batch_size = 25,\n",
        "                                verbose = 1,\n",
        "                                callbacks = callbacks_list,\n",
        "                                validation_split = 0.0,\n",
        "                                validation_data = (x_test_3d,ynn_test),\n",
        "                                shuffle=True)"
      ],
      "execution_count": null,
      "outputs": []
    },
    {
      "cell_type": "code",
      "metadata": {
        "id": "d3dD-A6lBYMg"
      },
      "source": [
        "from tensorflow.keras.layers import Conv1D, Dense, MaxPooling1D, Flatten, Dropout\n",
        "from tensorflow.keras.models import Sequential\n",
        "# from tensorflow.keras.optimizers import  SGD\n",
        "\n",
        "# sgd = tf.keras.optimizers.SGD(lr=0.01, momentum=0.0, decay=0.0, nesterov=True)\n",
        "\n",
        "np.random.seed(13)\n",
        "\n",
        "model_var01_01 = Sequential()\n",
        "model_var01_01.add(Conv1D(filters=16, kernel_size=12, \n",
        "                 input_shape=(x_train.shape[1], 1),activation='relu'))\n",
        "model_var01_01.add(MaxPooling1D(pool_size=4))\n",
        "\n",
        "model_var01_01.add(Flatten())\n",
        "\n",
        "model_var01_01.add(Dense(16, activation='relu'))\n",
        "model_var01_01.add(Dropout(0.2))\n",
        "model_var01_01.add(Dense(2, activation='softmax'))\n",
        "\n",
        "model_var01_01.compile(loss='categorical_crossentropy', optimizer='sgd', \n",
        "              metrics=['accuracy'])\n",
        "# model_var01.01.summary()\n",
        "\n",
        "# Checkpoint\n",
        "filepath = \"/content/drive/My Drive/model_var01.01.wb.hdf5\"\n",
        "checkpoint = ModelCheckpoint(filepath,\n",
        "                             monitor='val_acc',\n",
        "                             verbose=1,\n",
        "                             save_best_only=True,\n",
        "                             mode='max')\n",
        "callbacks_list = [checkpoint]\n",
        "\n",
        "# Fit the model\n",
        "history_var01_01 = model_var01_01.fit(x_train_3d, ynn_train,\n",
        "                                epochs = 25,\n",
        "                                batch_size = 25,\n",
        "                                verbose = 1,\n",
        "                                callbacks = callbacks_list,\n",
        "                                validation_split = 0.0,\n",
        "                                validation_data = (x_test_3d,ynn_test),\n",
        "                                shuffle=True)"
      ],
      "execution_count": null,
      "outputs": []
    },
    {
      "cell_type": "code",
      "metadata": {
        "id": "hkfH0jxLCEU2"
      },
      "source": [
        "from tensorflow.keras.layers import Conv1D, Dense, MaxPooling1D, Flatten, Dropout\n",
        "from tensorflow.keras.models import Sequential\n",
        "\n",
        "np.random.seed(13)\n",
        "\n",
        "model_var01_02 = Sequential()\n",
        "model_var01_02.add(Conv1D(filters=64, kernel_size=12, \n",
        "                 input_shape=(x_train.shape[1], 1),activation='relu'))\n",
        "model_var01_02.add(MaxPooling1D(pool_size=4))\n",
        "\n",
        "model_var01_02.add(Conv1D(filters=24, kernel_size=12,activation='relu'))\n",
        "model_var01_02.add(MaxPooling1D(pool_size=4))\n",
        "\n",
        "model_var01_02.add(Flatten())\n",
        "\n",
        "model_var01_02.add(Dense(24, activation='relu'))\n",
        "model_var01_02.add(Dropout(0.2))\n",
        "model_var01_02.add(Dense(2, activation='softmax'))\n",
        "\n",
        "model_var01_02.compile(loss='categorical_crossentropy', optimizer='sgd', \n",
        "              metrics=['accuracy'])\n",
        "# model_var01_02.summary()\n",
        "\n",
        "# Checkpoint\n",
        "filepath = \"/content/drive/My Drive/model_var01.02.wb.hdf5\"\n",
        "checkpoint = ModelCheckpoint(filepath,\n",
        "                             monitor='val_acc',\n",
        "                             verbose=1,\n",
        "                             save_best_only=True,\n",
        "                             mode='max')\n",
        "callbacks_list = [checkpoint]\n",
        "\n",
        "# Fit the model\n",
        "history_var01_02 = model_var01_02.fit(x_train_3d, ynn_train,\n",
        "                                epochs = 25,\n",
        "                                batch_size = 10,\n",
        "                                verbose = 1,\n",
        "                                callbacks = callbacks_list,\n",
        "                                validation_split = 0.0,\n",
        "                                validation_data = (x_test_3d,ynn_test),\n",
        "                                shuffle=True)"
      ],
      "execution_count": null,
      "outputs": []
    },
    {
      "cell_type": "code",
      "metadata": {
        "id": "VqQPzpbcHe9d"
      },
      "source": [
        "from tensorflow.keras.layers import Conv1D, Dense, MaxPooling1D, Flatten, Dropout\n",
        "from tensorflow.keras.models import Sequential\n",
        "\n",
        "np.random.seed(13)\n",
        "\n",
        "model_var01_03 = Sequential()\n",
        "model_var01_03.add(Conv1D(filters=16, kernel_size=12, \n",
        "                 input_shape=(x_train.shape[1], 1),activation='relu'))\n",
        "model_var01_03.add(MaxPooling1D(pool_size=4))\n",
        "\n",
        "model_var01_03.add(Flatten())\n",
        "\n",
        "model_var01_03.add(Dense(24, activation='relu'))\n",
        "# model_var01_03.add(Dropout(0.2))\n",
        "model_var01_03.add(Dense(2, activation='softmax'))\n",
        "\n",
        "model_var01_03.compile(loss='categorical_crossentropy', optimizer='adam', \n",
        "              metrics=['accuracy'])\n",
        "# model_var01.02.summary()\n",
        "\n",
        "# Checkpoint\n",
        "filepath = \"/content/drive/My Drive/model_var01.03.wb.hdf5\"\n",
        "checkpoint = ModelCheckpoint(filepath,\n",
        "                             monitor='val_acc',\n",
        "                             verbose=1,\n",
        "                             save_best_only=True,\n",
        "                             mode='max')\n",
        "callbacks_list = [checkpoint]\n",
        "\n",
        "# Fit the model\n",
        "history_var01_03 = model_var01_03.fit(x_train_3d, ynn_train,\n",
        "                                epochs = 25,\n",
        "                                batch_size = 10,\n",
        "                                verbose = 1,\n",
        "                                callbacks = callbacks_list,\n",
        "                                validation_split = 0.0,\n",
        "                                validation_data = (x_test_3d,ynn_test),\n",
        "                                shuffle=True)"
      ],
      "execution_count": null,
      "outputs": []
    },
    {
      "cell_type": "code",
      "metadata": {
        "id": "-ND4eOb6L1S4"
      },
      "source": [
        "from tensorflow.keras.layers import Conv1D, Dense, MaxPooling1D, Flatten, Dropout\n",
        "from tensorflow.keras.models import Sequential\n",
        "\n",
        "np.random.seed(13)\n",
        "\n",
        "model_var01_04 = Sequential()\n",
        "model_var01_04.add(Conv1D(filters=32, kernel_size=8, \n",
        "                 input_shape=(x_train.shape[1], 1),activation='relu'))\n",
        "model_var01_04.add(MaxPooling1D(pool_size=4))\n",
        "\n",
        "model_var01_04.add(Conv1D(filters=16, kernel_size=8,activation='relu'))\n",
        "model_var01_04.add(MaxPooling1D(pool_size=4))\n",
        "\n",
        "model_var01_04.add(Conv1D(filters=16, kernel_size=8,activation='relu'))\n",
        "model_var01_04.add(MaxPooling1D(pool_size=4))\n",
        "\n",
        "model_var01_04.add(Flatten())\n",
        "\n",
        "model_var01_04.add(Dense(8, activation='relu'))\n",
        "# model_var01.04.add(Dropout(0.2))\n",
        "model_var01_04.add(Dense(2, activation='softmax'))\n",
        "\n",
        "model_var01_04.compile(loss='categorical_crossentropy', optimizer='adam', \n",
        "              metrics=['accuracy'])\n",
        "# model_var01.04.summary()\n",
        "\n",
        "# Checkpoint\n",
        "filepath = \"/content/drive/My Drive/model_var01.04.wb.hdf5\"\n",
        "checkpoint = ModelCheckpoint(filepath,\n",
        "                             monitor='val_acc',\n",
        "                             verbose=1,\n",
        "                             save_best_only=True,\n",
        "                             mode='max')\n",
        "callbacks_list = [checkpoint]\n",
        "\n",
        "# Fit the model\n",
        "history_var01_04 = model_var01_04.fit(x_train_3d, ynn_train,\n",
        "                                epochs = 15,\n",
        "                                batch_size = 10,\n",
        "                                verbose = 1,\n",
        "                                callbacks = callbacks_list,\n",
        "                                validation_split = 0.0,\n",
        "                                validation_data = (x_test_3d,ynn_test),\n",
        "                                shuffle=True)"
      ],
      "execution_count": null,
      "outputs": []
    },
    {
      "cell_type": "markdown",
      "metadata": {
        "id": "jvTQC2HWcnxb"
      },
      "source": [
        "### Selected model from variations"
      ]
    },
    {
      "cell_type": "code",
      "metadata": {
        "id": "5sgtU-1xOlJz",
        "colab": {
          "base_uri": "https://localhost:8080/"
        },
        "outputId": "8f548e16-ccf4-425f-c05d-566e2a27c1df"
      },
      "source": [
        "# SELECTED MODEL\n",
        "\n",
        "from tensorflow.keras.layers import Embedding, Conv1D, Dense, MaxPooling1D, Flatten, Dropout\n",
        "from tensorflow.keras.models import Sequential\n",
        "\n",
        "tf.random.set_random_seed(SEED)\n",
        "np.random.seed(SEED)\n",
        "\n",
        "nkernel=12\n",
        "npool=7\n",
        "emb_dim = 12\n",
        "\n",
        "model_var01_05 = Sequential()\n",
        "\n",
        "model_var01_05.add(Embedding(input_dim=vocab_size, \n",
        "                           output_dim=emb_dim, \n",
        "                           input_length=x_train.shape[1]))\n",
        "\n",
        "model_var01_05.add(Conv1D(filters=24, kernel_size=nkernel,\n",
        "                          input_shape=(x_train.shape[1], 1),\n",
        "                          activation='relu'))\n",
        "model_var01_05.add(MaxPooling1D(pool_size=npool))\n",
        "\n",
        "model_var01_05.add(Conv1D(filters=16, kernel_size=nkernel,activation='relu'))\n",
        "model_var01_05.add(MaxPooling1D(pool_size=npool))\n",
        "\n",
        "model_var01_05.add(Conv1D(filters=16, kernel_size=nkernel,activation='relu'))\n",
        "model_var01_05.add(MaxPooling1D(pool_size=npool))\n",
        "\n",
        "model_var01_05.add(Conv1D(filters=16, kernel_size=nkernel,activation='relu'))\n",
        "model_var01_05.add(MaxPooling1D(pool_size=npool))\n",
        "\n",
        "model_var01_05.add(Flatten())\n",
        "\n",
        "model_var01_05.add(Dense(24, activation='relu'))\n",
        "model_var01_05.add(Dropout(0.4))\n",
        "model_var01_05.add(Dense(7, activation='softmax'))\n",
        "\n",
        "model_var01_05.compile(loss='categorical_crossentropy', optimizer='adam', \n",
        "              metrics=['accuracy'])\n",
        "model_var01_05.summary()\n",
        "\n",
        "# Checkpoint\n",
        "filepath = \"/content/drive/My Drive/model_nadd_embedded_wb.hdf5\"\n",
        "checkpoint = ModelCheckpoint(filepath,\n",
        "                             monitor='val_acc',\n",
        "                             verbose=1,\n",
        "                             save_best_only=True,\n",
        "                             mode='max')\n",
        "callbacks_list = [checkpoint]\n",
        "\n",
        "# Fit the model\n",
        "history_var01_05 = model_var01_05.fit(x_train, ynn_train,\n",
        "                                epochs = 20,\n",
        "                                batch_size = 10,\n",
        "                                verbose = 1,\n",
        "                                callbacks = callbacks_list,\n",
        "                                validation_split = 0.0,\n",
        "                                validation_data = (x_test,ynn_test),\n",
        "                                shuffle = True)\n",
        "\n",
        "model_var01_05.save(\"/content/drive/My Drive/model_nadd_embedded.hdf5\")\n",
        "\n",
        "# Save history binary\n",
        "with open(\"/content/drive/My Drive/model_nadd_embedded_saved_history.pkl\",\"wb\") as file_pi:\n",
        "  pickle.dump(history_var01_05.history, file_pi)"
      ],
      "execution_count": null,
      "outputs": [
        {
          "output_type": "stream",
          "text": [
            "Model: \"sequential_13\"\n",
            "_________________________________________________________________\n",
            "Layer (type)                 Output Shape              Param #   \n",
            "=================================================================\n",
            "embedding_13 (Embedding)     (None, 27418, 12)         84        \n",
            "_________________________________________________________________\n",
            "conv1d_45 (Conv1D)           (None, 27407, 24)         3480      \n",
            "_________________________________________________________________\n",
            "max_pooling1d_45 (MaxPooling (None, 3915, 24)          0         \n",
            "_________________________________________________________________\n",
            "conv1d_46 (Conv1D)           (None, 3904, 16)          4624      \n",
            "_________________________________________________________________\n",
            "max_pooling1d_46 (MaxPooling (None, 557, 16)           0         \n",
            "_________________________________________________________________\n",
            "conv1d_47 (Conv1D)           (None, 546, 16)           3088      \n",
            "_________________________________________________________________\n",
            "max_pooling1d_47 (MaxPooling (None, 78, 16)            0         \n",
            "_________________________________________________________________\n",
            "conv1d_48 (Conv1D)           (None, 67, 16)            3088      \n",
            "_________________________________________________________________\n",
            "max_pooling1d_48 (MaxPooling (None, 9, 16)             0         \n",
            "_________________________________________________________________\n",
            "flatten_13 (Flatten)         (None, 144)               0         \n",
            "_________________________________________________________________\n",
            "dense_26 (Dense)             (None, 24)                3480      \n",
            "_________________________________________________________________\n",
            "dropout_13 (Dropout)         (None, 24)                0         \n",
            "_________________________________________________________________\n",
            "dense_27 (Dense)             (None, 7)                 175       \n",
            "=================================================================\n",
            "Total params: 18,019\n",
            "Trainable params: 18,019\n",
            "Non-trainable params: 0\n",
            "_________________________________________________________________\n",
            "Train on 6030 samples, validate on 1508 samples\n",
            "Epoch 1/20\n",
            "5990/6030 [============================>.] - ETA: 0s - loss: 1.1691 - acc: 0.5319\n",
            "Epoch 00001: val_acc improved from -inf to 0.62003, saving model to /content/drive/My Drive/model_nadd_embedded_wb.hdf5\n",
            "6030/6030 [==============================] - 11s 2ms/sample - loss: 1.1680 - acc: 0.5327 - val_loss: 0.9934 - val_acc: 0.6200\n",
            "Epoch 2/20\n",
            "6000/6030 [============================>.] - ETA: 0s - loss: 1.0253 - acc: 0.5908\n",
            "Epoch 00002: val_acc improved from 0.62003 to 0.63793, saving model to /content/drive/My Drive/model_nadd_embedded_wb.hdf5\n",
            "6030/6030 [==============================] - 8s 1ms/sample - loss: 1.0257 - acc: 0.5905 - val_loss: 0.9319 - val_acc: 0.6379\n",
            "Epoch 3/20\n",
            "6000/6030 [============================>.] - ETA: 0s - loss: 0.9745 - acc: 0.6018\n",
            "Epoch 00003: val_acc improved from 0.63793 to 0.63859, saving model to /content/drive/My Drive/model_nadd_embedded_wb.hdf5\n",
            "6030/6030 [==============================] - 9s 1ms/sample - loss: 0.9726 - acc: 0.6022 - val_loss: 0.8575 - val_acc: 0.6386\n",
            "Epoch 4/20\n",
            "6000/6030 [============================>.] - ETA: 0s - loss: 0.8557 - acc: 0.6508\n",
            "Epoch 00004: val_acc improved from 0.63859 to 0.73143, saving model to /content/drive/My Drive/model_nadd_embedded_wb.hdf5\n",
            "6030/6030 [==============================] - 9s 2ms/sample - loss: 0.8556 - acc: 0.6512 - val_loss: 0.7439 - val_acc: 0.7314\n",
            "Epoch 5/20\n",
            "5990/6030 [============================>.] - ETA: 0s - loss: 0.7323 - acc: 0.7374\n",
            "Epoch 00005: val_acc improved from 0.73143 to 0.78581, saving model to /content/drive/My Drive/model_nadd_embedded_wb.hdf5\n",
            "6030/6030 [==============================] - 9s 1ms/sample - loss: 0.7298 - acc: 0.7385 - val_loss: 0.6178 - val_acc: 0.7858\n",
            "Epoch 6/20\n",
            "5990/6030 [============================>.] - ETA: 0s - loss: 0.6076 - acc: 0.7953\n",
            "Epoch 00006: val_acc improved from 0.78581 to 0.83024, saving model to /content/drive/My Drive/model_nadd_embedded_wb.hdf5\n",
            "6030/6030 [==============================] - 9s 1ms/sample - loss: 0.6087 - acc: 0.7947 - val_loss: 0.5125 - val_acc: 0.8302\n",
            "Epoch 7/20\n",
            "6010/6030 [============================>.] - ETA: 0s - loss: 0.5202 - acc: 0.8314\n",
            "Epoch 00007: val_acc improved from 0.83024 to 0.85544, saving model to /content/drive/My Drive/model_nadd_embedded_wb.hdf5\n",
            "6030/6030 [==============================] - 9s 1ms/sample - loss: 0.5195 - acc: 0.8315 - val_loss: 0.4530 - val_acc: 0.8554\n",
            "Epoch 8/20\n",
            "5990/6030 [============================>.] - ETA: 0s - loss: 0.4514 - acc: 0.8546\n",
            "Epoch 00008: val_acc improved from 0.85544 to 0.86737, saving model to /content/drive/My Drive/model_nadd_embedded_wb.hdf5\n",
            "6030/6030 [==============================] - 9s 1ms/sample - loss: 0.4514 - acc: 0.8546 - val_loss: 0.4081 - val_acc: 0.8674\n",
            "Epoch 9/20\n",
            "6020/6030 [============================>.] - ETA: 0s - loss: 0.4058 - acc: 0.8723\n",
            "Epoch 00009: val_acc did not improve from 0.86737\n",
            "6030/6030 [==============================] - 8s 1ms/sample - loss: 0.4054 - acc: 0.8725 - val_loss: 0.6183 - val_acc: 0.8276\n",
            "Epoch 10/20\n",
            "6000/6030 [============================>.] - ETA: 0s - loss: 0.3688 - acc: 0.8808\n",
            "Epoch 00010: val_acc improved from 0.86737 to 0.87069, saving model to /content/drive/My Drive/model_nadd_embedded_wb.hdf5\n",
            "6030/6030 [==============================] - 8s 1ms/sample - loss: 0.3680 - acc: 0.8813 - val_loss: 0.4114 - val_acc: 0.8707\n",
            "Epoch 11/20\n",
            "6020/6030 [============================>.] - ETA: 0s - loss: 0.3518 - acc: 0.8877\n",
            "Epoch 00011: val_acc improved from 0.87069 to 0.88130, saving model to /content/drive/My Drive/model_nadd_embedded_wb.hdf5\n",
            "6030/6030 [==============================] - 9s 1ms/sample - loss: 0.3514 - acc: 0.8879 - val_loss: 0.3725 - val_acc: 0.8813\n",
            "Epoch 12/20\n",
            "5990/6030 [============================>.] - ETA: 0s - loss: 0.2934 - acc: 0.9114\n",
            "Epoch 00012: val_acc improved from 0.88130 to 0.89854, saving model to /content/drive/My Drive/model_nadd_embedded_wb.hdf5\n",
            "6030/6030 [==============================] - 9s 1ms/sample - loss: 0.2928 - acc: 0.9116 - val_loss: 0.3608 - val_acc: 0.8985\n",
            "Epoch 13/20\n",
            "5980/6030 [============================>.] - ETA: 0s - loss: 0.2711 - acc: 0.9161\n",
            "Epoch 00013: val_acc improved from 0.89854 to 0.90385, saving model to /content/drive/My Drive/model_nadd_embedded_wb.hdf5\n",
            "6030/6030 [==============================] - 9s 1ms/sample - loss: 0.2701 - acc: 0.9164 - val_loss: 0.3117 - val_acc: 0.9038\n",
            "Epoch 14/20\n",
            "5990/6030 [============================>.] - ETA: 0s - loss: 0.2468 - acc: 0.9239\n",
            "Epoch 00014: val_acc did not improve from 0.90385\n",
            "6030/6030 [==============================] - 8s 1ms/sample - loss: 0.2457 - acc: 0.9240 - val_loss: 0.3494 - val_acc: 0.9032\n",
            "Epoch 15/20\n",
            "6000/6030 [============================>.] - ETA: 0s - loss: 0.2243 - acc: 0.9312\n",
            "Epoch 00015: val_acc improved from 0.90385 to 0.91379, saving model to /content/drive/My Drive/model_nadd_embedded_wb.hdf5\n",
            "6030/6030 [==============================] - 9s 1ms/sample - loss: 0.2253 - acc: 0.9305 - val_loss: 0.3065 - val_acc: 0.9138\n",
            "Epoch 16/20\n",
            "6010/6030 [============================>.] - ETA: 0s - loss: 0.1934 - acc: 0.9394\n",
            "Epoch 00016: val_acc did not improve from 0.91379\n",
            "6030/6030 [==============================] - 8s 1ms/sample - loss: 0.1929 - acc: 0.9396 - val_loss: 0.3255 - val_acc: 0.9038\n",
            "Epoch 17/20\n",
            "5990/6030 [============================>.] - ETA: 0s - loss: 0.1701 - acc: 0.9467\n",
            "Epoch 00017: val_acc improved from 0.91379 to 0.91711, saving model to /content/drive/My Drive/model_nadd_embedded_wb.hdf5\n",
            "6030/6030 [==============================] - 9s 1ms/sample - loss: 0.1698 - acc: 0.9468 - val_loss: 0.3158 - val_acc: 0.9171\n",
            "Epoch 18/20\n",
            "6010/6030 [============================>.] - ETA: 0s - loss: 0.1720 - acc: 0.9471\n",
            "Epoch 00018: val_acc did not improve from 0.91711\n",
            "6030/6030 [==============================] - 8s 1ms/sample - loss: 0.1718 - acc: 0.9473 - val_loss: 0.3158 - val_acc: 0.9105\n",
            "Epoch 19/20\n",
            "5990/6030 [============================>.] - ETA: 0s - loss: 0.1538 - acc: 0.9518\n",
            "Epoch 00019: val_acc did not improve from 0.91711\n",
            "6030/6030 [==============================] - 8s 1ms/sample - loss: 0.1534 - acc: 0.9517 - val_loss: 0.3574 - val_acc: 0.9098\n",
            "Epoch 20/20\n",
            "6000/6030 [============================>.] - ETA: 0s - loss: 0.1340 - acc: 0.9580\n",
            "Epoch 00020: val_acc improved from 0.91711 to 0.91844, saving model to /content/drive/My Drive/model_nadd_embedded_wb.hdf5\n",
            "6030/6030 [==============================] - 9s 1ms/sample - loss: 0.1340 - acc: 0.9579 - val_loss: 0.3371 - val_acc: 0.9184\n"
          ],
          "name": "stdout"
        }
      ]
    },
    {
      "cell_type": "code",
      "metadata": {
        "colab": {
          "base_uri": "https://localhost:8080/"
        },
        "id": "otyWbyjtLJ99",
        "outputId": "e3d87251-bb0e-4ff0-9587-ff9406f90ece"
      },
      "source": [
        "rev_word_map = dict(map(reversed, labtok.word_index.items()))\n",
        "rev_word_map"
      ],
      "execution_count": null,
      "outputs": [
        {
          "output_type": "execute_result",
          "data": {
            "text/plain": [
              "{1: 'ltr', 2: 'dna', 3: 'line', 4: 'rc', 5: 'sine', 6: 'retroposon'}"
            ]
          },
          "metadata": {
            "tags": []
          },
          "execution_count": 49
        }
      ]
    },
    {
      "cell_type": "code",
      "metadata": {
        "id": "z_ZZUUdXIfrZ"
      },
      "source": [
        "predicted = model_var01_05.predict_classes(x_test[-500:])\n",
        "# predicted"
      ],
      "execution_count": null,
      "outputs": []
    },
    {
      "cell_type": "code",
      "metadata": {
        "id": "2Q-H9velItSu"
      },
      "source": [
        "# for item in ynn_test[5:15]:\n",
        "#   print(argmax(item))\n",
        "true_labs = np.array([argmax(item) for item in ynn_test[-500:]])\n",
        "# true_labs"
      ],
      "execution_count": null,
      "outputs": []
    },
    {
      "cell_type": "code",
      "metadata": {
        "colab": {
          "base_uri": "https://localhost:8080/"
        },
        "id": "QjDlbZ9VYa9y",
        "outputId": "32e8eb0b-390e-4d96-b01b-5a48eb73d96e"
      },
      "source": [
        "from sklearn.metrics import accuracy_score, f1_score\n",
        "print(accuracy_score(true_labs, predicted))\n",
        "print(f1_score(true_labs, predicted, average = 'weighted'))"
      ],
      "execution_count": null,
      "outputs": [
        {
          "output_type": "stream",
          "text": [
            "0.918\n",
            "0.9115345161746735\n"
          ],
          "name": "stdout"
        }
      ]
    },
    {
      "cell_type": "code",
      "metadata": {
        "id": "GJBSAmNEdKjm",
        "colab": {
          "base_uri": "https://localhost:8080/"
        },
        "outputId": "baef61bc-2772-4804-866c-e8984e61ecf6"
      },
      "source": [
        "# SELECTED MODEL var\n",
        "# Changing kernel, padding\n",
        "\n",
        "from tensorflow.keras.layers import Conv1D, Dense, MaxPooling1D, Flatten, Dropout\n",
        "from tensorflow.keras.models import Sequential\n",
        "\n",
        "tf.compat.v1.random.set_random_seed(SEED)\n",
        "np.random.seed(SEED)\n",
        "for i in range(0,11):\n",
        "  i=i+1\n",
        "  print(\"-----------------\")\n",
        "  print(f\"Starting round {i}.\")\n",
        "  print(\"-----------------\")\n",
        "  model_var01_05 = Sequential()\n",
        "  model_var01_05.add(Conv1D(filters=24, kernel_size=12, \n",
        "                  input_shape=(x_train.shape[1], 1),activation='relu'))\n",
        "  model_var01_05.add(MaxPooling1D(pool_size=7))\n",
        "\n",
        "  model_var01_05.add(Conv1D(filters=16, kernel_size=12,activation='relu'))\n",
        "  model_var01_05.add(MaxPooling1D(pool_size=7))\n",
        "\n",
        "  model_var01_05.add(Conv1D(filters=16, kernel_size=12,activation='relu'))\n",
        "  model_var01_05.add(MaxPooling1D(pool_size=7))\n",
        "\n",
        "  model_var01_05.add(Conv1D(filters=16, kernel_size=12,activation='relu'))\n",
        "  model_var01_05.add(MaxPooling1D(pool_size=7))\n",
        "\n",
        "  model_var01_05.add(Flatten())\n",
        "\n",
        "  model_var01_05.add(Dense(24, activation='relu'))\n",
        "  # model_var01_05.add(Dropout(0.2))\n",
        "  model_var01_05.add(Dense(2, activation='softmax'))\n",
        "\n",
        "  model_var01_05.compile(loss='categorical_crossentropy', optimizer='adam', \n",
        "                metrics=['accuracy'])\n",
        "  # model_var01_05.summary()\n",
        "\n",
        "  # Checkpoint\n",
        "  filepath = f\"model_nadd_241624152502_{i}_wb.hdf5\"\n",
        "  checkpoint = ModelCheckpoint(filepath,\n",
        "                              monitor='val_loss',\n",
        "                              verbose=1,\n",
        "                              save_best_only=True,\n",
        "                              mode='min')\n",
        "  callbacks_list = [checkpoint]\n",
        "\n",
        "  # Fit the model\n",
        "  history_var01_05 = model_var01_05.fit(x_train_3d, ynn_train,\n",
        "                                  epochs = 15,\n",
        "                                  batch_size = 25,\n",
        "                                  verbose = 1,\n",
        "                                  callbacks = callbacks_list,\n",
        "                                  validation_split = 0.0,\n",
        "                                  validation_data = (x_test_3d,ynn_test),\n",
        "                                  shuffle = True)\n",
        "  # Save final model\n",
        "  model_var01_05.save(f\"model_nadd_241624152502_{i}.hdf5\")\n",
        "  # Save history binary\n",
        "  with open(f\"model_nadd_241624152502_{i}_saved_history\",\"wb\") as file_pi:\n",
        "    pickle.dump(history_var01_05.history, file_pi)\n",
        "  print(\"-----------------\")\n",
        "  print(f\"Round {i} finished!\")\n",
        "  print(\"-----------------\")\n"
      ],
      "execution_count": null,
      "outputs": [
        {
          "output_type": "stream",
          "text": [
            "-----------------\n",
            "Starting round 1.\n",
            "-----------------\n",
            "WARNING:tensorflow:From /tensorflow-1.15.2/python3.6/tensorflow_core/python/ops/resource_variable_ops.py:1630: calling BaseResourceVariable.__init__ (from tensorflow.python.ops.resource_variable_ops) with constraint is deprecated and will be removed in a future version.\n",
            "Instructions for updating:\n",
            "If using Keras pass *_constraint arguments to layers.\n",
            "Train on 12535 samples, validate on 3134 samples\n",
            "Epoch 1/15\n",
            "12500/12535 [============================>.] - ETA: 0s - loss: 0.5217 - acc: 0.7144\n",
            "Epoch 00001: val_loss improved from inf to 0.50012, saving model to model_nadd_241624152502_1_wb.hdf5\n",
            "12535/12535 [==============================] - 32s 3ms/sample - loss: 0.5218 - acc: 0.7144 - val_loss: 0.5001 - val_acc: 0.7355\n",
            "Epoch 2/15\n",
            "12525/12535 [============================>.] - ETA: 0s - loss: 0.4873 - acc: 0.7432\n",
            "Epoch 00002: val_loss improved from 0.50012 to 0.48494, saving model to model_nadd_241624152502_1_wb.hdf5\n",
            "12535/12535 [==============================] - 25s 2ms/sample - loss: 0.4872 - acc: 0.7432 - val_loss: 0.4849 - val_acc: 0.7709\n",
            "Epoch 3/15\n",
            "12525/12535 [============================>.] - ETA: 0s - loss: 0.4300 - acc: 0.7909\n",
            "Epoch 00003: val_loss improved from 0.48494 to 0.46750, saving model to model_nadd_241624152502_1_wb.hdf5\n",
            "12535/12535 [==============================] - 26s 2ms/sample - loss: 0.4301 - acc: 0.7909 - val_loss: 0.4675 - val_acc: 0.7805\n",
            "Epoch 4/15\n",
            "12525/12535 [============================>.] - ETA: 0s - loss: 0.3737 - acc: 0.8327\n",
            "Epoch 00004: val_loss improved from 0.46750 to 0.39140, saving model to model_nadd_241624152502_1_wb.hdf5\n",
            "12535/12535 [==============================] - 25s 2ms/sample - loss: 0.3738 - acc: 0.8328 - val_loss: 0.3914 - val_acc: 0.8309\n",
            "Epoch 5/15\n",
            "12525/12535 [============================>.] - ETA: 0s - loss: 0.3395 - acc: 0.8549\n",
            "Epoch 00005: val_loss improved from 0.39140 to 0.34227, saving model to model_nadd_241624152502_1_wb.hdf5\n",
            "12535/12535 [==============================] - 25s 2ms/sample - loss: 0.3398 - acc: 0.8547 - val_loss: 0.3423 - val_acc: 0.8561\n",
            "Epoch 6/15\n",
            "12525/12535 [============================>.] - ETA: 0s - loss: 0.3198 - acc: 0.8608\n",
            "Epoch 00006: val_loss did not improve from 0.34227\n",
            "12535/12535 [==============================] - 25s 2ms/sample - loss: 0.3200 - acc: 0.8607 - val_loss: 0.3523 - val_acc: 0.8523\n",
            "Epoch 7/15\n",
            "12525/12535 [============================>.] - ETA: 0s - loss: 0.3047 - acc: 0.8703\n",
            "Epoch 00007: val_loss improved from 0.34227 to 0.32636, saving model to model_nadd_241624152502_1_wb.hdf5\n",
            "12535/12535 [==============================] - 25s 2ms/sample - loss: 0.3046 - acc: 0.8704 - val_loss: 0.3264 - val_acc: 0.8657\n",
            "Epoch 8/15\n",
            "12525/12535 [============================>.] - ETA: 0s - loss: 0.2877 - acc: 0.8779\n",
            "Epoch 00008: val_loss did not improve from 0.32636\n",
            "12535/12535 [==============================] - 25s 2ms/sample - loss: 0.2877 - acc: 0.8779 - val_loss: 0.3625 - val_acc: 0.8497\n",
            "Epoch 9/15\n",
            "12525/12535 [============================>.] - ETA: 0s - loss: 0.2731 - acc: 0.8871\n",
            "Epoch 00009: val_loss improved from 0.32636 to 0.30536, saving model to model_nadd_241624152502_1_wb.hdf5\n",
            "12535/12535 [==============================] - 25s 2ms/sample - loss: 0.2730 - acc: 0.8871 - val_loss: 0.3054 - val_acc: 0.8759\n",
            "Epoch 10/15\n",
            "12525/12535 [============================>.] - ETA: 0s - loss: 0.2522 - acc: 0.8975\n",
            "Epoch 00010: val_loss did not improve from 0.30536\n",
            "12535/12535 [==============================] - 25s 2ms/sample - loss: 0.2521 - acc: 0.8976 - val_loss: 0.3936 - val_acc: 0.8488\n",
            "Epoch 11/15\n",
            "12525/12535 [============================>.] - ETA: 0s - loss: 0.2356 - acc: 0.9048\n",
            "Epoch 00011: val_loss improved from 0.30536 to 0.28421, saving model to model_nadd_241624152502_1_wb.hdf5\n",
            "12535/12535 [==============================] - 25s 2ms/sample - loss: 0.2357 - acc: 0.9048 - val_loss: 0.2842 - val_acc: 0.8835\n",
            "Epoch 12/15\n",
            "12525/12535 [============================>.] - ETA: 0s - loss: 0.2160 - acc: 0.9137\n",
            "Epoch 00012: val_loss improved from 0.28421 to 0.26851, saving model to model_nadd_241624152502_1_wb.hdf5\n",
            "12535/12535 [==============================] - 25s 2ms/sample - loss: 0.2158 - acc: 0.9138 - val_loss: 0.2685 - val_acc: 0.8944\n",
            "Epoch 13/15\n",
            "12525/12535 [============================>.] - ETA: 0s - loss: 0.2079 - acc: 0.9157\n",
            "Epoch 00013: val_loss did not improve from 0.26851\n",
            "12535/12535 [==============================] - 25s 2ms/sample - loss: 0.2077 - acc: 0.9158 - val_loss: 0.2826 - val_acc: 0.8893\n",
            "Epoch 14/15\n",
            "12525/12535 [============================>.] - ETA: 0s - loss: 0.1890 - acc: 0.9252\n",
            "Epoch 00014: val_loss improved from 0.26851 to 0.26694, saving model to model_nadd_241624152502_1_wb.hdf5\n",
            "12535/12535 [==============================] - 25s 2ms/sample - loss: 0.1889 - acc: 0.9252 - val_loss: 0.2669 - val_acc: 0.8925\n",
            "Epoch 15/15\n",
            "12525/12535 [============================>.] - ETA: 0s - loss: 0.1790 - acc: 0.9287\n",
            "Epoch 00015: val_loss did not improve from 0.26694\n",
            "12535/12535 [==============================] - 25s 2ms/sample - loss: 0.1790 - acc: 0.9288 - val_loss: 0.3003 - val_acc: 0.8791\n",
            "-----------------\n",
            "Round 1 finished!\n",
            "-----------------\n",
            "-----------------\n",
            "Starting round 2.\n",
            "-----------------\n",
            "Train on 12535 samples, validate on 3134 samples\n",
            "Epoch 1/15\n",
            "12525/12535 [============================>.] - ETA: 0s - loss: 0.5269 - acc: 0.7208\n",
            "Epoch 00001: val_loss improved from inf to 0.51027, saving model to model_nadd_241624152502_2_wb.hdf5\n",
            "12535/12535 [==============================] - 25s 2ms/sample - loss: 0.5271 - acc: 0.7208 - val_loss: 0.5103 - val_acc: 0.7265\n",
            "Epoch 2/15\n",
            "12525/12535 [============================>.] - ETA: 0s - loss: 0.4933 - acc: 0.7352\n",
            "Epoch 00002: val_loss improved from 0.51027 to 0.50013, saving model to model_nadd_241624152502_2_wb.hdf5\n",
            "12535/12535 [==============================] - 24s 2ms/sample - loss: 0.4933 - acc: 0.7354 - val_loss: 0.5001 - val_acc: 0.7332\n",
            "Epoch 3/15\n",
            "12525/12535 [============================>.] - ETA: 0s - loss: 0.4879 - acc: 0.7376\n",
            "Epoch 00003: val_loss improved from 0.50013 to 0.49609, saving model to model_nadd_241624152502_2_wb.hdf5\n",
            "12535/12535 [==============================] - 24s 2ms/sample - loss: 0.4879 - acc: 0.7378 - val_loss: 0.4961 - val_acc: 0.7342\n",
            "Epoch 4/15\n",
            "12525/12535 [============================>.] - ETA: 0s - loss: 0.4794 - acc: 0.7471\n",
            "Epoch 00004: val_loss improved from 0.49609 to 0.49295, saving model to model_nadd_241624152502_2_wb.hdf5\n",
            "12535/12535 [==============================] - 25s 2ms/sample - loss: 0.4796 - acc: 0.7470 - val_loss: 0.4930 - val_acc: 0.7444\n",
            "Epoch 5/15\n",
            "12500/12535 [============================>.] - ETA: 0s - loss: 0.4330 - acc: 0.7843\n",
            "Epoch 00005: val_loss improved from 0.49295 to 0.42634, saving model to model_nadd_241624152502_2_wb.hdf5\n",
            "12535/12535 [==============================] - 24s 2ms/sample - loss: 0.4327 - acc: 0.7844 - val_loss: 0.4263 - val_acc: 0.7853\n",
            "Epoch 6/15\n",
            "12525/12535 [============================>.] - ETA: 0s - loss: 0.3597 - acc: 0.8363\n",
            "Epoch 00006: val_loss improved from 0.42634 to 0.33547, saving model to model_nadd_241624152502_2_wb.hdf5\n",
            "12535/12535 [==============================] - 24s 2ms/sample - loss: 0.3597 - acc: 0.8363 - val_loss: 0.3355 - val_acc: 0.8548\n",
            "Epoch 7/15\n",
            "12525/12535 [============================>.] - ETA: 0s - loss: 0.2902 - acc: 0.8769\n",
            "Epoch 00007: val_loss improved from 0.33547 to 0.31257, saving model to model_nadd_241624152502_2_wb.hdf5\n",
            "12535/12535 [==============================] - 24s 2ms/sample - loss: 0.2902 - acc: 0.8768 - val_loss: 0.3126 - val_acc: 0.8714\n",
            "Epoch 8/15\n",
            "12525/12535 [============================>.] - ETA: 0s - loss: 0.2479 - acc: 0.8969\n",
            "Epoch 00008: val_loss improved from 0.31257 to 0.26863, saving model to model_nadd_241624152502_2_wb.hdf5\n",
            "12535/12535 [==============================] - 24s 2ms/sample - loss: 0.2478 - acc: 0.8969 - val_loss: 0.2686 - val_acc: 0.8934\n",
            "Epoch 9/15\n",
            "12525/12535 [============================>.] - ETA: 0s - loss: 0.2203 - acc: 0.9103\n",
            "Epoch 00009: val_loss improved from 0.26863 to 0.26102, saving model to model_nadd_241624152502_2_wb.hdf5\n",
            "12535/12535 [==============================] - 25s 2ms/sample - loss: 0.2203 - acc: 0.9103 - val_loss: 0.2610 - val_acc: 0.8976\n",
            "Epoch 10/15\n",
            "12525/12535 [============================>.] - ETA: 0s - loss: 0.2020 - acc: 0.9170\n",
            "Epoch 00010: val_loss did not improve from 0.26102\n",
            "12535/12535 [==============================] - 25s 2ms/sample - loss: 0.2020 - acc: 0.9170 - val_loss: 0.2972 - val_acc: 0.8800\n",
            "Epoch 11/15\n",
            "12525/12535 [============================>.] - ETA: 0s - loss: 0.1842 - acc: 0.9283\n",
            "Epoch 00011: val_loss improved from 0.26102 to 0.24556, saving model to model_nadd_241624152502_2_wb.hdf5\n",
            "12535/12535 [==============================] - 25s 2ms/sample - loss: 0.1841 - acc: 0.9284 - val_loss: 0.2456 - val_acc: 0.9030\n",
            "Epoch 12/15\n",
            "12525/12535 [============================>.] - ETA: 0s - loss: 0.1669 - acc: 0.9368\n",
            "Epoch 00012: val_loss did not improve from 0.24556\n",
            "12535/12535 [==============================] - 25s 2ms/sample - loss: 0.1671 - acc: 0.9367 - val_loss: 0.2504 - val_acc: 0.9027\n",
            "Epoch 13/15\n",
            "12500/12535 [============================>.] - ETA: 0s - loss: 0.1589 - acc: 0.9391\n",
            "Epoch 00013: val_loss did not improve from 0.24556\n",
            "12535/12535 [==============================] - 25s 2ms/sample - loss: 0.1588 - acc: 0.9391 - val_loss: 0.2679 - val_acc: 0.8992\n",
            "Epoch 14/15\n",
            "12525/12535 [============================>.] - ETA: 0s - loss: 0.1428 - acc: 0.9451\n",
            "Epoch 00014: val_loss did not improve from 0.24556\n",
            "12535/12535 [==============================] - 25s 2ms/sample - loss: 0.1428 - acc: 0.9452 - val_loss: 0.2489 - val_acc: 0.9024\n",
            "Epoch 15/15\n",
            "12525/12535 [============================>.] - ETA: 0s - loss: 0.1323 - acc: 0.9498\n",
            "Epoch 00015: val_loss did not improve from 0.24556\n",
            "12535/12535 [==============================] - 25s 2ms/sample - loss: 0.1322 - acc: 0.9498 - val_loss: 0.2813 - val_acc: 0.8909\n",
            "-----------------\n",
            "Round 2 finished!\n",
            "-----------------\n",
            "-----------------\n",
            "Starting round 3.\n",
            "-----------------\n",
            "Train on 12535 samples, validate on 3134 samples\n",
            "Epoch 1/15\n",
            "12525/12535 [============================>.] - ETA: 0s - loss: 0.5226 - acc: 0.7146\n",
            "Epoch 00001: val_loss improved from inf to 0.50393, saving model to model_nadd_241624152502_3_wb.hdf5\n",
            "12535/12535 [==============================] - 25s 2ms/sample - loss: 0.5226 - acc: 0.7146 - val_loss: 0.5039 - val_acc: 0.7214\n",
            "Epoch 2/15\n",
            "12525/12535 [============================>.] - ETA: 0s - loss: 0.4943 - acc: 0.7362\n",
            "Epoch 00002: val_loss improved from 0.50393 to 0.49940, saving model to model_nadd_241624152502_3_wb.hdf5\n",
            "12535/12535 [==============================] - 25s 2ms/sample - loss: 0.4941 - acc: 0.7364 - val_loss: 0.4994 - val_acc: 0.7326\n",
            "Epoch 3/15\n",
            "12525/12535 [============================>.] - ETA: 0s - loss: 0.4874 - acc: 0.7403\n",
            "Epoch 00003: val_loss did not improve from 0.49940\n",
            "12535/12535 [==============================] - 25s 2ms/sample - loss: 0.4874 - acc: 0.7403 - val_loss: 0.5027 - val_acc: 0.7313\n",
            "Epoch 4/15\n",
            "12525/12535 [============================>.] - ETA: 0s - loss: 0.4797 - acc: 0.7439\n",
            "Epoch 00004: val_loss improved from 0.49940 to 0.48356, saving model to model_nadd_241624152502_3_wb.hdf5\n",
            "12535/12535 [==============================] - 25s 2ms/sample - loss: 0.4796 - acc: 0.7441 - val_loss: 0.4836 - val_acc: 0.7495\n",
            "Epoch 5/15\n",
            "12525/12535 [============================>.] - ETA: 0s - loss: 0.4225 - acc: 0.7887\n",
            "Epoch 00005: val_loss improved from 0.48356 to 0.41016, saving model to model_nadd_241624152502_3_wb.hdf5\n",
            "12535/12535 [==============================] - 25s 2ms/sample - loss: 0.4224 - acc: 0.7888 - val_loss: 0.4102 - val_acc: 0.8223\n",
            "Epoch 6/15\n",
            "12525/12535 [============================>.] - ETA: 0s - loss: 0.3445 - acc: 0.8493\n",
            "Epoch 00006: val_loss improved from 0.41016 to 0.39045, saving model to model_nadd_241624152502_3_wb.hdf5\n",
            "12535/12535 [==============================] - 25s 2ms/sample - loss: 0.3444 - acc: 0.8494 - val_loss: 0.3905 - val_acc: 0.8357\n",
            "Epoch 7/15\n",
            "12525/12535 [============================>.] - ETA: 0s - loss: 0.3023 - acc: 0.8732\n",
            "Epoch 00007: val_loss improved from 0.39045 to 0.30690, saving model to model_nadd_241624152502_3_wb.hdf5\n",
            "12535/12535 [==============================] - 25s 2ms/sample - loss: 0.3027 - acc: 0.8732 - val_loss: 0.3069 - val_acc: 0.8743\n",
            "Epoch 8/15\n",
            "12525/12535 [============================>.] - ETA: 0s - loss: 0.2718 - acc: 0.8868\n",
            "Epoch 00008: val_loss improved from 0.30690 to 0.28331, saving model to model_nadd_241624152502_3_wb.hdf5\n",
            "12535/12535 [==============================] - 25s 2ms/sample - loss: 0.2717 - acc: 0.8868 - val_loss: 0.2833 - val_acc: 0.8791\n",
            "Epoch 9/15\n",
            "12525/12535 [============================>.] - ETA: 0s - loss: 0.2444 - acc: 0.8975\n",
            "Epoch 00009: val_loss improved from 0.28331 to 0.28093, saving model to model_nadd_241624152502_3_wb.hdf5\n",
            "12535/12535 [==============================] - 25s 2ms/sample - loss: 0.2445 - acc: 0.8974 - val_loss: 0.2809 - val_acc: 0.8781\n",
            "Epoch 10/15\n",
            "12525/12535 [============================>.] - ETA: 0s - loss: 0.2337 - acc: 0.9031\n",
            "Epoch 00010: val_loss improved from 0.28093 to 0.26916, saving model to model_nadd_241624152502_3_wb.hdf5\n",
            "12535/12535 [==============================] - 25s 2ms/sample - loss: 0.2335 - acc: 0.9032 - val_loss: 0.2692 - val_acc: 0.8925\n",
            "Epoch 11/15\n",
            "12525/12535 [============================>.] - ETA: 0s - loss: 0.2171 - acc: 0.9102\n",
            "Epoch 00011: val_loss did not improve from 0.26916\n",
            "12535/12535 [==============================] - 24s 2ms/sample - loss: 0.2170 - acc: 0.9103 - val_loss: 0.3328 - val_acc: 0.8628\n",
            "Epoch 12/15\n",
            "12525/12535 [============================>.] - ETA: 0s - loss: 0.1972 - acc: 0.9210\n",
            "Epoch 00012: val_loss improved from 0.26916 to 0.25070, saving model to model_nadd_241624152502_3_wb.hdf5\n",
            "12535/12535 [==============================] - 25s 2ms/sample - loss: 0.1972 - acc: 0.9211 - val_loss: 0.2507 - val_acc: 0.8998\n",
            "Epoch 13/15\n",
            "12525/12535 [============================>.] - ETA: 0s - loss: 0.1852 - acc: 0.9239\n",
            "Epoch 00013: val_loss did not improve from 0.25070\n",
            "12535/12535 [==============================] - 25s 2ms/sample - loss: 0.1853 - acc: 0.9239 - val_loss: 0.4596 - val_acc: 0.8220\n",
            "Epoch 14/15\n",
            "12525/12535 [============================>.] - ETA: 0s - loss: 0.1767 - acc: 0.9282\n",
            "Epoch 00014: val_loss did not improve from 0.25070\n",
            "12535/12535 [==============================] - 25s 2ms/sample - loss: 0.1767 - acc: 0.9282 - val_loss: 0.2682 - val_acc: 0.8909\n",
            "Epoch 15/15\n",
            "12525/12535 [============================>.] - ETA: 0s - loss: 0.1680 - acc: 0.9316\n",
            "Epoch 00015: val_loss did not improve from 0.25070\n",
            "12535/12535 [==============================] - 25s 2ms/sample - loss: 0.1679 - acc: 0.9316 - val_loss: 0.2729 - val_acc: 0.8937\n",
            "-----------------\n",
            "Round 3 finished!\n",
            "-----------------\n",
            "-----------------\n",
            "Starting round 4.\n",
            "-----------------\n",
            "Train on 12535 samples, validate on 3134 samples\n",
            "Epoch 1/15\n",
            "12525/12535 [============================>.] - ETA: 0s - loss: 0.5244 - acc: 0.7150\n",
            "Epoch 00001: val_loss improved from inf to 0.51014, saving model to model_nadd_241624152502_4_wb.hdf5\n",
            "12535/12535 [==============================] - 25s 2ms/sample - loss: 0.5243 - acc: 0.7150 - val_loss: 0.5101 - val_acc: 0.7071\n",
            "Epoch 2/15\n",
            "12525/12535 [============================>.] - ETA: 0s - loss: 0.4924 - acc: 0.7396\n",
            "Epoch 00002: val_loss improved from 0.51014 to 0.51012, saving model to model_nadd_241624152502_4_wb.hdf5\n",
            "12535/12535 [==============================] - 25s 2ms/sample - loss: 0.4925 - acc: 0.7394 - val_loss: 0.5101 - val_acc: 0.7246\n",
            "Epoch 3/15\n",
            "12525/12535 [============================>.] - ETA: 0s - loss: 0.4838 - acc: 0.7431\n",
            "Epoch 00003: val_loss improved from 0.51012 to 0.50155, saving model to model_nadd_241624152502_4_wb.hdf5\n",
            "12535/12535 [==============================] - 25s 2ms/sample - loss: 0.4836 - acc: 0.7432 - val_loss: 0.5016 - val_acc: 0.7482\n",
            "Epoch 4/15\n",
            "12525/12535 [============================>.] - ETA: 0s - loss: 0.4501 - acc: 0.7771\n",
            "Epoch 00004: val_loss improved from 0.50155 to 0.42942, saving model to model_nadd_241624152502_4_wb.hdf5\n",
            "12535/12535 [==============================] - 25s 2ms/sample - loss: 0.4501 - acc: 0.7771 - val_loss: 0.4294 - val_acc: 0.7872\n",
            "Epoch 5/15\n",
            "12525/12535 [============================>.] - ETA: 0s - loss: 0.3739 - acc: 0.8333\n",
            "Epoch 00005: val_loss improved from 0.42942 to 0.35338, saving model to model_nadd_241624152502_4_wb.hdf5\n",
            "12535/12535 [==============================] - 25s 2ms/sample - loss: 0.3738 - acc: 0.8333 - val_loss: 0.3534 - val_acc: 0.8472\n",
            "Epoch 6/15\n",
            "12525/12535 [============================>.] - ETA: 0s - loss: 0.2936 - acc: 0.8800\n",
            "Epoch 00006: val_loss improved from 0.35338 to 0.28619, saving model to model_nadd_241624152502_4_wb.hdf5\n",
            "12535/12535 [==============================] - 25s 2ms/sample - loss: 0.2935 - acc: 0.8801 - val_loss: 0.2862 - val_acc: 0.8823\n",
            "Epoch 7/15\n",
            "12525/12535 [============================>.] - ETA: 0s - loss: 0.2542 - acc: 0.8978\n",
            "Epoch 00007: val_loss improved from 0.28619 to 0.26448, saving model to model_nadd_241624152502_4_wb.hdf5\n",
            "12535/12535 [==============================] - 25s 2ms/sample - loss: 0.2541 - acc: 0.8978 - val_loss: 0.2645 - val_acc: 0.8937\n",
            "Epoch 8/15\n",
            "12525/12535 [============================>.] - ETA: 0s - loss: 0.2302 - acc: 0.9096\n",
            "Epoch 00008: val_loss did not improve from 0.26448\n",
            "12535/12535 [==============================] - 25s 2ms/sample - loss: 0.2302 - acc: 0.9096 - val_loss: 0.3243 - val_acc: 0.8615\n",
            "Epoch 9/15\n",
            "12525/12535 [============================>.] - ETA: 0s - loss: 0.2087 - acc: 0.9170\n",
            "Epoch 00009: val_loss improved from 0.26448 to 0.24864, saving model to model_nadd_241624152502_4_wb.hdf5\n",
            "12535/12535 [==============================] - 25s 2ms/sample - loss: 0.2087 - acc: 0.9170 - val_loss: 0.2486 - val_acc: 0.9001\n",
            "Epoch 10/15\n",
            "12525/12535 [============================>.] - ETA: 0s - loss: 0.1879 - acc: 0.9286\n",
            "Epoch 00010: val_loss did not improve from 0.24864\n",
            "12535/12535 [==============================] - 25s 2ms/sample - loss: 0.1877 - acc: 0.9287 - val_loss: 0.2604 - val_acc: 0.8966\n",
            "Epoch 11/15\n",
            "12525/12535 [============================>.] - ETA: 0s - loss: 0.1691 - acc: 0.9357\n",
            "Epoch 00011: val_loss did not improve from 0.24864\n",
            "12535/12535 [==============================] - 25s 2ms/sample - loss: 0.1691 - acc: 0.9357 - val_loss: 0.2760 - val_acc: 0.8973\n",
            "Epoch 12/15\n",
            "12525/12535 [============================>.] - ETA: 0s - loss: 0.1577 - acc: 0.9380\n",
            "Epoch 00012: val_loss did not improve from 0.24864\n",
            "12535/12535 [==============================] - 25s 2ms/sample - loss: 0.1581 - acc: 0.9380 - val_loss: 0.2825 - val_acc: 0.8941\n",
            "Epoch 13/15\n",
            "12525/12535 [============================>.] - ETA: 0s - loss: 0.1489 - acc: 0.9437\n",
            "Epoch 00013: val_loss did not improve from 0.24864\n",
            "12535/12535 [==============================] - 25s 2ms/sample - loss: 0.1488 - acc: 0.9437 - val_loss: 0.2572 - val_acc: 0.9075\n",
            "Epoch 14/15\n",
            "12525/12535 [============================>.] - ETA: 0s - loss: 0.1381 - acc: 0.9463\n",
            "Epoch 00014: val_loss did not improve from 0.24864\n",
            "12535/12535 [==============================] - 25s 2ms/sample - loss: 0.1380 - acc: 0.9463 - val_loss: 0.2634 - val_acc: 0.9071\n",
            "Epoch 15/15\n",
            "12525/12535 [============================>.] - ETA: 0s - loss: 0.1250 - acc: 0.9519\n",
            "Epoch 00015: val_loss did not improve from 0.24864\n",
            "12535/12535 [==============================] - 24s 2ms/sample - loss: 0.1249 - acc: 0.9520 - val_loss: 0.2741 - val_acc: 0.9004\n",
            "-----------------\n",
            "Round 4 finished!\n",
            "-----------------\n",
            "-----------------\n",
            "Starting round 5.\n",
            "-----------------\n",
            "Train on 12535 samples, validate on 3134 samples\n",
            "Epoch 1/15\n",
            "12525/12535 [============================>.] - ETA: 0s - loss: 0.5246 - acc: 0.7154\n",
            "Epoch 00001: val_loss improved from inf to 0.50761, saving model to model_nadd_241624152502_5_wb.hdf5\n",
            "12535/12535 [==============================] - 25s 2ms/sample - loss: 0.5245 - acc: 0.7154 - val_loss: 0.5076 - val_acc: 0.7294\n",
            "Epoch 2/15\n",
            "12525/12535 [============================>.] - ETA: 0s - loss: 0.4921 - acc: 0.7360\n",
            "Epoch 00002: val_loss improved from 0.50761 to 0.50095, saving model to model_nadd_241624152502_5_wb.hdf5\n",
            "12535/12535 [==============================] - 25s 2ms/sample - loss: 0.4921 - acc: 0.7360 - val_loss: 0.5009 - val_acc: 0.7313\n",
            "Epoch 3/15\n",
            "12525/12535 [============================>.] - ETA: 0s - loss: 0.4726 - acc: 0.7504\n",
            "Epoch 00003: val_loss improved from 0.50095 to 0.43784, saving model to model_nadd_241624152502_5_wb.hdf5\n",
            "12535/12535 [==============================] - 25s 2ms/sample - loss: 0.4726 - acc: 0.7504 - val_loss: 0.4378 - val_acc: 0.7897\n",
            "Epoch 4/15\n",
            "12525/12535 [============================>.] - ETA: 0s - loss: 0.3889 - acc: 0.8235\n",
            "Epoch 00004: val_loss improved from 0.43784 to 0.34445, saving model to model_nadd_241624152502_5_wb.hdf5\n",
            "12535/12535 [==============================] - 25s 2ms/sample - loss: 0.3887 - acc: 0.8235 - val_loss: 0.3444 - val_acc: 0.8513\n",
            "Epoch 5/15\n",
            "12525/12535 [============================>.] - ETA: 0s - loss: 0.3156 - acc: 0.8635\n",
            "Epoch 00005: val_loss improved from 0.34445 to 0.31709, saving model to model_nadd_241624152502_5_wb.hdf5\n",
            "12535/12535 [==============================] - 25s 2ms/sample - loss: 0.3160 - acc: 0.8633 - val_loss: 0.3171 - val_acc: 0.8679\n",
            "Epoch 6/15\n",
            "12525/12535 [============================>.] - ETA: 0s - loss: 0.2779 - acc: 0.8838\n",
            "Epoch 00006: val_loss improved from 0.31709 to 0.27543, saving model to model_nadd_241624152502_5_wb.hdf5\n",
            "12535/12535 [==============================] - 24s 2ms/sample - loss: 0.2778 - acc: 0.8838 - val_loss: 0.2754 - val_acc: 0.8851\n",
            "Epoch 7/15\n",
            "12500/12535 [============================>.] - ETA: 0s - loss: 0.2573 - acc: 0.8926\n",
            "Epoch 00007: val_loss did not improve from 0.27543\n",
            "12535/12535 [==============================] - 24s 2ms/sample - loss: 0.2569 - acc: 0.8929 - val_loss: 0.3049 - val_acc: 0.8752\n",
            "Epoch 8/15\n",
            "12500/12535 [============================>.] - ETA: 0s - loss: 0.2337 - acc: 0.9058\n",
            "Epoch 00008: val_loss improved from 0.27543 to 0.25523, saving model to model_nadd_241624152502_5_wb.hdf5\n",
            "12535/12535 [==============================] - 25s 2ms/sample - loss: 0.2335 - acc: 0.9059 - val_loss: 0.2552 - val_acc: 0.8963\n",
            "Epoch 9/15\n",
            "12525/12535 [============================>.] - ETA: 0s - loss: 0.2157 - acc: 0.9128\n",
            "Epoch 00009: val_loss improved from 0.25523 to 0.24161, saving model to model_nadd_241624152502_5_wb.hdf5\n",
            "12535/12535 [==============================] - 25s 2ms/sample - loss: 0.2157 - acc: 0.9127 - val_loss: 0.2416 - val_acc: 0.8995\n",
            "Epoch 10/15\n",
            "12500/12535 [============================>.] - ETA: 0s - loss: 0.1936 - acc: 0.9222\n",
            "Epoch 00010: val_loss did not improve from 0.24161\n",
            "12535/12535 [==============================] - 25s 2ms/sample - loss: 0.1938 - acc: 0.9221 - val_loss: 0.2563 - val_acc: 0.9004\n",
            "Epoch 11/15\n",
            "12525/12535 [============================>.] - ETA: 0s - loss: 0.1890 - acc: 0.9255\n",
            "Epoch 00011: val_loss did not improve from 0.24161\n",
            "12535/12535 [==============================] - 25s 2ms/sample - loss: 0.1891 - acc: 0.9255 - val_loss: 0.2687 - val_acc: 0.8861\n",
            "Epoch 12/15\n",
            "12525/12535 [============================>.] - ETA: 0s - loss: 0.1850 - acc: 0.9283\n",
            "Epoch 00012: val_loss did not improve from 0.24161\n",
            "12535/12535 [==============================] - 25s 2ms/sample - loss: 0.1849 - acc: 0.9284 - val_loss: 0.2718 - val_acc: 0.8922\n",
            "Epoch 13/15\n",
            "12500/12535 [============================>.] - ETA: 0s - loss: 0.1641 - acc: 0.9367\n",
            "Epoch 00013: val_loss improved from 0.24161 to 0.24054, saving model to model_nadd_241624152502_5_wb.hdf5\n",
            "12535/12535 [==============================] - 25s 2ms/sample - loss: 0.1646 - acc: 0.9364 - val_loss: 0.2405 - val_acc: 0.9091\n",
            "Epoch 14/15\n",
            "12525/12535 [============================>.] - ETA: 0s - loss: 0.1559 - acc: 0.9390\n",
            "Epoch 00014: val_loss did not improve from 0.24054\n",
            "12535/12535 [==============================] - 25s 2ms/sample - loss: 0.1559 - acc: 0.9391 - val_loss: 0.2474 - val_acc: 0.9087\n",
            "Epoch 15/15\n",
            "12525/12535 [============================>.] - ETA: 0s - loss: 0.1583 - acc: 0.9407\n",
            "Epoch 00015: val_loss did not improve from 0.24054\n",
            "12535/12535 [==============================] - 25s 2ms/sample - loss: 0.1583 - acc: 0.9407 - val_loss: 0.2498 - val_acc: 0.9008\n",
            "-----------------\n",
            "Round 5 finished!\n",
            "-----------------\n",
            "-----------------\n",
            "Starting round 6.\n",
            "-----------------\n",
            "Train on 12535 samples, validate on 3134 samples\n",
            "Epoch 1/15\n",
            "12525/12535 [============================>.] - ETA: 0s - loss: 0.5327 - acc: 0.7100\n",
            "Epoch 00001: val_loss improved from inf to 0.50257, saving model to model_nadd_241624152502_6_wb.hdf5\n",
            "12535/12535 [==============================] - 25s 2ms/sample - loss: 0.5325 - acc: 0.7102 - val_loss: 0.5026 - val_acc: 0.7320\n",
            "Epoch 2/15\n",
            "12525/12535 [============================>.] - ETA: 0s - loss: 0.4921 - acc: 0.7376\n",
            "Epoch 00002: val_loss did not improve from 0.50257\n",
            "12535/12535 [==============================] - 25s 2ms/sample - loss: 0.4919 - acc: 0.7378 - val_loss: 0.5057 - val_acc: 0.7323\n",
            "Epoch 3/15\n",
            "12500/12535 [============================>.] - ETA: 0s - loss: 0.4869 - acc: 0.7378\n",
            "Epoch 00003: val_loss did not improve from 0.50257\n",
            "12535/12535 [==============================] - 25s 2ms/sample - loss: 0.4871 - acc: 0.7381 - val_loss: 0.5062 - val_acc: 0.7361\n",
            "Epoch 4/15\n",
            "12525/12535 [============================>.] - ETA: 0s - loss: 0.4808 - acc: 0.7440\n",
            "Epoch 00004: val_loss improved from 0.50257 to 0.49691, saving model to model_nadd_241624152502_6_wb.hdf5\n",
            "12535/12535 [==============================] - 25s 2ms/sample - loss: 0.4809 - acc: 0.7438 - val_loss: 0.4969 - val_acc: 0.7390\n",
            "Epoch 5/15\n",
            "12525/12535 [============================>.] - ETA: 0s - loss: 0.4752 - acc: 0.7451\n",
            "Epoch 00005: val_loss improved from 0.49691 to 0.48920, saving model to model_nadd_241624152502_6_wb.hdf5\n",
            "12535/12535 [==============================] - 25s 2ms/sample - loss: 0.4753 - acc: 0.7451 - val_loss: 0.4892 - val_acc: 0.7399\n",
            "Epoch 6/15\n",
            "12525/12535 [============================>.] - ETA: 0s - loss: 0.4673 - acc: 0.7452\n",
            "Epoch 00006: val_loss improved from 0.48920 to 0.47978, saving model to model_nadd_241624152502_6_wb.hdf5\n",
            "12535/12535 [==============================] - 25s 2ms/sample - loss: 0.4676 - acc: 0.7449 - val_loss: 0.4798 - val_acc: 0.7409\n",
            "Epoch 7/15\n",
            "12525/12535 [============================>.] - ETA: 0s - loss: 0.4215 - acc: 0.7868\n",
            "Epoch 00007: val_loss improved from 0.47978 to 0.37515, saving model to model_nadd_241624152502_6_wb.hdf5\n",
            "12535/12535 [==============================] - 25s 2ms/sample - loss: 0.4213 - acc: 0.7870 - val_loss: 0.3752 - val_acc: 0.8264\n",
            "Epoch 8/15\n",
            "12525/12535 [============================>.] - ETA: 0s - loss: 0.3219 - acc: 0.8586\n",
            "Epoch 00008: val_loss improved from 0.37515 to 0.29223, saving model to model_nadd_241624152502_6_wb.hdf5\n",
            "12535/12535 [==============================] - 25s 2ms/sample - loss: 0.3220 - acc: 0.8586 - val_loss: 0.2922 - val_acc: 0.8762\n",
            "Epoch 9/15\n",
            "12500/12535 [============================>.] - ETA: 0s - loss: 0.2749 - acc: 0.8815\n",
            "Epoch 00009: val_loss improved from 0.29223 to 0.27424, saving model to model_nadd_241624152502_6_wb.hdf5\n",
            "12535/12535 [==============================] - 25s 2ms/sample - loss: 0.2748 - acc: 0.8815 - val_loss: 0.2742 - val_acc: 0.8797\n",
            "Epoch 10/15\n",
            "12525/12535 [============================>.] - ETA: 0s - loss: 0.2375 - acc: 0.9004\n",
            "Epoch 00010: val_loss improved from 0.27424 to 0.26768, saving model to model_nadd_241624152502_6_wb.hdf5\n",
            "12535/12535 [==============================] - 25s 2ms/sample - loss: 0.2375 - acc: 0.9004 - val_loss: 0.2677 - val_acc: 0.8893\n",
            "Epoch 11/15\n",
            "12500/12535 [============================>.] - ETA: 0s - loss: 0.2190 - acc: 0.9094\n",
            "Epoch 00011: val_loss did not improve from 0.26768\n",
            "12535/12535 [==============================] - 25s 2ms/sample - loss: 0.2190 - acc: 0.9094 - val_loss: 0.3508 - val_acc: 0.8523\n",
            "Epoch 12/15\n",
            "12500/12535 [============================>.] - ETA: 0s - loss: 0.2057 - acc: 0.9162\n",
            "Epoch 00012: val_loss improved from 0.26768 to 0.24454, saving model to model_nadd_241624152502_6_wb.hdf5\n",
            "12535/12535 [==============================] - 25s 2ms/sample - loss: 0.2055 - acc: 0.9163 - val_loss: 0.2445 - val_acc: 0.8985\n",
            "Epoch 13/15\n",
            "12525/12535 [============================>.] - ETA: 0s - loss: 0.1810 - acc: 0.9281\n",
            "Epoch 00013: val_loss improved from 0.24454 to 0.24186, saving model to model_nadd_241624152502_6_wb.hdf5\n",
            "12535/12535 [==============================] - 25s 2ms/sample - loss: 0.1809 - acc: 0.9281 - val_loss: 0.2419 - val_acc: 0.9014\n",
            "Epoch 14/15\n",
            "12500/12535 [============================>.] - ETA: 0s - loss: 0.1668 - acc: 0.9358\n",
            "Epoch 00014: val_loss did not improve from 0.24186\n",
            "12535/12535 [==============================] - 25s 2ms/sample - loss: 0.1666 - acc: 0.9359 - val_loss: 0.2742 - val_acc: 0.8931\n",
            "Epoch 15/15\n",
            "12525/12535 [============================>.] - ETA: 0s - loss: 0.1487 - acc: 0.9433\n",
            "Epoch 00015: val_loss did not improve from 0.24186\n",
            "12535/12535 [==============================] - 25s 2ms/sample - loss: 0.1486 - acc: 0.9434 - val_loss: 0.2751 - val_acc: 0.8969\n",
            "-----------------\n",
            "Round 6 finished!\n",
            "-----------------\n",
            "-----------------\n",
            "Starting round 7.\n",
            "-----------------\n",
            "Train on 12535 samples, validate on 3134 samples\n",
            "Epoch 1/15\n",
            "12525/12535 [============================>.] - ETA: 0s - loss: 0.5422 - acc: 0.7063\n",
            "Epoch 00001: val_loss improved from inf to 0.50813, saving model to model_nadd_241624152502_7_wb.hdf5\n",
            "12535/12535 [==============================] - 26s 2ms/sample - loss: 0.5422 - acc: 0.7062 - val_loss: 0.5081 - val_acc: 0.7358\n",
            "Epoch 2/15\n",
            "12500/12535 [============================>.] - ETA: 0s - loss: 0.4947 - acc: 0.7368\n",
            "Epoch 00002: val_loss improved from 0.50813 to 0.50444, saving model to model_nadd_241624152502_7_wb.hdf5\n",
            "12535/12535 [==============================] - 25s 2ms/sample - loss: 0.4943 - acc: 0.7371 - val_loss: 0.5044 - val_acc: 0.7374\n",
            "Epoch 3/15\n",
            "12500/12535 [============================>.] - ETA: 0s - loss: 0.4868 - acc: 0.7430\n",
            "Epoch 00003: val_loss improved from 0.50444 to 0.49796, saving model to model_nadd_241624152502_7_wb.hdf5\n",
            "12535/12535 [==============================] - 25s 2ms/sample - loss: 0.4867 - acc: 0.7432 - val_loss: 0.4980 - val_acc: 0.7403\n",
            "Epoch 4/15\n",
            "12500/12535 [============================>.] - ETA: 0s - loss: 0.4750 - acc: 0.7520\n",
            "Epoch 00004: val_loss improved from 0.49796 to 0.47780, saving model to model_nadd_241624152502_7_wb.hdf5\n",
            "12535/12535 [==============================] - 25s 2ms/sample - loss: 0.4749 - acc: 0.7521 - val_loss: 0.4778 - val_acc: 0.7479\n",
            "Epoch 5/15\n",
            "12500/12535 [============================>.] - ETA: 0s - loss: 0.4153 - acc: 0.7986\n",
            "Epoch 00005: val_loss improved from 0.47780 to 0.38294, saving model to model_nadd_241624152502_7_wb.hdf5\n",
            "12535/12535 [==============================] - 25s 2ms/sample - loss: 0.4147 - acc: 0.7989 - val_loss: 0.3829 - val_acc: 0.8267\n",
            "Epoch 6/15\n",
            "12525/12535 [============================>.] - ETA: 0s - loss: 0.3250 - acc: 0.8620\n",
            "Epoch 00006: val_loss improved from 0.38294 to 0.31493, saving model to model_nadd_241624152502_7_wb.hdf5\n",
            "12535/12535 [==============================] - 25s 2ms/sample - loss: 0.3250 - acc: 0.8619 - val_loss: 0.3149 - val_acc: 0.8660\n",
            "Epoch 7/15\n",
            "12525/12535 [============================>.] - ETA: 0s - loss: 0.2768 - acc: 0.8864\n",
            "Epoch 00007: val_loss improved from 0.31493 to 0.28916, saving model to model_nadd_241624152502_7_wb.hdf5\n",
            "12535/12535 [==============================] - 25s 2ms/sample - loss: 0.2767 - acc: 0.8864 - val_loss: 0.2892 - val_acc: 0.8826\n",
            "Epoch 8/15\n",
            "12525/12535 [============================>.] - ETA: 0s - loss: 0.2508 - acc: 0.8973\n",
            "Epoch 00008: val_loss improved from 0.28916 to 0.27306, saving model to model_nadd_241624152502_7_wb.hdf5\n",
            "12535/12535 [==============================] - 25s 2ms/sample - loss: 0.2508 - acc: 0.8973 - val_loss: 0.2731 - val_acc: 0.8867\n",
            "Epoch 9/15\n",
            "12525/12535 [============================>.] - ETA: 0s - loss: 0.2315 - acc: 0.9063\n",
            "Epoch 00009: val_loss did not improve from 0.27306\n",
            "12535/12535 [==============================] - 25s 2ms/sample - loss: 0.2314 - acc: 0.9064 - val_loss: 0.2976 - val_acc: 0.8791\n",
            "Epoch 10/15\n",
            "12525/12535 [============================>.] - ETA: 0s - loss: 0.2165 - acc: 0.9139\n",
            "Epoch 00010: val_loss improved from 0.27306 to 0.24791, saving model to model_nadd_241624152502_7_wb.hdf5\n",
            "12535/12535 [==============================] - 25s 2ms/sample - loss: 0.2165 - acc: 0.9138 - val_loss: 0.2479 - val_acc: 0.9001\n",
            "Epoch 11/15\n",
            "12500/12535 [============================>.] - ETA: 0s - loss: 0.2057 - acc: 0.9183\n",
            "Epoch 00011: val_loss did not improve from 0.24791\n",
            "12535/12535 [==============================] - 25s 2ms/sample - loss: 0.2055 - acc: 0.9184 - val_loss: 0.2503 - val_acc: 0.8992\n",
            "Epoch 12/15\n",
            "12500/12535 [============================>.] - ETA: 0s - loss: 0.1870 - acc: 0.9266\n",
            "Epoch 00012: val_loss improved from 0.24791 to 0.24570, saving model to model_nadd_241624152502_7_wb.hdf5\n",
            "12535/12535 [==============================] - 25s 2ms/sample - loss: 0.1867 - acc: 0.9267 - val_loss: 0.2457 - val_acc: 0.9017\n",
            "Epoch 13/15\n",
            "12500/12535 [============================>.] - ETA: 0s - loss: 0.1767 - acc: 0.9316\n",
            "Epoch 00013: val_loss did not improve from 0.24570\n",
            "12535/12535 [==============================] - 25s 2ms/sample - loss: 0.1768 - acc: 0.9316 - val_loss: 0.2697 - val_acc: 0.8969\n",
            "Epoch 14/15\n",
            "12500/12535 [============================>.] - ETA: 0s - loss: 0.1609 - acc: 0.9367\n",
            "Epoch 00014: val_loss did not improve from 0.24570\n",
            "12535/12535 [==============================] - 25s 2ms/sample - loss: 0.1608 - acc: 0.9367 - val_loss: 0.2849 - val_acc: 0.8941\n",
            "Epoch 15/15\n",
            "12525/12535 [============================>.] - ETA: 0s - loss: 0.1518 - acc: 0.9434\n",
            "Epoch 00015: val_loss did not improve from 0.24570\n",
            "12535/12535 [==============================] - 25s 2ms/sample - loss: 0.1519 - acc: 0.9434 - val_loss: 0.2715 - val_acc: 0.8998\n",
            "-----------------\n",
            "Round 7 finished!\n",
            "-----------------\n",
            "-----------------\n",
            "Starting round 8.\n",
            "-----------------\n",
            "Train on 12535 samples, validate on 3134 samples\n",
            "Epoch 1/15\n",
            "12525/12535 [============================>.] - ETA: 0s - loss: 0.5232 - acc: 0.7170\n",
            "Epoch 00001: val_loss improved from inf to 0.53282, saving model to model_nadd_241624152502_8_wb.hdf5\n",
            "12535/12535 [==============================] - 26s 2ms/sample - loss: 0.5232 - acc: 0.7170 - val_loss: 0.5328 - val_acc: 0.7186\n",
            "Epoch 2/15\n",
            "12500/12535 [============================>.] - ETA: 0s - loss: 0.4934 - acc: 0.7376\n",
            "Epoch 00002: val_loss improved from 0.53282 to 0.49874, saving model to model_nadd_241624152502_8_wb.hdf5\n",
            "12535/12535 [==============================] - 25s 2ms/sample - loss: 0.4930 - acc: 0.7376 - val_loss: 0.4987 - val_acc: 0.7361\n",
            "Epoch 3/15\n",
            "12525/12535 [============================>.] - ETA: 0s - loss: 0.4702 - acc: 0.7574\n",
            "Epoch 00003: val_loss did not improve from 0.49874\n",
            "12535/12535 [==============================] - 25s 2ms/sample - loss: 0.4701 - acc: 0.7576 - val_loss: 0.6251 - val_acc: 0.6745\n",
            "Epoch 4/15\n",
            "12500/12535 [============================>.] - ETA: 0s - loss: 0.3983 - acc: 0.8122\n",
            "Epoch 00004: val_loss improved from 0.49874 to 0.38115, saving model to model_nadd_241624152502_8_wb.hdf5\n",
            "12535/12535 [==============================] - 25s 2ms/sample - loss: 0.3985 - acc: 0.8120 - val_loss: 0.3812 - val_acc: 0.8274\n",
            "Epoch 5/15\n",
            "12500/12535 [============================>.] - ETA: 0s - loss: 0.3513 - acc: 0.8435\n",
            "Epoch 00005: val_loss improved from 0.38115 to 0.34621, saving model to model_nadd_241624152502_8_wb.hdf5\n",
            "12535/12535 [==============================] - 25s 2ms/sample - loss: 0.3514 - acc: 0.8435 - val_loss: 0.3462 - val_acc: 0.8519\n",
            "Epoch 6/15\n",
            "12500/12535 [============================>.] - ETA: 0s - loss: 0.3138 - acc: 0.8601\n",
            "Epoch 00006: val_loss improved from 0.34621 to 0.30933, saving model to model_nadd_241624152502_8_wb.hdf5\n",
            "12535/12535 [==============================] - 25s 2ms/sample - loss: 0.3136 - acc: 0.8601 - val_loss: 0.3093 - val_acc: 0.8685\n",
            "Epoch 7/15\n",
            "12500/12535 [============================>.] - ETA: 0s - loss: 0.2829 - acc: 0.8790\n",
            "Epoch 00007: val_loss improved from 0.30933 to 0.30553, saving model to model_nadd_241624152502_8_wb.hdf5\n",
            "12535/12535 [==============================] - 25s 2ms/sample - loss: 0.2827 - acc: 0.8791 - val_loss: 0.3055 - val_acc: 0.8752\n",
            "Epoch 8/15\n",
            "12525/12535 [============================>.] - ETA: 0s - loss: 0.2500 - acc: 0.8948\n",
            "Epoch 00008: val_loss improved from 0.30553 to 0.27191, saving model to model_nadd_241624152502_8_wb.hdf5\n",
            "12535/12535 [==============================] - 26s 2ms/sample - loss: 0.2499 - acc: 0.8948 - val_loss: 0.2719 - val_acc: 0.8909\n",
            "Epoch 9/15\n",
            "12525/12535 [============================>.] - ETA: 0s - loss: 0.2418 - acc: 0.8999\n",
            "Epoch 00009: val_loss did not improve from 0.27191\n",
            "12535/12535 [==============================] - 25s 2ms/sample - loss: 0.2419 - acc: 0.8998 - val_loss: 0.3115 - val_acc: 0.8679\n",
            "Epoch 10/15\n",
            "12500/12535 [============================>.] - ETA: 0s - loss: 0.2170 - acc: 0.9101\n",
            "Epoch 00010: val_loss did not improve from 0.27191\n",
            "12535/12535 [==============================] - 26s 2ms/sample - loss: 0.2170 - acc: 0.9100 - val_loss: 0.3299 - val_acc: 0.8622\n",
            "Epoch 11/15\n",
            "12500/12535 [============================>.] - ETA: 0s - loss: 0.1943 - acc: 0.9213\n",
            "Epoch 00011: val_loss improved from 0.27191 to 0.24540, saving model to model_nadd_241624152502_8_wb.hdf5\n",
            "12535/12535 [==============================] - 25s 2ms/sample - loss: 0.1945 - acc: 0.9210 - val_loss: 0.2454 - val_acc: 0.9017\n",
            "Epoch 12/15\n",
            "12500/12535 [============================>.] - ETA: 0s - loss: 0.1955 - acc: 0.9218\n",
            "Epoch 00012: val_loss improved from 0.24540 to 0.23617, saving model to model_nadd_241624152502_8_wb.hdf5\n",
            "12535/12535 [==============================] - 25s 2ms/sample - loss: 0.1951 - acc: 0.9220 - val_loss: 0.2362 - val_acc: 0.9081\n",
            "Epoch 13/15\n",
            "12500/12535 [============================>.] - ETA: 0s - loss: 0.1707 - acc: 0.9315\n",
            "Epoch 00013: val_loss did not improve from 0.23617\n",
            "12535/12535 [==============================] - 25s 2ms/sample - loss: 0.1706 - acc: 0.9316 - val_loss: 0.3058 - val_acc: 0.8759\n",
            "Epoch 14/15\n",
            "12525/12535 [============================>.] - ETA: 0s - loss: 0.1603 - acc: 0.9373\n",
            "Epoch 00014: val_loss improved from 0.23617 to 0.23437, saving model to model_nadd_241624152502_8_wb.hdf5\n",
            "12535/12535 [==============================] - 25s 2ms/sample - loss: 0.1603 - acc: 0.9374 - val_loss: 0.2344 - val_acc: 0.9052\n",
            "Epoch 15/15\n",
            "12525/12535 [============================>.] - ETA: 0s - loss: 0.1428 - acc: 0.9436\n",
            "Epoch 00015: val_loss did not improve from 0.23437\n",
            "12535/12535 [==============================] - 25s 2ms/sample - loss: 0.1428 - acc: 0.9436 - val_loss: 0.2687 - val_acc: 0.8979\n",
            "-----------------\n",
            "Round 8 finished!\n",
            "-----------------\n",
            "-----------------\n",
            "Starting round 9.\n",
            "-----------------\n",
            "Train on 12535 samples, validate on 3134 samples\n",
            "Epoch 1/15\n",
            "12525/12535 [============================>.] - ETA: 0s - loss: 0.5209 - acc: 0.7123\n",
            "Epoch 00001: val_loss improved from inf to 0.50186, saving model to model_nadd_241624152502_9_wb.hdf5\n",
            "12535/12535 [==============================] - 27s 2ms/sample - loss: 0.5208 - acc: 0.7125 - val_loss: 0.5019 - val_acc: 0.7339\n",
            "Epoch 2/15\n",
            "12525/12535 [============================>.] - ETA: 0s - loss: 0.4925 - acc: 0.7353\n",
            "Epoch 00002: val_loss improved from 0.50186 to 0.50067, saving model to model_nadd_241624152502_9_wb.hdf5\n",
            "12535/12535 [==============================] - 26s 2ms/sample - loss: 0.4927 - acc: 0.7352 - val_loss: 0.5007 - val_acc: 0.7342\n",
            "Epoch 3/15\n",
            "12525/12535 [============================>.] - ETA: 0s - loss: 0.4845 - acc: 0.7424\n",
            "Epoch 00003: val_loss improved from 0.50067 to 0.49946, saving model to model_nadd_241624152502_9_wb.hdf5\n",
            "12535/12535 [==============================] - 26s 2ms/sample - loss: 0.4845 - acc: 0.7424 - val_loss: 0.4995 - val_acc: 0.7269\n",
            "Epoch 4/15\n",
            "12500/12535 [============================>.] - ETA: 0s - loss: 0.4235 - acc: 0.7947\n",
            "Epoch 00004: val_loss improved from 0.49946 to 0.39807, saving model to model_nadd_241624152502_9_wb.hdf5\n",
            "12535/12535 [==============================] - 25s 2ms/sample - loss: 0.4231 - acc: 0.7951 - val_loss: 0.3981 - val_acc: 0.8108\n",
            "Epoch 5/15\n",
            "12525/12535 [============================>.] - ETA: 0s - loss: 0.3669 - acc: 0.8340\n",
            "Epoch 00005: val_loss improved from 0.39807 to 0.37870, saving model to model_nadd_241624152502_9_wb.hdf5\n",
            "12535/12535 [==============================] - 25s 2ms/sample - loss: 0.3668 - acc: 0.8341 - val_loss: 0.3787 - val_acc: 0.8226\n",
            "Epoch 6/15\n",
            "12525/12535 [============================>.] - ETA: 0s - loss: 0.3315 - acc: 0.8530\n",
            "Epoch 00006: val_loss did not improve from 0.37870\n",
            "12535/12535 [==============================] - 25s 2ms/sample - loss: 0.3318 - acc: 0.8530 - val_loss: 0.3790 - val_acc: 0.8264\n",
            "Epoch 7/15\n",
            "12525/12535 [============================>.] - ETA: 0s - loss: 0.3182 - acc: 0.8634\n",
            "Epoch 00007: val_loss improved from 0.37870 to 0.32003, saving model to model_nadd_241624152502_9_wb.hdf5\n",
            "12535/12535 [==============================] - 25s 2ms/sample - loss: 0.3183 - acc: 0.8634 - val_loss: 0.3200 - val_acc: 0.8609\n",
            "Epoch 8/15\n",
            "12500/12535 [============================>.] - ETA: 0s - loss: 0.2908 - acc: 0.8747\n",
            "Epoch 00008: val_loss did not improve from 0.32003\n",
            "12535/12535 [==============================] - 25s 2ms/sample - loss: 0.2910 - acc: 0.8747 - val_loss: 0.3209 - val_acc: 0.8660\n",
            "Epoch 9/15\n",
            "12500/12535 [============================>.] - ETA: 0s - loss: 0.2733 - acc: 0.8830\n",
            "Epoch 00009: val_loss improved from 0.32003 to 0.29329, saving model to model_nadd_241624152502_9_wb.hdf5\n",
            "12535/12535 [==============================] - 25s 2ms/sample - loss: 0.2732 - acc: 0.8832 - val_loss: 0.2933 - val_acc: 0.8791\n",
            "Epoch 10/15\n",
            "12500/12535 [============================>.] - ETA: 0s - loss: 0.2402 - acc: 0.9000\n",
            "Epoch 00010: val_loss improved from 0.29329 to 0.26745, saving model to model_nadd_241624152502_9_wb.hdf5\n",
            "12535/12535 [==============================] - 26s 2ms/sample - loss: 0.2403 - acc: 0.8999 - val_loss: 0.2675 - val_acc: 0.8902\n",
            "Epoch 11/15\n",
            "12525/12535 [============================>.] - ETA: 0s - loss: 0.2274 - acc: 0.9040\n",
            "Epoch 00011: val_loss did not improve from 0.26745\n",
            "12535/12535 [==============================] - 26s 2ms/sample - loss: 0.2277 - acc: 0.9039 - val_loss: 0.2694 - val_acc: 0.8934\n",
            "Epoch 12/15\n",
            "12500/12535 [============================>.] - ETA: 0s - loss: 0.2105 - acc: 0.9130\n",
            "Epoch 00012: val_loss improved from 0.26745 to 0.25317, saving model to model_nadd_241624152502_9_wb.hdf5\n",
            "12535/12535 [==============================] - 26s 2ms/sample - loss: 0.2107 - acc: 0.9130 - val_loss: 0.2532 - val_acc: 0.8969\n",
            "Epoch 13/15\n",
            "12525/12535 [============================>.] - ETA: 0s - loss: 0.1981 - acc: 0.9170\n",
            "Epoch 00013: val_loss did not improve from 0.25317\n",
            "12535/12535 [==============================] - 26s 2ms/sample - loss: 0.1981 - acc: 0.9171 - val_loss: 0.2823 - val_acc: 0.8851\n",
            "Epoch 14/15\n",
            "12500/12535 [============================>.] - ETA: 0s - loss: 0.1807 - acc: 0.9254\n",
            "Epoch 00014: val_loss improved from 0.25317 to 0.24949, saving model to model_nadd_241624152502_9_wb.hdf5\n",
            "12535/12535 [==============================] - 26s 2ms/sample - loss: 0.1807 - acc: 0.9254 - val_loss: 0.2495 - val_acc: 0.9020\n",
            "Epoch 15/15\n",
            "12500/12535 [============================>.] - ETA: 0s - loss: 0.1703 - acc: 0.9306\n",
            "Epoch 00015: val_loss did not improve from 0.24949\n",
            "12535/12535 [==============================] - 26s 2ms/sample - loss: 0.1702 - acc: 0.9307 - val_loss: 0.2708 - val_acc: 0.8963\n",
            "-----------------\n",
            "Round 9 finished!\n",
            "-----------------\n",
            "-----------------\n",
            "Starting round 10.\n",
            "-----------------\n",
            "Train on 12535 samples, validate on 3134 samples\n",
            "Epoch 1/15\n",
            "12525/12535 [============================>.] - ETA: 0s - loss: 0.5329 - acc: 0.7132\n",
            "Epoch 00001: val_loss improved from inf to 0.50804, saving model to model_nadd_241624152502_10_wb.hdf5\n",
            "12535/12535 [==============================] - 28s 2ms/sample - loss: 0.5329 - acc: 0.7132 - val_loss: 0.5080 - val_acc: 0.7294\n",
            "Epoch 2/15\n",
            "12525/12535 [============================>.] - ETA: 0s - loss: 0.4945 - acc: 0.7353\n",
            "Epoch 00002: val_loss improved from 0.50804 to 0.49991, saving model to model_nadd_241624152502_10_wb.hdf5\n",
            "12535/12535 [==============================] - 27s 2ms/sample - loss: 0.4948 - acc: 0.7352 - val_loss: 0.4999 - val_acc: 0.7301\n",
            "Epoch 3/15\n",
            "12525/12535 [============================>.] - ETA: 0s - loss: 0.4866 - acc: 0.7405\n",
            "Epoch 00003: val_loss did not improve from 0.49991\n",
            "12535/12535 [==============================] - 27s 2ms/sample - loss: 0.4865 - acc: 0.7406 - val_loss: 0.5010 - val_acc: 0.7313\n",
            "Epoch 4/15\n",
            "12500/12535 [============================>.] - ETA: 0s - loss: 0.4230 - acc: 0.7959\n",
            "Epoch 00004: val_loss improved from 0.49991 to 0.38368, saving model to model_nadd_241624152502_10_wb.hdf5\n",
            "12535/12535 [==============================] - 27s 2ms/sample - loss: 0.4226 - acc: 0.7961 - val_loss: 0.3837 - val_acc: 0.8312\n",
            "Epoch 5/15\n",
            "12525/12535 [============================>.] - ETA: 0s - loss: 0.3567 - acc: 0.8429\n",
            "Epoch 00005: val_loss improved from 0.38368 to 0.37096, saving model to model_nadd_241624152502_10_wb.hdf5\n",
            "12535/12535 [==============================] - 26s 2ms/sample - loss: 0.3565 - acc: 0.8429 - val_loss: 0.3710 - val_acc: 0.8366\n",
            "Epoch 6/15\n",
            "12525/12535 [============================>.] - ETA: 0s - loss: 0.3325 - acc: 0.8533\n",
            "Epoch 00006: val_loss did not improve from 0.37096\n",
            "12535/12535 [==============================] - 26s 2ms/sample - loss: 0.3324 - acc: 0.8533 - val_loss: 0.3813 - val_acc: 0.8277\n",
            "Epoch 7/15\n",
            "12525/12535 [============================>.] - ETA: 0s - loss: 0.2950 - acc: 0.8723\n",
            "Epoch 00007: val_loss improved from 0.37096 to 0.33786, saving model to model_nadd_241624152502_10_wb.hdf5\n",
            "12535/12535 [==============================] - 27s 2ms/sample - loss: 0.2950 - acc: 0.8724 - val_loss: 0.3379 - val_acc: 0.8567\n",
            "Epoch 8/15\n",
            "12525/12535 [============================>.] - ETA: 0s - loss: 0.2657 - acc: 0.8920\n",
            "Epoch 00008: val_loss improved from 0.33786 to 0.30943, saving model to model_nadd_241624152502_10_wb.hdf5\n",
            "12535/12535 [==============================] - 26s 2ms/sample - loss: 0.2657 - acc: 0.8920 - val_loss: 0.3094 - val_acc: 0.8689\n",
            "Epoch 9/15\n",
            "12500/12535 [============================>.] - ETA: 0s - loss: 0.2390 - acc: 0.9023\n",
            "Epoch 00009: val_loss improved from 0.30943 to 0.26793, saving model to model_nadd_241624152502_10_wb.hdf5\n",
            "12535/12535 [==============================] - 27s 2ms/sample - loss: 0.2395 - acc: 0.9021 - val_loss: 0.2679 - val_acc: 0.8941\n",
            "Epoch 10/15\n",
            "12525/12535 [============================>.] - ETA: 0s - loss: 0.2189 - acc: 0.9102\n",
            "Epoch 00010: val_loss improved from 0.26793 to 0.25483, saving model to model_nadd_241624152502_10_wb.hdf5\n",
            "12535/12535 [==============================] - 26s 2ms/sample - loss: 0.2190 - acc: 0.9101 - val_loss: 0.2548 - val_acc: 0.8985\n",
            "Epoch 11/15\n",
            "12525/12535 [============================>.] - ETA: 0s - loss: 0.2025 - acc: 0.9190\n",
            "Epoch 00011: val_loss improved from 0.25483 to 0.24961, saving model to model_nadd_241624152502_10_wb.hdf5\n",
            "12535/12535 [==============================] - 26s 2ms/sample - loss: 0.2026 - acc: 0.9190 - val_loss: 0.2496 - val_acc: 0.9020\n",
            "Epoch 12/15\n",
            "12525/12535 [============================>.] - ETA: 0s - loss: 0.1944 - acc: 0.9236\n",
            "Epoch 00012: val_loss did not improve from 0.24961\n",
            "12535/12535 [==============================] - 26s 2ms/sample - loss: 0.1942 - acc: 0.9237 - val_loss: 0.2559 - val_acc: 0.8995\n",
            "Epoch 13/15\n",
            "12500/12535 [============================>.] - ETA: 0s - loss: 0.1786 - acc: 0.9285\n",
            "Epoch 00013: val_loss improved from 0.24961 to 0.24776, saving model to model_nadd_241624152502_10_wb.hdf5\n",
            "12535/12535 [==============================] - 27s 2ms/sample - loss: 0.1790 - acc: 0.9284 - val_loss: 0.2478 - val_acc: 0.8989\n",
            "Epoch 14/15\n",
            "12525/12535 [============================>.] - ETA: 0s - loss: 0.1639 - acc: 0.9372\n",
            "Epoch 00014: val_loss did not improve from 0.24776\n",
            "12535/12535 [==============================] - 26s 2ms/sample - loss: 0.1639 - acc: 0.9372 - val_loss: 0.2823 - val_acc: 0.8969\n",
            "Epoch 15/15\n",
            "12525/12535 [============================>.] - ETA: 0s - loss: 0.1601 - acc: 0.9387\n",
            "Epoch 00015: val_loss did not improve from 0.24776\n",
            "12535/12535 [==============================] - 26s 2ms/sample - loss: 0.1600 - acc: 0.9387 - val_loss: 0.2618 - val_acc: 0.9008\n",
            "-----------------\n",
            "Round 10 finished!\n",
            "-----------------\n",
            "-----------------\n",
            "Starting round 11.\n",
            "-----------------\n",
            "Train on 12535 samples, validate on 3134 samples\n",
            "Epoch 1/15\n",
            "12525/12535 [============================>.] - ETA: 0s - loss: 0.5216 - acc: 0.7178\n",
            "Epoch 00001: val_loss improved from inf to 0.50125, saving model to model_nadd_241624152502_11_wb.hdf5\n",
            "12535/12535 [==============================] - 28s 2ms/sample - loss: 0.5215 - acc: 0.7178 - val_loss: 0.5013 - val_acc: 0.7364\n",
            "Epoch 2/15\n",
            "12500/12535 [============================>.] - ETA: 0s - loss: 0.4889 - acc: 0.7381\n",
            "Epoch 00002: val_loss improved from 0.50125 to 0.49921, saving model to model_nadd_241624152502_11_wb.hdf5\n",
            "12535/12535 [==============================] - 26s 2ms/sample - loss: 0.4893 - acc: 0.7378 - val_loss: 0.4992 - val_acc: 0.7358\n",
            "Epoch 3/15\n",
            "12500/12535 [============================>.] - ETA: 0s - loss: 0.4300 - acc: 0.7878\n",
            "Epoch 00003: val_loss improved from 0.49921 to 0.46001, saving model to model_nadd_241624152502_11_wb.hdf5\n",
            "12535/12535 [==============================] - 26s 2ms/sample - loss: 0.4297 - acc: 0.7881 - val_loss: 0.4600 - val_acc: 0.7731\n",
            "Epoch 4/15\n",
            "12525/12535 [============================>.] - ETA: 0s - loss: 0.3553 - acc: 0.8434\n",
            "Epoch 00004: val_loss improved from 0.46001 to 0.33936, saving model to model_nadd_241624152502_11_wb.hdf5\n",
            "12535/12535 [==============================] - 26s 2ms/sample - loss: 0.3553 - acc: 0.8433 - val_loss: 0.3394 - val_acc: 0.8523\n",
            "Epoch 5/15\n",
            "12500/12535 [============================>.] - ETA: 0s - loss: 0.3007 - acc: 0.8712\n",
            "Epoch 00005: val_loss improved from 0.33936 to 0.33696, saving model to model_nadd_241624152502_11_wb.hdf5\n",
            "12535/12535 [==============================] - 26s 2ms/sample - loss: 0.3008 - acc: 0.8712 - val_loss: 0.3370 - val_acc: 0.8564\n",
            "Epoch 6/15\n",
            "12500/12535 [============================>.] - ETA: 0s - loss: 0.2765 - acc: 0.8818\n",
            "Epoch 00006: val_loss improved from 0.33696 to 0.27658, saving model to model_nadd_241624152502_11_wb.hdf5\n",
            "12535/12535 [==============================] - 26s 2ms/sample - loss: 0.2773 - acc: 0.8814 - val_loss: 0.2766 - val_acc: 0.8896\n",
            "Epoch 7/15\n",
            "12500/12535 [============================>.] - ETA: 0s - loss: 0.2368 - acc: 0.9029\n",
            "Epoch 00007: val_loss improved from 0.27658 to 0.25506, saving model to model_nadd_241624152502_11_wb.hdf5\n",
            "12535/12535 [==============================] - 26s 2ms/sample - loss: 0.2365 - acc: 0.9030 - val_loss: 0.2551 - val_acc: 0.8998\n",
            "Epoch 8/15\n",
            "12500/12535 [============================>.] - ETA: 0s - loss: 0.2213 - acc: 0.9090\n",
            "Epoch 00008: val_loss improved from 0.25506 to 0.24235, saving model to model_nadd_241624152502_11_wb.hdf5\n",
            "12535/12535 [==============================] - 26s 2ms/sample - loss: 0.2214 - acc: 0.9091 - val_loss: 0.2424 - val_acc: 0.9017\n",
            "Epoch 9/15\n",
            "12500/12535 [============================>.] - ETA: 0s - loss: 0.2065 - acc: 0.9170\n",
            "Epoch 00009: val_loss did not improve from 0.24235\n",
            "12535/12535 [==============================] - 26s 2ms/sample - loss: 0.2065 - acc: 0.9170 - val_loss: 0.2674 - val_acc: 0.8877\n",
            "Epoch 10/15\n",
            "12500/12535 [============================>.] - ETA: 0s - loss: 0.1892 - acc: 0.9245\n",
            "Epoch 00010: val_loss improved from 0.24235 to 0.23743, saving model to model_nadd_241624152502_11_wb.hdf5\n",
            "12535/12535 [==============================] - 26s 2ms/sample - loss: 0.1893 - acc: 0.9244 - val_loss: 0.2374 - val_acc: 0.9033\n",
            "Epoch 11/15\n",
            "12525/12535 [============================>.] - ETA: 0s - loss: 0.1727 - acc: 0.9305\n",
            "Epoch 00011: val_loss improved from 0.23743 to 0.22393, saving model to model_nadd_241624152502_11_wb.hdf5\n",
            "12535/12535 [==============================] - 26s 2ms/sample - loss: 0.1727 - acc: 0.9306 - val_loss: 0.2239 - val_acc: 0.9119\n",
            "Epoch 12/15\n",
            "12525/12535 [============================>.] - ETA: 0s - loss: 0.1543 - acc: 0.9392\n",
            "Epoch 00012: val_loss did not improve from 0.22393\n",
            "12535/12535 [==============================] - 26s 2ms/sample - loss: 0.1545 - acc: 0.9391 - val_loss: 0.2469 - val_acc: 0.9027\n",
            "Epoch 13/15\n",
            "12525/12535 [============================>.] - ETA: 0s - loss: 0.1416 - acc: 0.9449\n",
            "Epoch 00013: val_loss did not improve from 0.22393\n",
            "12535/12535 [==============================] - 26s 2ms/sample - loss: 0.1416 - acc: 0.9449 - val_loss: 0.2346 - val_acc: 0.9087\n",
            "Epoch 14/15\n",
            "12525/12535 [============================>.] - ETA: 0s - loss: 0.1319 - acc: 0.9485\n",
            "Epoch 00014: val_loss did not improve from 0.22393\n",
            "12535/12535 [==============================] - 26s 2ms/sample - loss: 0.1319 - acc: 0.9485 - val_loss: 0.2557 - val_acc: 0.9071\n",
            "Epoch 15/15\n",
            "12500/12535 [============================>.] - ETA: 0s - loss: 0.1265 - acc: 0.9515\n",
            "Epoch 00015: val_loss did not improve from 0.22393\n",
            "12535/12535 [==============================] - 26s 2ms/sample - loss: 0.1264 - acc: 0.9516 - val_loss: 0.2506 - val_acc: 0.9036\n",
            "-----------------\n",
            "Round 11 finished!\n",
            "-----------------\n"
          ],
          "name": "stdout"
        }
      ]
    },
    {
      "cell_type": "code",
      "metadata": {
        "id": "VvaSvEAKZv3c"
      },
      "source": [
        "model_var01_05.save(\"/content/drive/My Drive/model_nadd_var01.05.hdf5\")"
      ],
      "execution_count": null,
      "outputs": []
    },
    {
      "cell_type": "code",
      "metadata": {
        "id": "8K5I6aDWYmCF"
      },
      "source": [
        "# Save history binary\n",
        "with open(\"model_nadd_var01_05_saved_history\",\"wb\") as file_pi:\n",
        "  pickle.dump(history_var01_05.history, file_pi)"
      ],
      "execution_count": null,
      "outputs": []
    },
    {
      "cell_type": "code",
      "metadata": {
        "id": "mJeXFjL2Ym1S",
        "colab": {
          "base_uri": "https://localhost:8080/",
          "height": 1000
        },
        "outputId": "2e69a28f-f221-40cf-9e9b-d2e4de99290f"
      },
      "source": [
        "# Plot model\n",
        "tf.keras.utils.plot_model(model_var01_05,\n",
        "                          show_shapes = True,\n",
        "                          show_layer_names = True,\n",
        "                          to_file = 'model_nadd_var01_05.png')"
      ],
      "execution_count": null,
      "outputs": [
        {
          "output_type": "execute_result",
          "data": {
            "image/png": "[encoded data removed]",
            "text/plain": [
              "<IPython.core.display.Image object>"
            ]
          },
          "metadata": {
            "tags": []
          },
          "execution_count": 15
        }
      ]
    },
    {
      "cell_type": "code",
      "metadata": {
        "id": "Q-btjSQW9g8W"
      },
      "source": [
        "# load model\n",
        "mdl_ld = load_model('model_var01.05_N.wb.hdf5')"
      ],
      "execution_count": null,
      "outputs": []
    },
    {
      "cell_type": "markdown",
      "metadata": {
        "id": "Z4CAGjUlc6ep"
      },
      "source": [
        "## LSTM"
      ]
    },
    {
      "cell_type": "code",
      "metadata": {
        "id": "rHpWX5wwc9Xr",
        "colab": {
          "base_uri": "https://localhost:8080/",
          "height": 817
        },
        "outputId": "bc70bebb-7b8b-4006-be3b-0223512c5b47"
      },
      "source": [
        "from keras.layers import Conv1D, MaxPooling1D, Dense, Flatten, LSTM\n",
        "from keras.models import Sequential\n",
        "from keras import backend\n",
        "# backend.clear_session()\n",
        "\n",
        "tf.compat.v1.random.set_random_seed(SEED)\n",
        "np.random.seed(SEED)\n",
        "\n",
        "model_LSTM = Sequential()\n",
        "model_LSTM.add(Conv1D(filters=32, kernel_size=8, \n",
        "                 input_shape=(x_train.shape[1], 1),activation='relu'))\n",
        "model_LSTM.add(MaxPooling1D(pool_size=2))\n",
        "\n",
        "model_LSTM.add(Conv1D(filters=24, kernel_size=8,activation='relu'))\n",
        "model_LSTM.add(MaxPooling1D(pool_size=2))\n",
        "\n",
        "model_LSTM.add(LSTM(units = 24,\n",
        "                    return_sequences = True))\n",
        "\n",
        "model_LSTM.add(Flatten())\n",
        "model_LSTM.add(Dense(16,activation='relu'))\n",
        "model_LSTM.add(Dense(2,activation='softmax'))\n",
        "\n",
        "model_LSTM.compile(loss='categorical_crossentropy',\n",
        "                   optimizer='adam',\n",
        "                   metrics=['accuracy'])\n",
        "\n",
        "model_LSTM.summary()\n",
        "\n",
        "history_LSTM = model_LSTM.fit(x_train_3d, ynn_train,\n",
        "                              epochs = 15,\n",
        "                              batch_size = 25,\n",
        "                              verbose = 1,\n",
        "                              validation_split = 0.0,\n",
        "                              validation_data = (x_test_3d,ynn_test),\n",
        "                              shuffle = True)"
      ],
      "execution_count": null,
      "outputs": [
        {
          "output_type": "stream",
          "text": [
            "Model: \"sequential_4\"\n",
            "_________________________________________________________________\n",
            "Layer (type)                 Output Shape              Param #   \n",
            "=================================================================\n",
            "conv1d_5 (Conv1D)            (None, 93828, 32)         288       \n",
            "_________________________________________________________________\n",
            "max_pooling1d_5 (MaxPooling1 (None, 46914, 32)         0         \n",
            "_________________________________________________________________\n",
            "conv1d_6 (Conv1D)            (None, 46907, 24)         6168      \n",
            "_________________________________________________________________\n",
            "max_pooling1d_6 (MaxPooling1 (None, 23453, 24)         0         \n",
            "_________________________________________________________________\n",
            "lstm_3 (LSTM)                (None, 23453, 24)         4704      \n",
            "_________________________________________________________________\n",
            "flatten_3 (Flatten)          (None, 562872)            0         \n",
            "_________________________________________________________________\n",
            "dense_5 (Dense)              (None, 16)                9005968   \n",
            "_________________________________________________________________\n",
            "dense_6 (Dense)              (None, 2)                 34        \n",
            "=================================================================\n",
            "Total params: 9,017,162\n",
            "Trainable params: 9,017,162\n",
            "Non-trainable params: 0\n",
            "_________________________________________________________________\n",
            "Train on 11348 samples, validate on 2838 samples\n",
            "Epoch 1/15\n",
            " 8200/11348 [====================>.........] - ETA: 34:55 - loss: 0.5906 - accuracy: 0.6773"
          ],
          "name": "stdout"
        },
        {
          "output_type": "error",
          "ename": "KeyboardInterrupt",
          "evalue": "ignored",
          "traceback": [
            "\u001b[0;31m---------------------------------------------------------------------------\u001b[0m",
            "\u001b[0;31mKeyboardInterrupt\u001b[0m                         Traceback (most recent call last)",
            "\u001b[0;32m<ipython-input-23-89f0ae2fcd08>\u001b[0m in \u001b[0;36m<module>\u001b[0;34m()\u001b[0m\n\u001b[1;32m     34\u001b[0m                               \u001b[0mvalidation_split\u001b[0m \u001b[0;34m=\u001b[0m \u001b[0;36m0.0\u001b[0m\u001b[0;34m,\u001b[0m\u001b[0;34m\u001b[0m\u001b[0;34m\u001b[0m\u001b[0m\n\u001b[1;32m     35\u001b[0m                               \u001b[0mvalidation_data\u001b[0m \u001b[0;34m=\u001b[0m \u001b[0;34m(\u001b[0m\u001b[0mx_test_3d\u001b[0m\u001b[0;34m,\u001b[0m\u001b[0mynn_test\u001b[0m\u001b[0;34m)\u001b[0m\u001b[0;34m,\u001b[0m\u001b[0;34m\u001b[0m\u001b[0;34m\u001b[0m\u001b[0m\n\u001b[0;32m---> 36\u001b[0;31m                               shuffle = True)\n\u001b[0m",
            "\u001b[0;32m/tensorflow-1.15.2/python3.6/keras/engine/training.py\u001b[0m in \u001b[0;36mfit\u001b[0;34m(self, x, y, batch_size, epochs, verbose, callbacks, validation_split, validation_data, shuffle, class_weight, sample_weight, initial_epoch, steps_per_epoch, validation_steps, validation_freq, max_queue_size, workers, use_multiprocessing, **kwargs)\u001b[0m\n\u001b[1;32m   1237\u001b[0m                                         \u001b[0msteps_per_epoch\u001b[0m\u001b[0;34m=\u001b[0m\u001b[0msteps_per_epoch\u001b[0m\u001b[0;34m,\u001b[0m\u001b[0;34m\u001b[0m\u001b[0;34m\u001b[0m\u001b[0m\n\u001b[1;32m   1238\u001b[0m                                         \u001b[0mvalidation_steps\u001b[0m\u001b[0;34m=\u001b[0m\u001b[0mvalidation_steps\u001b[0m\u001b[0;34m,\u001b[0m\u001b[0;34m\u001b[0m\u001b[0;34m\u001b[0m\u001b[0m\n\u001b[0;32m-> 1239\u001b[0;31m                                         validation_freq=validation_freq)\n\u001b[0m\u001b[1;32m   1240\u001b[0m \u001b[0;34m\u001b[0m\u001b[0m\n\u001b[1;32m   1241\u001b[0m     def evaluate(self,\n",
            "\u001b[0;32m/tensorflow-1.15.2/python3.6/keras/engine/training_arrays.py\u001b[0m in \u001b[0;36mfit_loop\u001b[0;34m(model, fit_function, fit_inputs, out_labels, batch_size, epochs, verbose, callbacks, val_function, val_inputs, shuffle, initial_epoch, steps_per_epoch, validation_steps, validation_freq)\u001b[0m\n\u001b[1;32m    194\u001b[0m                     \u001b[0mins_batch\u001b[0m\u001b[0;34m[\u001b[0m\u001b[0mi\u001b[0m\u001b[0;34m]\u001b[0m \u001b[0;34m=\u001b[0m \u001b[0mins_batch\u001b[0m\u001b[0;34m[\u001b[0m\u001b[0mi\u001b[0m\u001b[0;34m]\u001b[0m\u001b[0;34m.\u001b[0m\u001b[0mtoarray\u001b[0m\u001b[0;34m(\u001b[0m\u001b[0;34m)\u001b[0m\u001b[0;34m\u001b[0m\u001b[0;34m\u001b[0m\u001b[0m\n\u001b[1;32m    195\u001b[0m \u001b[0;34m\u001b[0m\u001b[0m\n\u001b[0;32m--> 196\u001b[0;31m                 \u001b[0mouts\u001b[0m \u001b[0;34m=\u001b[0m \u001b[0mfit_function\u001b[0m\u001b[0;34m(\u001b[0m\u001b[0mins_batch\u001b[0m\u001b[0;34m)\u001b[0m\u001b[0;34m\u001b[0m\u001b[0;34m\u001b[0m\u001b[0m\n\u001b[0m\u001b[1;32m    197\u001b[0m                 \u001b[0mouts\u001b[0m \u001b[0;34m=\u001b[0m \u001b[0mto_list\u001b[0m\u001b[0;34m(\u001b[0m\u001b[0mouts\u001b[0m\u001b[0;34m)\u001b[0m\u001b[0;34m\u001b[0m\u001b[0;34m\u001b[0m\u001b[0m\n\u001b[1;32m    198\u001b[0m                 \u001b[0;32mfor\u001b[0m \u001b[0ml\u001b[0m\u001b[0;34m,\u001b[0m \u001b[0mo\u001b[0m \u001b[0;32min\u001b[0m \u001b[0mzip\u001b[0m\u001b[0;34m(\u001b[0m\u001b[0mout_labels\u001b[0m\u001b[0;34m,\u001b[0m \u001b[0mouts\u001b[0m\u001b[0;34m)\u001b[0m\u001b[0;34m:\u001b[0m\u001b[0;34m\u001b[0m\u001b[0;34m\u001b[0m\u001b[0m\n",
            "\u001b[0;32m/tensorflow-1.15.2/python3.6/tensorflow_core/python/keras/backend.py\u001b[0m in \u001b[0;36m__call__\u001b[0;34m(self, inputs)\u001b[0m\n\u001b[1;32m   3474\u001b[0m \u001b[0;34m\u001b[0m\u001b[0m\n\u001b[1;32m   3475\u001b[0m     fetched = self._callable_fn(*array_vals,\n\u001b[0;32m-> 3476\u001b[0;31m                                 run_metadata=self.run_metadata)\n\u001b[0m\u001b[1;32m   3477\u001b[0m     \u001b[0mself\u001b[0m\u001b[0;34m.\u001b[0m\u001b[0m_call_fetch_callbacks\u001b[0m\u001b[0;34m(\u001b[0m\u001b[0mfetched\u001b[0m\u001b[0;34m[\u001b[0m\u001b[0;34m-\u001b[0m\u001b[0mlen\u001b[0m\u001b[0;34m(\u001b[0m\u001b[0mself\u001b[0m\u001b[0;34m.\u001b[0m\u001b[0m_fetches\u001b[0m\u001b[0;34m)\u001b[0m\u001b[0;34m:\u001b[0m\u001b[0;34m]\u001b[0m\u001b[0;34m)\u001b[0m\u001b[0;34m\u001b[0m\u001b[0;34m\u001b[0m\u001b[0m\n\u001b[1;32m   3478\u001b[0m     output_structure = nest.pack_sequence_as(\n",
            "\u001b[0;32m/tensorflow-1.15.2/python3.6/tensorflow_core/python/client/session.py\u001b[0m in \u001b[0;36m__call__\u001b[0;34m(self, *args, **kwargs)\u001b[0m\n\u001b[1;32m   1470\u001b[0m         ret = tf_session.TF_SessionRunCallable(self._session._session,\n\u001b[1;32m   1471\u001b[0m                                                \u001b[0mself\u001b[0m\u001b[0;34m.\u001b[0m\u001b[0m_handle\u001b[0m\u001b[0;34m,\u001b[0m \u001b[0margs\u001b[0m\u001b[0;34m,\u001b[0m\u001b[0;34m\u001b[0m\u001b[0;34m\u001b[0m\u001b[0m\n\u001b[0;32m-> 1472\u001b[0;31m                                                run_metadata_ptr)\n\u001b[0m\u001b[1;32m   1473\u001b[0m         \u001b[0;32mif\u001b[0m \u001b[0mrun_metadata\u001b[0m\u001b[0;34m:\u001b[0m\u001b[0;34m\u001b[0m\u001b[0;34m\u001b[0m\u001b[0m\n\u001b[1;32m   1474\u001b[0m           \u001b[0mproto_data\u001b[0m \u001b[0;34m=\u001b[0m \u001b[0mtf_session\u001b[0m\u001b[0;34m.\u001b[0m\u001b[0mTF_GetBuffer\u001b[0m\u001b[0;34m(\u001b[0m\u001b[0mrun_metadata_ptr\u001b[0m\u001b[0;34m)\u001b[0m\u001b[0;34m\u001b[0m\u001b[0;34m\u001b[0m\u001b[0m\n",
            "\u001b[0;31mKeyboardInterrupt\u001b[0m: "
          ]
        }
      ]
    },
    {
      "cell_type": "code",
      "metadata": {
        "id": "b21wKiZJ_DpY"
      },
      "source": [
        "history_LSTM = model_LSTM.fit(x_train_3d, ynn_train,\n",
        "                              epochs = 25,\n",
        "                              batch_size = 10,\n",
        "                              verbose = 1,\n",
        "                              validation_split = 0.0,\n",
        "                              validation_data = (x_test_3d,ynn_test),\n",
        "                              shuffle = True)"
      ],
      "execution_count": null,
      "outputs": []
    },
    {
      "cell_type": "markdown",
      "metadata": {
        "id": "lM-IGffYxA65"
      },
      "source": [
        "## Plot results"
      ]
    },
    {
      "cell_type": "code",
      "metadata": {
        "id": "Yf8tV5SjXrMz"
      },
      "source": [
        "def perc_val(data):\n",
        "  dtl = []\n",
        "  for dt in data:\n",
        "    dtl.append(dt*100)\n",
        "  return(dtl)\n",
        "\n",
        "lv_list = history_var01_05.history['loss']\n",
        "vlv_list = history_var01_05.history['val_loss']\n",
        "av_list = perc_val(history_var01_05.history['acc'])\n",
        "vav_list = perc_val(history_var01_05.history['val_acc'])"
      ],
      "execution_count": null,
      "outputs": []
    },
    {
      "cell_type": "code",
      "metadata": {
        "id": "LkvRYJLm-Erh",
        "colab": {
          "base_uri": "https://localhost:8080/",
          "height": 639
        },
        "outputId": "ff8d57d0-040f-4ff1-dff1-6e3f8bc34f3d"
      },
      "source": [
        "import matplotlib.pyplot as plt\n",
        "\n",
        "%matplotlib inline\n",
        "plt.figure(figsize=(6,3), dpi=200)\n",
        "epoch_count = range(1, len(history_var01_05.history['val_loss']) + 1)\n",
        "plt.plot(epoch_count, lv_list)\n",
        "plt.plot(epoch_count, vlv_list)\n",
        "plt.title('Model loss')\n",
        "plt.ylabel('Loss')\n",
        "plt.xlabel('Epochs')\n",
        "plt.legend(['Train', 'Validation'])\n",
        "plt.show()"
      ],
      "execution_count": null,
      "outputs": [
        {
          "output_type": "display_data",
          "data": {
            "image/png": "[encoded data removed]",
            "text/plain": [
              "<Figure size 1200x600 with 1 Axes>"
            ]
          },
          "metadata": {
            "tags": [],
            "needs_background": "light"
          }
        }
      ]
    },
    {
      "cell_type": "code",
      "metadata": {
        "id": "aYg1jkqO-c8i",
        "colab": {
          "base_uri": "https://localhost:8080/",
          "height": 639
        },
        "outputId": "21842ea3-12b4-4c5e-c0e1-f926100886b6"
      },
      "source": [
        "plt.figure(figsize=(6,3), dpi=200)\n",
        "epoch_count = range(1, len(history_var01_05.history['val_acc']) + 1)\n",
        "plt.plot(epoch_count, av_list)\n",
        "plt.plot(epoch_count, vav_list)\n",
        "plt.title('Model accuracy')\n",
        "plt.ylabel('Accuracy (%)')\n",
        "plt.xlabel('Epoch')\n",
        "plt.legend(['Train', 'Validation'])\n",
        "plt.show()"
      ],
      "execution_count": null,
      "outputs": [
        {
          "output_type": "display_data",
          "data": {
            "image/png": "[encoded data removed]",
            "text/plain": [
              "<Figure size 1200x600 with 1 Axes>"
            ]
          },
          "metadata": {
            "tags": [],
            "needs_background": "light"
          }
        }
      ]
    },
    {
      "cell_type": "code",
      "metadata": {
        "id": "ZNI45cjbYrfY"
      },
      "source": [
        "from tensorflow.keras.models import load_model\n",
        "mdl_ld = load_model(\"/content/drive/My Drive/model_var01.05.wb.hdf5\")"
      ],
      "execution_count": null,
      "outputs": []
    },
    {
      "cell_type": "code",
      "metadata": {
        "id": "bAvPpLZLKiCU"
      },
      "source": [
        "pred = mdl_ld.predict(x_test_3d)\n",
        "pred = np.argmax(pred, axis = 1)\n",
        "lab = np.argmax(ynn_test,axis = 1)"
      ],
      "execution_count": null,
      "outputs": []
    },
    {
      "cell_type": "code",
      "metadata": {
        "id": "CWy9SENT6Uu8",
        "colab": {
          "base_uri": "https://localhost:8080/",
          "height": 170
        },
        "outputId": "0b41292a-d1f8-48a1-f364-91cc25250b55"
      },
      "source": [
        "from sklearn.metrics import classification_report\n",
        "\n",
        "print(classification_report(lab,pred))"
      ],
      "execution_count": null,
      "outputs": [
        {
          "output_type": "stream",
          "text": [
            "              precision    recall  f1-score   support\n",
            "\n",
            "           0       0.95      0.93      0.94      1555\n",
            "           1       0.92      0.94      0.93      1283\n",
            "\n",
            "    accuracy                           0.94      2838\n",
            "   macro avg       0.93      0.94      0.93      2838\n",
            "weighted avg       0.94      0.94      0.94      2838\n",
            "\n"
          ],
          "name": "stdout"
        }
      ]
    },
    {
      "cell_type": "code",
      "metadata": {
        "id": "bjCCO0A1BoPs",
        "colab": {
          "base_uri": "https://localhost:8080/",
          "height": 530
        },
        "outputId": "a71a4bae-dce5-4bb1-c2e0-83e5f5be386c"
      },
      "source": [
        "import seaborn as sns\n",
        "import matplotlib.pyplot as plt\n",
        "from sklearn.metrics import confusion_matrix\n",
        "\n",
        "%matplotlib inline\n",
        "\n",
        "plt.figure(figsize=(8,8))\n",
        "plt.title(\"Confusion matrix\")\n",
        "\n",
        "categorias = ['RD','TE']\n",
        "sns.heatmap(confusion_matrix(lab,pred),\n",
        "            annot=True,\n",
        "            fmt='d',\n",
        "            cmap=\"Blues\",\n",
        "            cbar=False,\n",
        "            xticklabels=categorias,\n",
        "            yticklabels=categorias)\n",
        "\n",
        "plt.ylabel('True Label')\n",
        "plt.xlabel('Predicted Label')"
      ],
      "execution_count": null,
      "outputs": [
        {
          "output_type": "execute_result",
          "data": {
            "text/plain": [
              "Text(0.5, 51.0, 'Predicted Label')"
            ]
          },
          "metadata": {
            "tags": []
          },
          "execution_count": 74
        },
        {
          "output_type": "display_data",
          "data": {
            "image/png": "[encoded data removed]",
            "text/plain": [
              "<Figure size 576x576 with 1 Axes>"
            ]
          },
          "metadata": {
            "tags": [],
            "needs_background": "light"
          }
        }
      ]
    },
    {
      "cell_type": "code",
      "metadata": {
        "id": "GVfA9RmQDFDB",
        "colab": {
          "base_uri": "https://localhost:8080/",
          "height": 346
        },
        "outputId": "4992a3ff-795a-493a-fe6d-f176154e38c0"
      },
      "source": [
        "from sklearn.metrics import confusion_matrix\n",
        "import itertools\n",
        "\n",
        "cm = confusion_matrix(np.argmax(ynn_test, axis=1), \n",
        "                      np.argmax(predicted_labels, axis=1))\n",
        "print('Confusion matrix:\\n',cm)\n",
        "\n",
        "cm = cm.astype('float') / cm.sum(axis = 1)[:, np.newaxis]\n",
        "\n",
        "plt.imshow(cm, cmap=plt.cm.Blues)\n",
        "plt.title('Normalized confusion matrix')\n",
        "plt.colorbar()\n",
        "plt.xlabel('True label')\n",
        "plt.ylabel('Predicted label')\n",
        "plt.xticks([0, 1]); plt.yticks([0, 1])\n",
        "plt.grid('off')\n",
        "for i, j in itertools.product(range(cm.shape[0]), range(cm.shape[1])):\n",
        "    plt.text(j, i, format(cm[i, j], '.2f'),\n",
        "             horizontalalignment='center',\n",
        "             color='white' if cm[i, j] > 0.5 else 'black')"
      ],
      "execution_count": null,
      "outputs": [
        {
          "output_type": "stream",
          "text": [
            "Confusion matrix:\n",
            " [[1504   50]\n",
            " [  87 1078]]\n"
          ],
          "name": "stdout"
        },
        {
          "output_type": "display_data",
          "data": {
            "image/png": "[encoded data removed]",
            "text/plain": [
              "<Figure size 432x288 with 2 Axes>"
            ]
          },
          "metadata": {
            "tags": [],
            "needs_background": "light"
          }
        }
      ]
    },
    {
      "cell_type": "markdown",
      "metadata": {
        "id": "f-fhmddLKHjA"
      },
      "source": [
        "## Validation tests with external data"
      ]
    },
    {
      "cell_type": "markdown",
      "metadata": {
        "id": "Ovlwxgy8dHlk"
      },
      "source": [
        "TEs validation"
      ]
    },
    {
      "cell_type": "code",
      "metadata": {
        "id": "UFvm7j6TDYE8"
      },
      "source": [
        "user_frame = fasta_frame('/content/drive/My Drive/fastas/tes_validation.fasta','?')\n",
        "pad_frame = fasta_frame('/content/drive/My Drive/fastas/pad_ref3.fasta','?')\n",
        "u_f = [user_frame,pad_frame]\n",
        "user_df = pd.concat(u_f,ignore_index=True)\n",
        "\n",
        "# OHE & flat sequences \n",
        "user_df_ohe = ohe_fun(user_df)\n",
        "user_df_flat=flatten_sequence(user_df_ohe)\n",
        "\n",
        "# Remove pad_ref\n",
        "user_seq_to_pred = np.delete(user_df_flat, -1, 0)"
      ],
      "execution_count": null,
      "outputs": []
    },
    {
      "cell_type": "code",
      "metadata": {
        "id": "RDfH-uyB33m7",
        "colab": {
          "base_uri": "https://localhost:8080/",
          "height": 85
        },
        "outputId": "ab11475b-a283-4e7f-8d9d-3b16d945173e"
      },
      "source": [
        "predicted_labels_val_05_01 = mdl_ld.predict(np.expand_dims(user_seq_to_pred, axis=2))\n",
        "print(\"Modelo 05_01\")\n",
        "print(predicted_labels_val_05_01.argmax(axis=-1))"
      ],
      "execution_count": null,
      "outputs": [
        {
          "output_type": "stream",
          "text": [
            "Modelo 05_01\n",
            "[1 1 1 1 1 1 1 1 1 1 1 1 1 1 1 1 1 1 1 1 1 1 1 1 1 1 1 1 1 1 1 1 1 1 1 1 0\n",
            " 0 1 1 1 1 1 1 1 1 1 1 1 1 1 1 1 1 1 1 1 0 1 1 1 1 1 1 1 1 1 1 1 1 1 1 1 1\n",
            " 1 1 1 1 1 1 1 1 1 1 1 0 1 1 1 1 1 1 0 1 1 1 1 1 1 1 1 1]\n"
          ],
          "name": "stdout"
        }
      ]
    },
    {
      "cell_type": "markdown",
      "metadata": {
        "id": "A-znZy32dFaM"
      },
      "source": [
        "Human genes"
      ]
    },
    {
      "cell_type": "code",
      "metadata": {
        "id": "LWgpik4TLpKI"
      },
      "source": [
        "user_frame_hg = fasta_frame('/content/drive/My Drive/fastas/human_genes.fasta','?')\n",
        "pad_frame = fasta_frame('/content/drive/My Drive/fastas/pad_ref3.fasta','?')\n",
        "u_f_hg = [user_frame_hg,pad_frame]\n",
        "user_df_hg = pd.concat(u_f_hg,ignore_index=True)\n",
        "\n",
        "# OHE & flat sequences \n",
        "user_df_ohe_hg = ohe_fun(user_df_hg)\n",
        "user_df_flat_hg=flatten_sequence(user_df_ohe_hg)\n",
        "\n",
        "# Remove pad_ref\n",
        "user_seq_to_pred_hg = np.delete(user_df_flat_hg, -1, 0)"
      ],
      "execution_count": null,
      "outputs": []
    },
    {
      "cell_type": "code",
      "metadata": {
        "id": "LzjD8uLsSo5u",
        "colab": {
          "base_uri": "https://localhost:8080/",
          "height": 51
        },
        "outputId": "9a9abbb0-4b49-4edc-e21c-2dd169af2f9b"
      },
      "source": [
        "predicted_labels_hg_05_01 = mdl_ld.predict(np.expand_dims(user_seq_to_pred_hg, axis=2))\n",
        "print(\"Modelo 05_01\")\n",
        "print(predicted_labels_hg_05_01.argmax(axis=-1))"
      ],
      "execution_count": null,
      "outputs": [
        {
          "output_type": "stream",
          "text": [
            "Modelo 05_01\n",
            "[0 0 0 0 0 0 0 1 0 0 1 0 0 0 0]\n"
          ],
          "name": "stdout"
        }
      ]
    }
  ]
}